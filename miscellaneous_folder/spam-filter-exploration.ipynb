{
 "cells": [
  {
   "cell_type": "markdown",
   "metadata": {
    "papermill": {
     "duration": 0.035976,
     "end_time": "2021-02-24T09:15:16.747926",
     "exception": false,
     "start_time": "2021-02-24T09:15:16.711950",
     "status": "completed"
    },
    "tags": []
   },
   "source": [
    "Hi all, this is my attempt at building a spam filter from the `sms-spam-collection-dataset`."
   ]
  },
  {
   "cell_type": "code",
   "execution_count": 1,
   "metadata": {
    "execution": {
     "iopub.execute_input": "2021-02-24T09:15:16.826237Z",
     "iopub.status.busy": "2021-02-24T09:15:16.825417Z",
     "iopub.status.idle": "2021-02-24T09:15:18.012936Z",
     "shell.execute_reply": "2021-02-24T09:15:18.012072Z"
    },
    "papermill": {
     "duration": 1.231146,
     "end_time": "2021-02-24T09:15:18.013181",
     "exception": false,
     "start_time": "2021-02-24T09:15:16.782035",
     "status": "completed"
    },
    "tags": []
   },
   "outputs": [],
   "source": [
    "import numpy as np\n",
    "import pandas as pd\n",
    "import matplotlib.pyplot as plt\n",
    "import seaborn as sns\n",
    "from sklearn.model_selection import train_test_split, GridSearchCV\n",
    "from sklearn.feature_extraction.text import CountVectorizer\n",
    "from sklearn.naive_bayes import MultinomialNB\n",
    "from sklearn import metrics\n",
    "from sklearn.metrics import classification_report,confusion_matrix\n",
    "from sklearn.pipeline import Pipeline\n",
    "plt.style.use('ggplot')\n",
    "%matplotlib inline"
   ]
  },
  {
   "cell_type": "markdown",
   "metadata": {
    "papermill": {
     "duration": 0.033673,
     "end_time": "2021-02-24T09:15:18.081063",
     "exception": false,
     "start_time": "2021-02-24T09:15:18.047390",
     "status": "completed"
    },
    "tags": []
   },
   "source": [
    "First we read the csv file."
   ]
  },
  {
   "cell_type": "code",
   "execution_count": 2,
   "metadata": {
    "execution": {
     "iopub.execute_input": "2021-02-24T09:15:18.157080Z",
     "iopub.status.busy": "2021-02-24T09:15:18.156316Z",
     "iopub.status.idle": "2021-02-24T09:15:18.309366Z",
     "shell.execute_reply": "2021-02-24T09:15:18.308774Z"
    },
    "papermill": {
     "duration": 0.191992,
     "end_time": "2021-02-24T09:15:18.309547",
     "exception": false,
     "start_time": "2021-02-24T09:15:18.117555",
     "status": "completed"
    },
    "tags": []
   },
   "outputs": [
    {
     "data": {
      "text/html": [
       "<div>\n",
       "<style scoped>\n",
       "    .dataframe tbody tr th:only-of-type {\n",
       "        vertical-align: middle;\n",
       "    }\n",
       "\n",
       "    .dataframe tbody tr th {\n",
       "        vertical-align: top;\n",
       "    }\n",
       "\n",
       "    .dataframe thead th {\n",
       "        text-align: right;\n",
       "    }\n",
       "</style>\n",
       "<table border=\"1\" class=\"dataframe\">\n",
       "  <thead>\n",
       "    <tr style=\"text-align: right;\">\n",
       "      <th></th>\n",
       "      <th>v1</th>\n",
       "      <th>v2</th>\n",
       "      <th>Unnamed: 2</th>\n",
       "      <th>Unnamed: 3</th>\n",
       "      <th>Unnamed: 4</th>\n",
       "    </tr>\n",
       "  </thead>\n",
       "  <tbody>\n",
       "    <tr>\n",
       "      <th>0</th>\n",
       "      <td>ham</td>\n",
       "      <td>Go until jurong point, crazy.. Available only ...</td>\n",
       "      <td>NaN</td>\n",
       "      <td>NaN</td>\n",
       "      <td>NaN</td>\n",
       "    </tr>\n",
       "    <tr>\n",
       "      <th>1</th>\n",
       "      <td>ham</td>\n",
       "      <td>Ok lar... Joking wif u oni...</td>\n",
       "      <td>NaN</td>\n",
       "      <td>NaN</td>\n",
       "      <td>NaN</td>\n",
       "    </tr>\n",
       "    <tr>\n",
       "      <th>2</th>\n",
       "      <td>spam</td>\n",
       "      <td>Free entry in 2 a wkly comp to win FA Cup fina...</td>\n",
       "      <td>NaN</td>\n",
       "      <td>NaN</td>\n",
       "      <td>NaN</td>\n",
       "    </tr>\n",
       "    <tr>\n",
       "      <th>3</th>\n",
       "      <td>ham</td>\n",
       "      <td>U dun say so early hor... U c already then say...</td>\n",
       "      <td>NaN</td>\n",
       "      <td>NaN</td>\n",
       "      <td>NaN</td>\n",
       "    </tr>\n",
       "    <tr>\n",
       "      <th>4</th>\n",
       "      <td>ham</td>\n",
       "      <td>Nah I don't think he goes to usf, he lives aro...</td>\n",
       "      <td>NaN</td>\n",
       "      <td>NaN</td>\n",
       "      <td>NaN</td>\n",
       "    </tr>\n",
       "    <tr>\n",
       "      <th>...</th>\n",
       "      <td>...</td>\n",
       "      <td>...</td>\n",
       "      <td>...</td>\n",
       "      <td>...</td>\n",
       "      <td>...</td>\n",
       "    </tr>\n",
       "    <tr>\n",
       "      <th>5567</th>\n",
       "      <td>spam</td>\n",
       "      <td>This is the 2nd time we have tried 2 contact u...</td>\n",
       "      <td>NaN</td>\n",
       "      <td>NaN</td>\n",
       "      <td>NaN</td>\n",
       "    </tr>\n",
       "    <tr>\n",
       "      <th>5568</th>\n",
       "      <td>ham</td>\n",
       "      <td>Will Ì_ b going to esplanade fr home?</td>\n",
       "      <td>NaN</td>\n",
       "      <td>NaN</td>\n",
       "      <td>NaN</td>\n",
       "    </tr>\n",
       "    <tr>\n",
       "      <th>5569</th>\n",
       "      <td>ham</td>\n",
       "      <td>Pity, * was in mood for that. So...any other s...</td>\n",
       "      <td>NaN</td>\n",
       "      <td>NaN</td>\n",
       "      <td>NaN</td>\n",
       "    </tr>\n",
       "    <tr>\n",
       "      <th>5570</th>\n",
       "      <td>ham</td>\n",
       "      <td>The guy did some bitching but I acted like i'd...</td>\n",
       "      <td>NaN</td>\n",
       "      <td>NaN</td>\n",
       "      <td>NaN</td>\n",
       "    </tr>\n",
       "    <tr>\n",
       "      <th>5571</th>\n",
       "      <td>ham</td>\n",
       "      <td>Rofl. Its true to its name</td>\n",
       "      <td>NaN</td>\n",
       "      <td>NaN</td>\n",
       "      <td>NaN</td>\n",
       "    </tr>\n",
       "  </tbody>\n",
       "</table>\n",
       "<p>5572 rows × 5 columns</p>\n",
       "</div>"
      ],
      "text/plain": [
       "        v1                                                 v2 Unnamed: 2  \\\n",
       "0      ham  Go until jurong point, crazy.. Available only ...        NaN   \n",
       "1      ham                      Ok lar... Joking wif u oni...        NaN   \n",
       "2     spam  Free entry in 2 a wkly comp to win FA Cup fina...        NaN   \n",
       "3      ham  U dun say so early hor... U c already then say...        NaN   \n",
       "4      ham  Nah I don't think he goes to usf, he lives aro...        NaN   \n",
       "...    ...                                                ...        ...   \n",
       "5567  spam  This is the 2nd time we have tried 2 contact u...        NaN   \n",
       "5568   ham              Will Ì_ b going to esplanade fr home?        NaN   \n",
       "5569   ham  Pity, * was in mood for that. So...any other s...        NaN   \n",
       "5570   ham  The guy did some bitching but I acted like i'd...        NaN   \n",
       "5571   ham                         Rofl. Its true to its name        NaN   \n",
       "\n",
       "     Unnamed: 3 Unnamed: 4  \n",
       "0           NaN        NaN  \n",
       "1           NaN        NaN  \n",
       "2           NaN        NaN  \n",
       "3           NaN        NaN  \n",
       "4           NaN        NaN  \n",
       "...         ...        ...  \n",
       "5567        NaN        NaN  \n",
       "5568        NaN        NaN  \n",
       "5569        NaN        NaN  \n",
       "5570        NaN        NaN  \n",
       "5571        NaN        NaN  \n",
       "\n",
       "[5572 rows x 5 columns]"
      ]
     },
     "execution_count": 2,
     "metadata": {},
     "output_type": "execute_result"
    }
   ],
   "source": [
    "df = pd.read_csv('../input/sms-spam-collection-dataset/spam.csv',encoding='latin-1')\n",
    "df"
   ]
  },
  {
   "cell_type": "code",
   "execution_count": 3,
   "metadata": {
    "execution": {
     "iopub.execute_input": "2021-02-24T09:15:18.390815Z",
     "iopub.status.busy": "2021-02-24T09:15:18.389407Z",
     "iopub.status.idle": "2021-02-24T09:15:18.393586Z",
     "shell.execute_reply": "2021-02-24T09:15:18.394218Z"
    },
    "papermill": {
     "duration": 0.049818,
     "end_time": "2021-02-24T09:15:18.394416",
     "exception": false,
     "start_time": "2021-02-24T09:15:18.344598",
     "status": "completed"
    },
    "tags": []
   },
   "outputs": [
    {
     "data": {
      "text/plain": [
       "v1               0\n",
       "v2               0\n",
       "Unnamed: 2    5522\n",
       "Unnamed: 3    5560\n",
       "Unnamed: 4    5566\n",
       "dtype: int64"
      ]
     },
     "execution_count": 3,
     "metadata": {},
     "output_type": "execute_result"
    }
   ],
   "source": [
    "df.isna().sum()"
   ]
  },
  {
   "cell_type": "markdown",
   "metadata": {
    "papermill": {
     "duration": 0.035253,
     "end_time": "2021-02-24T09:15:18.465528",
     "exception": false,
     "start_time": "2021-02-24T09:15:18.430275",
     "status": "completed"
    },
    "tags": []
   },
   "source": [
    "Let's examine the columns to see what is going on."
   ]
  },
  {
   "cell_type": "code",
   "execution_count": 4,
   "metadata": {
    "execution": {
     "iopub.execute_input": "2021-02-24T09:15:18.553263Z",
     "iopub.status.busy": "2021-02-24T09:15:18.552074Z",
     "iopub.status.idle": "2021-02-24T09:15:18.557306Z",
     "shell.execute_reply": "2021-02-24T09:15:18.556536Z"
    },
    "papermill": {
     "duration": 0.056076,
     "end_time": "2021-02-24T09:15:18.557490",
     "exception": false,
     "start_time": "2021-02-24T09:15:18.501414",
     "status": "completed"
    },
    "tags": []
   },
   "outputs": [
    {
     "data": {
      "text/html": [
       "<div>\n",
       "<style scoped>\n",
       "    .dataframe tbody tr th:only-of-type {\n",
       "        vertical-align: middle;\n",
       "    }\n",
       "\n",
       "    .dataframe tbody tr th {\n",
       "        vertical-align: top;\n",
       "    }\n",
       "\n",
       "    .dataframe thead th {\n",
       "        text-align: right;\n",
       "    }\n",
       "</style>\n",
       "<table border=\"1\" class=\"dataframe\">\n",
       "  <thead>\n",
       "    <tr style=\"text-align: right;\">\n",
       "      <th></th>\n",
       "      <th>v1</th>\n",
       "      <th>v2</th>\n",
       "      <th>Unnamed: 2</th>\n",
       "      <th>Unnamed: 3</th>\n",
       "      <th>Unnamed: 4</th>\n",
       "    </tr>\n",
       "  </thead>\n",
       "  <tbody>\n",
       "    <tr>\n",
       "      <th>95</th>\n",
       "      <td>spam</td>\n",
       "      <td>Your free ringtone is waiting to be collected....</td>\n",
       "      <td>PO Box 5249</td>\n",
       "      <td>MK17 92H. 450Ppw 16\"</td>\n",
       "      <td>NaN</td>\n",
       "    </tr>\n",
       "    <tr>\n",
       "      <th>281</th>\n",
       "      <td>ham</td>\n",
       "      <td>\\Wen u miss someone</td>\n",
       "      <td>the person is definitely special for u..... B...</td>\n",
       "      <td>why to miss them</td>\n",
       "      <td>just Keep-in-touch\\\" gdeve..\"</td>\n",
       "    </tr>\n",
       "    <tr>\n",
       "      <th>444</th>\n",
       "      <td>ham</td>\n",
       "      <td>\\HEY HEY WERETHE MONKEESPEOPLE SAY WE MONKEYAR...</td>\n",
       "      <td>HOWU DOIN? FOUNDURSELF A JOBYET SAUSAGE?LOVE ...</td>\n",
       "      <td>NaN</td>\n",
       "      <td>NaN</td>\n",
       "    </tr>\n",
       "    <tr>\n",
       "      <th>671</th>\n",
       "      <td>spam</td>\n",
       "      <td>SMS. ac sun0819 posts HELLO:\\You seem cool</td>\n",
       "      <td>wanted to say hi. HI!!!\\\" Stop? Send STOP to ...</td>\n",
       "      <td>NaN</td>\n",
       "      <td>NaN</td>\n",
       "    </tr>\n",
       "    <tr>\n",
       "      <th>710</th>\n",
       "      <td>ham</td>\n",
       "      <td>Height of Confidence: All the Aeronautics prof...</td>\n",
       "      <td>this wont even start........ Datz confidence..\"</td>\n",
       "      <td>NaN</td>\n",
       "      <td>NaN</td>\n",
       "    </tr>\n",
       "  </tbody>\n",
       "</table>\n",
       "</div>"
      ],
      "text/plain": [
       "       v1                                                 v2  \\\n",
       "95   spam  Your free ringtone is waiting to be collected....   \n",
       "281   ham                                \\Wen u miss someone   \n",
       "444   ham  \\HEY HEY WERETHE MONKEESPEOPLE SAY WE MONKEYAR...   \n",
       "671  spam         SMS. ac sun0819 posts HELLO:\\You seem cool   \n",
       "710   ham  Height of Confidence: All the Aeronautics prof...   \n",
       "\n",
       "                                            Unnamed: 2             Unnamed: 3  \\\n",
       "95                                         PO Box 5249   MK17 92H. 450Ppw 16\"   \n",
       "281   the person is definitely special for u..... B...       why to miss them   \n",
       "444   HOWU DOIN? FOUNDURSELF A JOBYET SAUSAGE?LOVE ...                    NaN   \n",
       "671   wanted to say hi. HI!!!\\\" Stop? Send STOP to ...                    NaN   \n",
       "710    this wont even start........ Datz confidence..\"                    NaN   \n",
       "\n",
       "                         Unnamed: 4  \n",
       "95                              NaN  \n",
       "281   just Keep-in-touch\\\" gdeve..\"  \n",
       "444                             NaN  \n",
       "671                             NaN  \n",
       "710                             NaN  "
      ]
     },
     "execution_count": 4,
     "metadata": {},
     "output_type": "execute_result"
    }
   ],
   "source": [
    "df[df['Unnamed: 2'].notnull()].head()"
   ]
  },
  {
   "cell_type": "markdown",
   "metadata": {
    "papermill": {
     "duration": 0.035643,
     "end_time": "2021-02-24T09:15:18.628838",
     "exception": false,
     "start_time": "2021-02-24T09:15:18.593195",
     "status": "completed"
    },
    "tags": []
   },
   "source": [
    "They seem to be multiple lines of text, lets add them to the same column."
   ]
  },
  {
   "cell_type": "code",
   "execution_count": 5,
   "metadata": {
    "execution": {
     "iopub.execute_input": "2021-02-24T09:15:18.711554Z",
     "iopub.status.busy": "2021-02-24T09:15:18.710227Z",
     "iopub.status.idle": "2021-02-24T09:15:18.714245Z",
     "shell.execute_reply": "2021-02-24T09:15:18.713496Z"
    },
    "papermill": {
     "duration": 0.049835,
     "end_time": "2021-02-24T09:15:18.714429",
     "exception": false,
     "start_time": "2021-02-24T09:15:18.664594",
     "status": "completed"
    },
    "tags": []
   },
   "outputs": [],
   "source": [
    "df = df.fillna(0)"
   ]
  },
  {
   "cell_type": "code",
   "execution_count": 6,
   "metadata": {
    "execution": {
     "iopub.execute_input": "2021-02-24T09:15:18.798121Z",
     "iopub.status.busy": "2021-02-24T09:15:18.797300Z",
     "iopub.status.idle": "2021-02-24T09:15:19.505364Z",
     "shell.execute_reply": "2021-02-24T09:15:19.504712Z"
    },
    "papermill": {
     "duration": 0.753375,
     "end_time": "2021-02-24T09:15:19.505541",
     "exception": false,
     "start_time": "2021-02-24T09:15:18.752166",
     "status": "completed"
    },
    "tags": []
   },
   "outputs": [],
   "source": [
    "for index,row in df.iterrows():\n",
    "    if row[2] != 0:\n",
    "        df.loc[index,'v2'] = df.loc[index,'v2'] +' '+str(row[2])\n",
    "        if row[3] != 0:\n",
    "            df.loc[index,'v2'] = df.loc[index,'v2'] + ' '+ str(row[3])\n",
    "            if row[4] != 0:\n",
    "                df.loc[index,'v2'] = df.loc[index,'v2'] + ' '+ str(row[4])\n",
    "\n",
    "\n",
    "  "
   ]
  },
  {
   "cell_type": "markdown",
   "metadata": {
    "papermill": {
     "duration": 0.036073,
     "end_time": "2021-02-24T09:15:19.578148",
     "exception": false,
     "start_time": "2021-02-24T09:15:19.542075",
     "status": "completed"
    },
    "tags": []
   },
   "source": [
    "Let's check the data."
   ]
  },
  {
   "cell_type": "code",
   "execution_count": 7,
   "metadata": {
    "execution": {
     "iopub.execute_input": "2021-02-24T09:15:19.658093Z",
     "iopub.status.busy": "2021-02-24T09:15:19.657188Z",
     "iopub.status.idle": "2021-02-24T09:15:19.662864Z",
     "shell.execute_reply": "2021-02-24T09:15:19.662125Z"
    },
    "papermill": {
     "duration": 0.048219,
     "end_time": "2021-02-24T09:15:19.663034",
     "exception": false,
     "start_time": "2021-02-24T09:15:19.614815",
     "status": "completed"
    },
    "tags": []
   },
   "outputs": [
    {
     "data": {
      "text/plain": [
       "'\\\\Wen u miss someone  the person is definitely special for u..... But if the person is so special  why to miss them  just Keep-in-touch\\\\\" gdeve..\"'"
      ]
     },
     "execution_count": 7,
     "metadata": {},
     "output_type": "execute_result"
    }
   ],
   "source": [
    "df.loc[281,'v2']"
   ]
  },
  {
   "cell_type": "code",
   "execution_count": 8,
   "metadata": {
    "execution": {
     "iopub.execute_input": "2021-02-24T09:15:19.753067Z",
     "iopub.status.busy": "2021-02-24T09:15:19.752264Z",
     "iopub.status.idle": "2021-02-24T09:15:19.757997Z",
     "shell.execute_reply": "2021-02-24T09:15:19.757224Z"
    },
    "papermill": {
     "duration": 0.057749,
     "end_time": "2021-02-24T09:15:19.758157",
     "exception": false,
     "start_time": "2021-02-24T09:15:19.700408",
     "status": "completed"
    },
    "tags": []
   },
   "outputs": [
    {
     "data": {
      "text/html": [
       "<div>\n",
       "<style scoped>\n",
       "    .dataframe tbody tr th:only-of-type {\n",
       "        vertical-align: middle;\n",
       "    }\n",
       "\n",
       "    .dataframe tbody tr th {\n",
       "        vertical-align: top;\n",
       "    }\n",
       "\n",
       "    .dataframe thead th {\n",
       "        text-align: right;\n",
       "    }\n",
       "</style>\n",
       "<table border=\"1\" class=\"dataframe\">\n",
       "  <thead>\n",
       "    <tr style=\"text-align: right;\">\n",
       "      <th></th>\n",
       "      <th>v1</th>\n",
       "      <th>v2</th>\n",
       "      <th>Unnamed: 2</th>\n",
       "      <th>Unnamed: 3</th>\n",
       "      <th>Unnamed: 4</th>\n",
       "    </tr>\n",
       "  </thead>\n",
       "  <tbody>\n",
       "    <tr>\n",
       "      <th>95</th>\n",
       "      <td>spam</td>\n",
       "      <td>Your free ringtone is waiting to be collected....</td>\n",
       "      <td>PO Box 5249</td>\n",
       "      <td>MK17 92H. 450Ppw 16\"</td>\n",
       "      <td>0</td>\n",
       "    </tr>\n",
       "    <tr>\n",
       "      <th>281</th>\n",
       "      <td>ham</td>\n",
       "      <td>\\Wen u miss someone  the person is definitely ...</td>\n",
       "      <td>the person is definitely special for u..... B...</td>\n",
       "      <td>why to miss them</td>\n",
       "      <td>just Keep-in-touch\\\" gdeve..\"</td>\n",
       "    </tr>\n",
       "    <tr>\n",
       "      <th>444</th>\n",
       "      <td>ham</td>\n",
       "      <td>\\HEY HEY WERETHE MONKEESPEOPLE SAY WE MONKEYAR...</td>\n",
       "      <td>HOWU DOIN? FOUNDURSELF A JOBYET SAUSAGE?LOVE ...</td>\n",
       "      <td>0</td>\n",
       "      <td>0</td>\n",
       "    </tr>\n",
       "    <tr>\n",
       "      <th>671</th>\n",
       "      <td>spam</td>\n",
       "      <td>SMS. ac sun0819 posts HELLO:\\You seem cool  wa...</td>\n",
       "      <td>wanted to say hi. HI!!!\\\" Stop? Send STOP to ...</td>\n",
       "      <td>0</td>\n",
       "      <td>0</td>\n",
       "    </tr>\n",
       "    <tr>\n",
       "      <th>710</th>\n",
       "      <td>ham</td>\n",
       "      <td>Height of Confidence: All the Aeronautics prof...</td>\n",
       "      <td>this wont even start........ Datz confidence..\"</td>\n",
       "      <td>0</td>\n",
       "      <td>0</td>\n",
       "    </tr>\n",
       "  </tbody>\n",
       "</table>\n",
       "</div>"
      ],
      "text/plain": [
       "       v1                                                 v2  \\\n",
       "95   spam  Your free ringtone is waiting to be collected....   \n",
       "281   ham  \\Wen u miss someone  the person is definitely ...   \n",
       "444   ham  \\HEY HEY WERETHE MONKEESPEOPLE SAY WE MONKEYAR...   \n",
       "671  spam  SMS. ac sun0819 posts HELLO:\\You seem cool  wa...   \n",
       "710   ham  Height of Confidence: All the Aeronautics prof...   \n",
       "\n",
       "                                            Unnamed: 2             Unnamed: 3  \\\n",
       "95                                         PO Box 5249   MK17 92H. 450Ppw 16\"   \n",
       "281   the person is definitely special for u..... B...       why to miss them   \n",
       "444   HOWU DOIN? FOUNDURSELF A JOBYET SAUSAGE?LOVE ...                      0   \n",
       "671   wanted to say hi. HI!!!\\\" Stop? Send STOP to ...                      0   \n",
       "710    this wont even start........ Datz confidence..\"                      0   \n",
       "\n",
       "                         Unnamed: 4  \n",
       "95                                0  \n",
       "281   just Keep-in-touch\\\" gdeve..\"  \n",
       "444                               0  \n",
       "671                               0  \n",
       "710                               0  "
      ]
     },
     "execution_count": 8,
     "metadata": {},
     "output_type": "execute_result"
    }
   ],
   "source": [
    "df[df['Unnamed: 2'] != 0].head()"
   ]
  },
  {
   "cell_type": "markdown",
   "metadata": {
    "papermill": {
     "duration": 0.046342,
     "end_time": "2021-02-24T09:15:19.841992",
     "exception": false,
     "start_time": "2021-02-24T09:15:19.795650",
     "status": "completed"
    },
    "tags": []
   },
   "source": [
    "The columns have combined, now we can do our analysis and not miss out on any data!"
   ]
  },
  {
   "cell_type": "code",
   "execution_count": 9,
   "metadata": {
    "execution": {
     "iopub.execute_input": "2021-02-24T09:15:19.941818Z",
     "iopub.status.busy": "2021-02-24T09:15:19.940711Z",
     "iopub.status.idle": "2021-02-24T09:15:19.946656Z",
     "shell.execute_reply": "2021-02-24T09:15:19.945831Z"
    },
    "papermill": {
     "duration": 0.060098,
     "end_time": "2021-02-24T09:15:19.946836",
     "exception": false,
     "start_time": "2021-02-24T09:15:19.886738",
     "status": "completed"
    },
    "tags": []
   },
   "outputs": [
    {
     "data": {
      "text/plain": [
       "Index(['v1', 'v2', 'Unnamed: 2', 'Unnamed: 3', 'Unnamed: 4'], dtype='object')"
      ]
     },
     "execution_count": 9,
     "metadata": {},
     "output_type": "execute_result"
    }
   ],
   "source": [
    "cols = df.columns\n",
    "cols"
   ]
  },
  {
   "cell_type": "code",
   "execution_count": 10,
   "metadata": {
    "execution": {
     "iopub.execute_input": "2021-02-24T09:15:20.037545Z",
     "iopub.status.busy": "2021-02-24T09:15:20.036451Z",
     "iopub.status.idle": "2021-02-24T09:15:20.039904Z",
     "shell.execute_reply": "2021-02-24T09:15:20.039273Z"
    },
    "papermill": {
     "duration": 0.04881,
     "end_time": "2021-02-24T09:15:20.040072",
     "exception": false,
     "start_time": "2021-02-24T09:15:19.991262",
     "status": "completed"
    },
    "tags": []
   },
   "outputs": [],
   "source": [
    "df = df.drop(cols[2:],axis=1)"
   ]
  },
  {
   "cell_type": "markdown",
   "metadata": {
    "papermill": {
     "duration": 0.038042,
     "end_time": "2021-02-24T09:15:20.116543",
     "exception": false,
     "start_time": "2021-02-24T09:15:20.078501",
     "status": "completed"
    },
    "tags": []
   },
   "source": [
    "Let's rename the columns for readability."
   ]
  },
  {
   "cell_type": "code",
   "execution_count": 11,
   "metadata": {
    "execution": {
     "iopub.execute_input": "2021-02-24T09:15:20.201702Z",
     "iopub.status.busy": "2021-02-24T09:15:20.200582Z",
     "iopub.status.idle": "2021-02-24T09:15:20.204437Z",
     "shell.execute_reply": "2021-02-24T09:15:20.203681Z"
    },
    "papermill": {
     "duration": 0.049558,
     "end_time": "2021-02-24T09:15:20.204599",
     "exception": false,
     "start_time": "2021-02-24T09:15:20.155041",
     "status": "completed"
    },
    "tags": []
   },
   "outputs": [],
   "source": [
    "df = df.rename(columns={'v1': 'class','v2': 'text'})"
   ]
  },
  {
   "cell_type": "markdown",
   "metadata": {
    "papermill": {
     "duration": 0.038261,
     "end_time": "2021-02-24T09:15:20.281497",
     "exception": false,
     "start_time": "2021-02-24T09:15:20.243236",
     "status": "completed"
    },
    "tags": []
   },
   "source": [
    "And we can encode our predictor variable."
   ]
  },
  {
   "cell_type": "code",
   "execution_count": 12,
   "metadata": {
    "execution": {
     "iopub.execute_input": "2021-02-24T09:15:20.366907Z",
     "iopub.status.busy": "2021-02-24T09:15:20.363820Z",
     "iopub.status.idle": "2021-02-24T09:15:20.374440Z",
     "shell.execute_reply": "2021-02-24T09:15:20.375072Z"
    },
    "papermill": {
     "duration": 0.055214,
     "end_time": "2021-02-24T09:15:20.375272",
     "exception": false,
     "start_time": "2021-02-24T09:15:20.320058",
     "status": "completed"
    },
    "tags": []
   },
   "outputs": [],
   "source": [
    "df = df.replace('ham',0) \n",
    "df = df.replace('spam',1)"
   ]
  },
  {
   "cell_type": "code",
   "execution_count": 13,
   "metadata": {
    "execution": {
     "iopub.execute_input": "2021-02-24T09:15:20.462040Z",
     "iopub.status.busy": "2021-02-24T09:15:20.461056Z",
     "iopub.status.idle": "2021-02-24T09:15:20.466100Z",
     "shell.execute_reply": "2021-02-24T09:15:20.465345Z"
    },
    "papermill": {
     "duration": 0.052231,
     "end_time": "2021-02-24T09:15:20.466278",
     "exception": false,
     "start_time": "2021-02-24T09:15:20.414047",
     "status": "completed"
    },
    "tags": []
   },
   "outputs": [
    {
     "data": {
      "text/plain": [
       "0       0\n",
       "1       0\n",
       "2       1\n",
       "3       0\n",
       "4       0\n",
       "       ..\n",
       "5567    1\n",
       "5568    0\n",
       "5569    0\n",
       "5570    0\n",
       "5571    0\n",
       "Name: class, Length: 5572, dtype: int64"
      ]
     },
     "execution_count": 13,
     "metadata": {},
     "output_type": "execute_result"
    }
   ],
   "source": [
    "df['class'].astype('int')"
   ]
  },
  {
   "cell_type": "markdown",
   "metadata": {
    "papermill": {
     "duration": 0.038964,
     "end_time": "2021-02-24T09:15:20.544399",
     "exception": false,
     "start_time": "2021-02-24T09:15:20.505435",
     "status": "completed"
    },
    "tags": []
   },
   "source": [
    "About 13.4% of the text messages are spam."
   ]
  },
  {
   "cell_type": "code",
   "execution_count": 14,
   "metadata": {
    "execution": {
     "iopub.execute_input": "2021-02-24T09:15:20.629938Z",
     "iopub.status.busy": "2021-02-24T09:15:20.628857Z",
     "iopub.status.idle": "2021-02-24T09:15:20.634255Z",
     "shell.execute_reply": "2021-02-24T09:15:20.633553Z"
    },
    "papermill": {
     "duration": 0.050587,
     "end_time": "2021-02-24T09:15:20.634424",
     "exception": false,
     "start_time": "2021-02-24T09:15:20.583837",
     "status": "completed"
    },
    "tags": []
   },
   "outputs": [
    {
     "data": {
      "text/plain": [
       "0.13406317300789664"
      ]
     },
     "execution_count": 14,
     "metadata": {},
     "output_type": "execute_result"
    }
   ],
   "source": [
    "percentage_spam = df['class'].mean()\n",
    "percentage_spam"
   ]
  },
  {
   "cell_type": "markdown",
   "metadata": {
    "papermill": {
     "duration": 0.040613,
     "end_time": "2021-02-24T09:15:20.715037",
     "exception": false,
     "start_time": "2021-02-24T09:15:20.674424",
     "status": "completed"
    },
    "tags": []
   },
   "source": [
    "Let's look at the length of text to see whether it can predict for spam."
   ]
  },
  {
   "cell_type": "code",
   "execution_count": 15,
   "metadata": {
    "execution": {
     "iopub.execute_input": "2021-02-24T09:15:20.817816Z",
     "iopub.status.busy": "2021-02-24T09:15:20.812053Z",
     "iopub.status.idle": "2021-02-24T09:15:20.823718Z",
     "shell.execute_reply": "2021-02-24T09:15:20.822953Z"
    },
    "papermill": {
     "duration": 0.067875,
     "end_time": "2021-02-24T09:15:20.823880",
     "exception": false,
     "start_time": "2021-02-24T09:15:20.756005",
     "status": "completed"
    },
    "tags": []
   },
   "outputs": [
    {
     "data": {
      "text/html": [
       "<div>\n",
       "<style scoped>\n",
       "    .dataframe tbody tr th:only-of-type {\n",
       "        vertical-align: middle;\n",
       "    }\n",
       "\n",
       "    .dataframe tbody tr th {\n",
       "        vertical-align: top;\n",
       "    }\n",
       "\n",
       "    .dataframe thead th {\n",
       "        text-align: right;\n",
       "    }\n",
       "</style>\n",
       "<table border=\"1\" class=\"dataframe\">\n",
       "  <thead>\n",
       "    <tr style=\"text-align: right;\">\n",
       "      <th></th>\n",
       "      <th>class</th>\n",
       "      <th>text</th>\n",
       "      <th>text_length</th>\n",
       "    </tr>\n",
       "  </thead>\n",
       "  <tbody>\n",
       "    <tr>\n",
       "      <th>0</th>\n",
       "      <td>0</td>\n",
       "      <td>Go until jurong point, crazy.. Available only ...</td>\n",
       "      <td>111</td>\n",
       "    </tr>\n",
       "    <tr>\n",
       "      <th>1</th>\n",
       "      <td>0</td>\n",
       "      <td>Ok lar... Joking wif u oni...</td>\n",
       "      <td>29</td>\n",
       "    </tr>\n",
       "    <tr>\n",
       "      <th>2</th>\n",
       "      <td>1</td>\n",
       "      <td>Free entry in 2 a wkly comp to win FA Cup fina...</td>\n",
       "      <td>155</td>\n",
       "    </tr>\n",
       "    <tr>\n",
       "      <th>3</th>\n",
       "      <td>0</td>\n",
       "      <td>U dun say so early hor... U c already then say...</td>\n",
       "      <td>49</td>\n",
       "    </tr>\n",
       "    <tr>\n",
       "      <th>4</th>\n",
       "      <td>0</td>\n",
       "      <td>Nah I don't think he goes to usf, he lives aro...</td>\n",
       "      <td>61</td>\n",
       "    </tr>\n",
       "    <tr>\n",
       "      <th>...</th>\n",
       "      <td>...</td>\n",
       "      <td>...</td>\n",
       "      <td>...</td>\n",
       "    </tr>\n",
       "    <tr>\n",
       "      <th>5567</th>\n",
       "      <td>1</td>\n",
       "      <td>This is the 2nd time we have tried 2 contact u...</td>\n",
       "      <td>161</td>\n",
       "    </tr>\n",
       "    <tr>\n",
       "      <th>5568</th>\n",
       "      <td>0</td>\n",
       "      <td>Will Ì_ b going to esplanade fr home?</td>\n",
       "      <td>37</td>\n",
       "    </tr>\n",
       "    <tr>\n",
       "      <th>5569</th>\n",
       "      <td>0</td>\n",
       "      <td>Pity, * was in mood for that. So...any other s...</td>\n",
       "      <td>57</td>\n",
       "    </tr>\n",
       "    <tr>\n",
       "      <th>5570</th>\n",
       "      <td>0</td>\n",
       "      <td>The guy did some bitching but I acted like i'd...</td>\n",
       "      <td>125</td>\n",
       "    </tr>\n",
       "    <tr>\n",
       "      <th>5571</th>\n",
       "      <td>0</td>\n",
       "      <td>Rofl. Its true to its name</td>\n",
       "      <td>26</td>\n",
       "    </tr>\n",
       "  </tbody>\n",
       "</table>\n",
       "<p>5572 rows × 3 columns</p>\n",
       "</div>"
      ],
      "text/plain": [
       "      class                                               text  text_length\n",
       "0         0  Go until jurong point, crazy.. Available only ...          111\n",
       "1         0                      Ok lar... Joking wif u oni...           29\n",
       "2         1  Free entry in 2 a wkly comp to win FA Cup fina...          155\n",
       "3         0  U dun say so early hor... U c already then say...           49\n",
       "4         0  Nah I don't think he goes to usf, he lives aro...           61\n",
       "...     ...                                                ...          ...\n",
       "5567      1  This is the 2nd time we have tried 2 contact u...          161\n",
       "5568      0              Will Ì_ b going to esplanade fr home?           37\n",
       "5569      0  Pity, * was in mood for that. So...any other s...           57\n",
       "5570      0  The guy did some bitching but I acted like i'd...          125\n",
       "5571      0                         Rofl. Its true to its name           26\n",
       "\n",
       "[5572 rows x 3 columns]"
      ]
     },
     "execution_count": 15,
     "metadata": {},
     "output_type": "execute_result"
    }
   ],
   "source": [
    "df['text_length'] = df['text'].apply(len)\n",
    "df"
   ]
  },
  {
   "cell_type": "code",
   "execution_count": 16,
   "metadata": {
    "execution": {
     "iopub.execute_input": "2021-02-24T09:15:20.913019Z",
     "iopub.status.busy": "2021-02-24T09:15:20.912216Z",
     "iopub.status.idle": "2021-02-24T09:15:20.936291Z",
     "shell.execute_reply": "2021-02-24T09:15:20.935629Z"
    },
    "papermill": {
     "duration": 0.071925,
     "end_time": "2021-02-24T09:15:20.936454",
     "exception": false,
     "start_time": "2021-02-24T09:15:20.864529",
     "status": "completed"
    },
    "tags": []
   },
   "outputs": [
    {
     "data": {
      "text/plain": [
       "0       111\n",
       "1        29\n",
       "3        49\n",
       "4        61\n",
       "6        77\n",
       "       ... \n",
       "5565     12\n",
       "5568     37\n",
       "5569     57\n",
       "5570    125\n",
       "5571     26\n",
       "Name: text_length, Length: 4825, dtype: int64"
      ]
     },
     "execution_count": 16,
     "metadata": {},
     "output_type": "execute_result"
    }
   ],
   "source": [
    "df[df['class']==0]['text_length']"
   ]
  },
  {
   "cell_type": "markdown",
   "metadata": {
    "papermill": {
     "duration": 0.040899,
     "end_time": "2021-02-24T09:15:21.018961",
     "exception": false,
     "start_time": "2021-02-24T09:15:20.978062",
     "status": "completed"
    },
    "tags": []
   },
   "source": [
    "It looks like the mean character length for spam is higher, we should visualize this."
   ]
  },
  {
   "cell_type": "code",
   "execution_count": 17,
   "metadata": {
    "execution": {
     "iopub.execute_input": "2021-02-24T09:15:21.112407Z",
     "iopub.status.busy": "2021-02-24T09:15:21.110689Z",
     "iopub.status.idle": "2021-02-24T09:15:21.152713Z",
     "shell.execute_reply": "2021-02-24T09:15:21.152040Z"
    },
    "papermill": {
     "duration": 0.091899,
     "end_time": "2021-02-24T09:15:21.152876",
     "exception": false,
     "start_time": "2021-02-24T09:15:21.060977",
     "status": "completed"
    },
    "tags": []
   },
   "outputs": [
    {
     "data": {
      "text/html": [
       "<div>\n",
       "<style scoped>\n",
       "    .dataframe tbody tr th:only-of-type {\n",
       "        vertical-align: middle;\n",
       "    }\n",
       "\n",
       "    .dataframe tbody tr th {\n",
       "        vertical-align: top;\n",
       "    }\n",
       "\n",
       "    .dataframe thead tr th {\n",
       "        text-align: left;\n",
       "    }\n",
       "\n",
       "    .dataframe thead tr:last-of-type th {\n",
       "        text-align: right;\n",
       "    }\n",
       "</style>\n",
       "<table border=\"1\" class=\"dataframe\">\n",
       "  <thead>\n",
       "    <tr>\n",
       "      <th></th>\n",
       "      <th colspan=\"8\" halign=\"left\">text_length</th>\n",
       "    </tr>\n",
       "    <tr>\n",
       "      <th></th>\n",
       "      <th>count</th>\n",
       "      <th>mean</th>\n",
       "      <th>std</th>\n",
       "      <th>min</th>\n",
       "      <th>25%</th>\n",
       "      <th>50%</th>\n",
       "      <th>75%</th>\n",
       "      <th>max</th>\n",
       "    </tr>\n",
       "    <tr>\n",
       "      <th>class</th>\n",
       "      <th></th>\n",
       "      <th></th>\n",
       "      <th></th>\n",
       "      <th></th>\n",
       "      <th></th>\n",
       "      <th></th>\n",
       "      <th></th>\n",
       "      <th></th>\n",
       "    </tr>\n",
       "  </thead>\n",
       "  <tbody>\n",
       "    <tr>\n",
       "      <th>0</th>\n",
       "      <td>4825.0</td>\n",
       "      <td>71.640622</td>\n",
       "      <td>58.458559</td>\n",
       "      <td>2.0</td>\n",
       "      <td>33.0</td>\n",
       "      <td>52.0</td>\n",
       "      <td>93.0</td>\n",
       "      <td>910.0</td>\n",
       "    </tr>\n",
       "    <tr>\n",
       "      <th>1</th>\n",
       "      <td>747.0</td>\n",
       "      <td>139.157965</td>\n",
       "      <td>28.981074</td>\n",
       "      <td>13.0</td>\n",
       "      <td>133.0</td>\n",
       "      <td>149.0</td>\n",
       "      <td>158.0</td>\n",
       "      <td>224.0</td>\n",
       "    </tr>\n",
       "  </tbody>\n",
       "</table>\n",
       "</div>"
      ],
      "text/plain": [
       "      text_length                                                         \n",
       "            count        mean        std   min    25%    50%    75%    max\n",
       "class                                                                     \n",
       "0          4825.0   71.640622  58.458559   2.0   33.0   52.0   93.0  910.0\n",
       "1           747.0  139.157965  28.981074  13.0  133.0  149.0  158.0  224.0"
      ]
     },
     "execution_count": 17,
     "metadata": {},
     "output_type": "execute_result"
    }
   ],
   "source": [
    "df.groupby('class').describe()"
   ]
  },
  {
   "cell_type": "code",
   "execution_count": 18,
   "metadata": {
    "execution": {
     "iopub.execute_input": "2021-02-24T09:15:21.248733Z",
     "iopub.status.busy": "2021-02-24T09:15:21.247016Z",
     "iopub.status.idle": "2021-02-24T09:15:22.084408Z",
     "shell.execute_reply": "2021-02-24T09:15:22.083758Z"
    },
    "papermill": {
     "duration": 0.887851,
     "end_time": "2021-02-24T09:15:22.084594",
     "exception": false,
     "start_time": "2021-02-24T09:15:21.196743",
     "status": "completed"
    },
    "tags": []
   },
   "outputs": [
    {
     "data": {
      "text/plain": [
       "Text(0.5, 0, 'Length of Text')"
      ]
     },
     "execution_count": 18,
     "metadata": {},
     "output_type": "execute_result"
    },
    {
     "data": {
      "image/png": "[encoded data removed]",
      "text/plain": [
       "<Figure size 720x576 with 1 Axes>"
      ]
     },
     "metadata": {
      "needs_background": "light"
     },
     "output_type": "display_data"
    }
   ],
   "source": [
    "plt.figure(figsize=(10,8))\n",
    "sns.histplot(data=df, x='text_length',hue='class',stat=\"density\", common_norm=False)\n",
    "plt.xlim(-1,250)\n",
    "plt.title('Distribution of spam(1) vs ham(0)')\n",
    "plt.ylabel('Normalized Frequency')\n",
    "plt.xlabel('Length of Text')"
   ]
  },
  {
   "cell_type": "markdown",
   "metadata": {
    "papermill": {
     "duration": 0.044144,
     "end_time": "2021-02-24T09:15:22.182381",
     "exception": false,
     "start_time": "2021-02-24T09:15:22.138237",
     "status": "completed"
    },
    "tags": []
   },
   "source": [
    "Let's start building our NLP model."
   ]
  },
  {
   "cell_type": "code",
   "execution_count": 19,
   "metadata": {
    "execution": {
     "iopub.execute_input": "2021-02-24T09:15:22.278067Z",
     "iopub.status.busy": "2021-02-24T09:15:22.276964Z",
     "iopub.status.idle": "2021-02-24T09:15:22.280267Z",
     "shell.execute_reply": "2021-02-24T09:15:22.279655Z"
    },
    "papermill": {
     "duration": 0.053341,
     "end_time": "2021-02-24T09:15:22.280444",
     "exception": false,
     "start_time": "2021-02-24T09:15:22.227103",
     "status": "completed"
    },
    "tags": []
   },
   "outputs": [],
   "source": [
    "X = df.drop('class',axis=1)\n",
    "y = df['class']"
   ]
  },
  {
   "cell_type": "code",
   "execution_count": 20,
   "metadata": {
    "execution": {
     "iopub.execute_input": "2021-02-24T09:15:22.377535Z",
     "iopub.status.busy": "2021-02-24T09:15:22.376761Z",
     "iopub.status.idle": "2021-02-24T09:15:22.380137Z",
     "shell.execute_reply": "2021-02-24T09:15:22.379318Z"
    },
    "papermill": {
     "duration": 0.055824,
     "end_time": "2021-02-24T09:15:22.380306",
     "exception": false,
     "start_time": "2021-02-24T09:15:22.324482",
     "status": "completed"
    },
    "tags": []
   },
   "outputs": [],
   "source": [
    "#count_vectorizer class requires 1d X values\n",
    "X_train, X_test, y_train, y_test = train_test_split(X['text'],y,test_size=0.2,random_state=42)"
   ]
  },
  {
   "cell_type": "code",
   "execution_count": 21,
   "metadata": {
    "execution": {
     "iopub.execute_input": "2021-02-24T09:15:22.474373Z",
     "iopub.status.busy": "2021-02-24T09:15:22.473578Z",
     "iopub.status.idle": "2021-02-24T09:15:22.477192Z",
     "shell.execute_reply": "2021-02-24T09:15:22.476580Z"
    },
    "papermill": {
     "duration": 0.05252,
     "end_time": "2021-02-24T09:15:22.477359",
     "exception": false,
     "start_time": "2021-02-24T09:15:22.424839",
     "status": "completed"
    },
    "tags": []
   },
   "outputs": [],
   "source": [
    "count_vectorizer = CountVectorizer(stop_words='english')"
   ]
  },
  {
   "cell_type": "code",
   "execution_count": 22,
   "metadata": {
    "execution": {
     "iopub.execute_input": "2021-02-24T09:15:22.594517Z",
     "iopub.status.busy": "2021-02-24T09:15:22.584405Z",
     "iopub.status.idle": "2021-02-24T09:15:22.717410Z",
     "shell.execute_reply": "2021-02-24T09:15:22.716739Z"
    },
    "papermill": {
     "duration": 0.196169,
     "end_time": "2021-02-24T09:15:22.717577",
     "exception": false,
     "start_time": "2021-02-24T09:15:22.521408",
     "status": "completed"
    },
    "tags": []
   },
   "outputs": [],
   "source": [
    "count_train = count_vectorizer.fit_transform(X_train.values)\n",
    "count_test = count_vectorizer.transform(X_test.values)"
   ]
  },
  {
   "cell_type": "code",
   "execution_count": 23,
   "metadata": {
    "execution": {
     "iopub.execute_input": "2021-02-24T09:15:22.812576Z",
     "iopub.status.busy": "2021-02-24T09:15:22.811854Z",
     "iopub.status.idle": "2021-02-24T09:15:22.814972Z",
     "shell.execute_reply": "2021-02-24T09:15:22.814292Z"
    },
    "papermill": {
     "duration": 0.052947,
     "end_time": "2021-02-24T09:15:22.815130",
     "exception": false,
     "start_time": "2021-02-24T09:15:22.762183",
     "status": "completed"
    },
    "tags": []
   },
   "outputs": [],
   "source": [
    "multi_nb = MultinomialNB()"
   ]
  },
  {
   "cell_type": "code",
   "execution_count": 24,
   "metadata": {
    "execution": {
     "iopub.execute_input": "2021-02-24T09:15:22.913168Z",
     "iopub.status.busy": "2021-02-24T09:15:22.912111Z",
     "iopub.status.idle": "2021-02-24T09:15:22.923431Z",
     "shell.execute_reply": "2021-02-24T09:15:22.922722Z"
    },
    "papermill": {
     "duration": 0.06277,
     "end_time": "2021-02-24T09:15:22.923626",
     "exception": false,
     "start_time": "2021-02-24T09:15:22.860856",
     "status": "completed"
    },
    "tags": []
   },
   "outputs": [
    {
     "data": {
      "text/plain": [
       "MultinomialNB()"
      ]
     },
     "execution_count": 24,
     "metadata": {},
     "output_type": "execute_result"
    }
   ],
   "source": [
    "multi_nb.fit(count_train,y_train)"
   ]
  },
  {
   "cell_type": "code",
   "execution_count": 25,
   "metadata": {
    "execution": {
     "iopub.execute_input": "2021-02-24T09:15:23.018741Z",
     "iopub.status.busy": "2021-02-24T09:15:23.017978Z",
     "iopub.status.idle": "2021-02-24T09:15:23.021690Z",
     "shell.execute_reply": "2021-02-24T09:15:23.022281Z"
    },
    "papermill": {
     "duration": 0.053971,
     "end_time": "2021-02-24T09:15:23.022498",
     "exception": false,
     "start_time": "2021-02-24T09:15:22.968527",
     "status": "completed"
    },
    "tags": []
   },
   "outputs": [],
   "source": [
    "y_pred = multi_nb.predict(count_test)"
   ]
  },
  {
   "cell_type": "code",
   "execution_count": 26,
   "metadata": {
    "execution": {
     "iopub.execute_input": "2021-02-24T09:15:23.118641Z",
     "iopub.status.busy": "2021-02-24T09:15:23.117557Z",
     "iopub.status.idle": "2021-02-24T09:15:23.123206Z",
     "shell.execute_reply": "2021-02-24T09:15:23.123828Z"
    },
    "papermill": {
     "duration": 0.056809,
     "end_time": "2021-02-24T09:15:23.124047",
     "exception": false,
     "start_time": "2021-02-24T09:15:23.067238",
     "status": "completed"
    },
    "tags": []
   },
   "outputs": [
    {
     "data": {
      "text/plain": [
       "0.9838565022421525"
      ]
     },
     "execution_count": 26,
     "metadata": {},
     "output_type": "execute_result"
    }
   ],
   "source": [
    "metrics.accuracy_score(y_test,y_pred)"
   ]
  },
  {
   "cell_type": "markdown",
   "metadata": {
    "papermill": {
     "duration": 0.046768,
     "end_time": "2021-02-24T09:15:23.217346",
     "exception": false,
     "start_time": "2021-02-24T09:15:23.170578",
     "status": "completed"
    },
    "tags": []
   },
   "source": [
    "This is a pretty good result as it is more then just predicting everything as spam (87%)."
   ]
  },
  {
   "cell_type": "code",
   "execution_count": 27,
   "metadata": {
    "execution": {
     "iopub.execute_input": "2021-02-24T09:15:23.315644Z",
     "iopub.status.busy": "2021-02-24T09:15:23.314472Z",
     "iopub.status.idle": "2021-02-24T09:15:23.327365Z",
     "shell.execute_reply": "2021-02-24T09:15:23.326706Z"
    },
    "papermill": {
     "duration": 0.064063,
     "end_time": "2021-02-24T09:15:23.327525",
     "exception": false,
     "start_time": "2021-02-24T09:15:23.263462",
     "status": "completed"
    },
    "tags": []
   },
   "outputs": [
    {
     "name": "stdout",
     "output_type": "stream",
     "text": [
      "              precision    recall  f1-score   support\n",
      "\n",
      "           0       0.99      0.99      0.99       965\n",
      "           1       0.96      0.92      0.94       150\n",
      "\n",
      "    accuracy                           0.98      1115\n",
      "   macro avg       0.97      0.96      0.96      1115\n",
      "weighted avg       0.98      0.98      0.98      1115\n",
      "\n"
     ]
    }
   ],
   "source": [
    "print(classification_report(y_test,y_pred))"
   ]
  },
  {
   "cell_type": "code",
   "execution_count": 28,
   "metadata": {
    "execution": {
     "iopub.execute_input": "2021-02-24T09:15:23.426943Z",
     "iopub.status.busy": "2021-02-24T09:15:23.425893Z",
     "iopub.status.idle": "2021-02-24T09:15:23.638756Z",
     "shell.execute_reply": "2021-02-24T09:15:23.639363Z"
    },
    "papermill": {
     "duration": 0.265657,
     "end_time": "2021-02-24T09:15:23.639587",
     "exception": false,
     "start_time": "2021-02-24T09:15:23.373930",
     "status": "completed"
    },
    "tags": []
   },
   "outputs": [
    {
     "data": {
      "text/plain": [
       "<AxesSubplot:>"
      ]
     },
     "execution_count": 28,
     "metadata": {},
     "output_type": "execute_result"
    },
    {
     "data": {
      "image/png": "[encoded data removed]",
      "text/plain": [
       "<Figure size 432x288 with 2 Axes>"
      ]
     },
     "metadata": {
      "needs_background": "light"
     },
     "output_type": "display_data"
    }
   ],
   "source": [
    "sns.heatmap(confusion_matrix(y_test,y_pred),annot=True)"
   ]
  },
  {
   "cell_type": "markdown",
   "metadata": {
    "papermill": {
     "duration": 0.048143,
     "end_time": "2021-02-24T09:15:23.736406",
     "exception": false,
     "start_time": "2021-02-24T09:15:23.688263",
     "status": "completed"
    },
    "tags": []
   },
   "source": [
    "Let's try to optimize the model's hyperparamters even further."
   ]
  },
  {
   "cell_type": "code",
   "execution_count": 29,
   "metadata": {
    "execution": {
     "iopub.execute_input": "2021-02-24T09:15:23.840195Z",
     "iopub.status.busy": "2021-02-24T09:15:23.839133Z",
     "iopub.status.idle": "2021-02-24T09:15:23.844308Z",
     "shell.execute_reply": "2021-02-24T09:15:23.843548Z"
    },
    "papermill": {
     "duration": 0.060092,
     "end_time": "2021-02-24T09:15:23.844483",
     "exception": false,
     "start_time": "2021-02-24T09:15:23.784391",
     "status": "completed"
    },
    "tags": []
   },
   "outputs": [
    {
     "data": {
      "text/plain": [
       "array([1.00000000e+000, 3.35981829e+010, 1.12883789e+021, 3.79269019e+031,\n",
       "       1.27427499e+042, 4.28133240e+052, 1.43844989e+063, 4.83293024e+073,\n",
       "       1.62377674e+084, 5.45559478e+094, 1.83298071e+105, 6.15848211e+115,\n",
       "       2.06913808e+126, 6.95192796e+136, 2.33572147e+147, 7.84759970e+157,\n",
       "       2.63665090e+168, 8.85866790e+178, 2.97635144e+189, 1.00000000e+200])"
      ]
     },
     "execution_count": 29,
     "metadata": {},
     "output_type": "execute_result"
    }
   ],
   "source": [
    "alpha_list = np.logspace(0,200,20)\n",
    "alpha_list"
   ]
  },
  {
   "cell_type": "code",
   "execution_count": 30,
   "metadata": {
    "execution": {
     "iopub.execute_input": "2021-02-24T09:15:23.947739Z",
     "iopub.status.busy": "2021-02-24T09:15:23.946637Z",
     "iopub.status.idle": "2021-02-24T09:15:23.949982Z",
     "shell.execute_reply": "2021-02-24T09:15:23.949319Z"
    },
    "papermill": {
     "duration": 0.056509,
     "end_time": "2021-02-24T09:15:23.950168",
     "exception": false,
     "start_time": "2021-02-24T09:15:23.893659",
     "status": "completed"
    },
    "tags": []
   },
   "outputs": [],
   "source": [
    "nb_params = {'alpha': alpha_list}"
   ]
  },
  {
   "cell_type": "code",
   "execution_count": 31,
   "metadata": {
    "execution": {
     "iopub.execute_input": "2021-02-24T09:15:24.055990Z",
     "iopub.status.busy": "2021-02-24T09:15:24.054802Z",
     "iopub.status.idle": "2021-02-24T09:15:24.059490Z",
     "shell.execute_reply": "2021-02-24T09:15:24.058745Z"
    },
    "papermill": {
     "duration": 0.059678,
     "end_time": "2021-02-24T09:15:24.059681",
     "exception": false,
     "start_time": "2021-02-24T09:15:24.000003",
     "status": "completed"
    },
    "tags": []
   },
   "outputs": [
    {
     "data": {
      "text/plain": [
       "{'alpha': 1.0, 'class_prior': None, 'fit_prior': True}"
      ]
     },
     "execution_count": 31,
     "metadata": {},
     "output_type": "execute_result"
    }
   ],
   "source": [
    "multi_nb.get_params()"
   ]
  },
  {
   "cell_type": "code",
   "execution_count": 32,
   "metadata": {
    "execution": {
     "iopub.execute_input": "2021-02-24T09:15:24.164883Z",
     "iopub.status.busy": "2021-02-24T09:15:24.163834Z",
     "iopub.status.idle": "2021-02-24T09:15:24.167073Z",
     "shell.execute_reply": "2021-02-24T09:15:24.167676Z"
    },
    "papermill": {
     "duration": 0.058784,
     "end_time": "2021-02-24T09:15:24.167875",
     "exception": false,
     "start_time": "2021-02-24T09:15:24.109091",
     "status": "completed"
    },
    "tags": []
   },
   "outputs": [],
   "source": [
    "nb_grid = GridSearchCV(multi_nb,nb_params,n_jobs=-1)"
   ]
  },
  {
   "cell_type": "code",
   "execution_count": 33,
   "metadata": {
    "execution": {
     "iopub.execute_input": "2021-02-24T09:15:24.274773Z",
     "iopub.status.busy": "2021-02-24T09:15:24.273991Z",
     "iopub.status.idle": "2021-02-24T09:15:26.910311Z",
     "shell.execute_reply": "2021-02-24T09:15:26.909413Z"
    },
    "papermill": {
     "duration": 2.691966,
     "end_time": "2021-02-24T09:15:26.910477",
     "exception": false,
     "start_time": "2021-02-24T09:15:24.218511",
     "status": "completed"
    },
    "tags": []
   },
   "outputs": [
    {
     "data": {
      "text/plain": [
       "GridSearchCV(estimator=MultinomialNB(), n_jobs=-1,\n",
       "             param_grid={'alpha': array([1.00000000e+000, 3.35981829e+010, 1.12883789e+021, 3.79269019e+031,\n",
       "       1.27427499e+042, 4.28133240e+052, 1.43844989e+063, 4.83293024e+073,\n",
       "       1.62377674e+084, 5.45559478e+094, 1.83298071e+105, 6.15848211e+115,\n",
       "       2.06913808e+126, 6.95192796e+136, 2.33572147e+147, 7.84759970e+157,\n",
       "       2.63665090e+168, 8.85866790e+178, 2.97635144e+189, 1.00000000e+200])})"
      ]
     },
     "execution_count": 33,
     "metadata": {},
     "output_type": "execute_result"
    }
   ],
   "source": [
    "nb_grid.fit(count_train,y_train)"
   ]
  },
  {
   "cell_type": "code",
   "execution_count": 34,
   "metadata": {
    "execution": {
     "iopub.execute_input": "2021-02-24T09:15:27.018441Z",
     "iopub.status.busy": "2021-02-24T09:15:27.017292Z",
     "iopub.status.idle": "2021-02-24T09:15:27.020901Z",
     "shell.execute_reply": "2021-02-24T09:15:27.021650Z"
    },
    "papermill": {
     "duration": 0.060743,
     "end_time": "2021-02-24T09:15:27.021844",
     "exception": false,
     "start_time": "2021-02-24T09:15:26.961101",
     "status": "completed"
    },
    "tags": []
   },
   "outputs": [
    {
     "data": {
      "text/plain": [
       "{'alpha': 1.0}"
      ]
     },
     "execution_count": 34,
     "metadata": {},
     "output_type": "execute_result"
    }
   ],
   "source": [
    "nb_grid.best_params_"
   ]
  },
  {
   "cell_type": "markdown",
   "metadata": {
    "papermill": {
     "duration": 0.050453,
     "end_time": "2021-02-24T09:15:27.122771",
     "exception": false,
     "start_time": "2021-02-24T09:15:27.072318",
     "status": "completed"
    },
    "tags": []
   },
   "source": [
    "Looks like the model was already using `alpha = 1.0`, this best parameter."
   ]
  },
  {
   "cell_type": "markdown",
   "metadata": {
    "papermill": {
     "duration": 0.051319,
     "end_time": "2021-02-24T09:15:27.225760",
     "exception": false,
     "start_time": "2021-02-24T09:15:27.174441",
     "status": "completed"
    },
    "tags": []
   },
   "source": [
    "Thanks for reading this beginner's notebook, if you have any suggestions on how to improve my model please let me know!"
   ]
  }
 ],
 "metadata": {
  "kernelspec": {
   "display_name": "Python 3",
   "language": "python",
   "name": "python3"
  },
  "language_info": {
   "codemirror_mode": {
    "name": "ipython",
    "version": 3
   },
   "file_extension": ".py",
   "mimetype": "text/x-python",
   "name": "python",
   "nbconvert_exporter": "python",
   "pygments_lexer": "ipython3",
   "version": "3.7.9"
  },
  "papermill": {
   "default_parameters": {},
   "duration": 17.93571,
   "end_time": "2021-02-24T09:15:28.187861",
   "environment_variables": {},
   "exception": null,
   "input_path": "__notebook__.ipynb",
   "output_path": "__notebook__.ipynb",
   "parameters": {},
   "start_time": "2021-02-24T09:15:10.252151",
   "version": "2.2.2"
  }
 },
 "nbformat": 4,
 "nbformat_minor": 4
}
