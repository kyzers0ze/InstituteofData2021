{
 "cells": [
  {
   "cell_type": "code",
   "execution_count": 165,
   "metadata": {},
   "outputs": [],
   "source": [
    "import pandas as pd\n",
    "import numpy as np\n",
    "import matplotlib.pyplot as plt\n",
    "from sklearn.model_selection import train_test_split, cross_val_score\n",
    "from sklearn.linear_model import LinearRegression, Lasso, Ridge\n",
    "from sklearn.preprocessing import OneHotEncoder, OrdinalEncoder\n",
    "from sklearn.compose import make_column_transformer\n",
    "from sklearn.pipeline import make_pipeline\n",
    "from sklearn.metrics import mean_squared_error\n",
    "import seaborn as sns\n",
    "%matplotlib inline\n",
    "plt.style.use('ggplot')"
   ]
  },
  {
   "cell_type": "code",
   "execution_count": 2,
   "metadata": {},
   "outputs": [
    {
     "data": {
      "text/html": [
       "<div>\n",
       "<style scoped>\n",
       "    .dataframe tbody tr th:only-of-type {\n",
       "        vertical-align: middle;\n",
       "    }\n",
       "\n",
       "    .dataframe tbody tr th {\n",
       "        vertical-align: top;\n",
       "    }\n",
       "\n",
       "    .dataframe thead th {\n",
       "        text-align: right;\n",
       "    }\n",
       "</style>\n",
       "<table border=\"1\" class=\"dataframe\">\n",
       "  <thead>\n",
       "    <tr style=\"text-align: right;\">\n",
       "      <th></th>\n",
       "      <th>Customer</th>\n",
       "      <th>State</th>\n",
       "      <th>Customer Lifetime Value</th>\n",
       "      <th>Response</th>\n",
       "      <th>Coverage</th>\n",
       "      <th>Education</th>\n",
       "      <th>Effective To Date</th>\n",
       "      <th>EmploymentStatus</th>\n",
       "      <th>Gender</th>\n",
       "      <th>Income</th>\n",
       "      <th>...</th>\n",
       "      <th>Months Since Policy Inception</th>\n",
       "      <th>Number of Open Complaints</th>\n",
       "      <th>Number of Policies</th>\n",
       "      <th>Policy Type</th>\n",
       "      <th>Policy</th>\n",
       "      <th>Renew Offer Type</th>\n",
       "      <th>Sales Channel</th>\n",
       "      <th>Total Claim Amount</th>\n",
       "      <th>Vehicle Class</th>\n",
       "      <th>Vehicle Size</th>\n",
       "    </tr>\n",
       "  </thead>\n",
       "  <tbody>\n",
       "    <tr>\n",
       "      <th>0</th>\n",
       "      <td>BU79786</td>\n",
       "      <td>Washington</td>\n",
       "      <td>2763.519279</td>\n",
       "      <td>No</td>\n",
       "      <td>Basic</td>\n",
       "      <td>Bachelor</td>\n",
       "      <td>2/24/11</td>\n",
       "      <td>Employed</td>\n",
       "      <td>F</td>\n",
       "      <td>56274</td>\n",
       "      <td>...</td>\n",
       "      <td>5</td>\n",
       "      <td>0</td>\n",
       "      <td>1</td>\n",
       "      <td>Corporate Auto</td>\n",
       "      <td>Corporate L3</td>\n",
       "      <td>Offer1</td>\n",
       "      <td>Agent</td>\n",
       "      <td>384.811147</td>\n",
       "      <td>Two-Door Car</td>\n",
       "      <td>Medsize</td>\n",
       "    </tr>\n",
       "    <tr>\n",
       "      <th>1</th>\n",
       "      <td>QZ44356</td>\n",
       "      <td>Arizona</td>\n",
       "      <td>6979.535903</td>\n",
       "      <td>No</td>\n",
       "      <td>Extended</td>\n",
       "      <td>Bachelor</td>\n",
       "      <td>1/31/11</td>\n",
       "      <td>Unemployed</td>\n",
       "      <td>F</td>\n",
       "      <td>0</td>\n",
       "      <td>...</td>\n",
       "      <td>42</td>\n",
       "      <td>0</td>\n",
       "      <td>8</td>\n",
       "      <td>Personal Auto</td>\n",
       "      <td>Personal L3</td>\n",
       "      <td>Offer3</td>\n",
       "      <td>Agent</td>\n",
       "      <td>1131.464935</td>\n",
       "      <td>Four-Door Car</td>\n",
       "      <td>Medsize</td>\n",
       "    </tr>\n",
       "    <tr>\n",
       "      <th>2</th>\n",
       "      <td>AI49188</td>\n",
       "      <td>Nevada</td>\n",
       "      <td>12887.431650</td>\n",
       "      <td>No</td>\n",
       "      <td>Premium</td>\n",
       "      <td>Bachelor</td>\n",
       "      <td>2/19/11</td>\n",
       "      <td>Employed</td>\n",
       "      <td>F</td>\n",
       "      <td>48767</td>\n",
       "      <td>...</td>\n",
       "      <td>38</td>\n",
       "      <td>0</td>\n",
       "      <td>2</td>\n",
       "      <td>Personal Auto</td>\n",
       "      <td>Personal L3</td>\n",
       "      <td>Offer1</td>\n",
       "      <td>Agent</td>\n",
       "      <td>566.472247</td>\n",
       "      <td>Two-Door Car</td>\n",
       "      <td>Medsize</td>\n",
       "    </tr>\n",
       "    <tr>\n",
       "      <th>3</th>\n",
       "      <td>WW63253</td>\n",
       "      <td>California</td>\n",
       "      <td>7645.861827</td>\n",
       "      <td>No</td>\n",
       "      <td>Basic</td>\n",
       "      <td>Bachelor</td>\n",
       "      <td>1/20/11</td>\n",
       "      <td>Unemployed</td>\n",
       "      <td>M</td>\n",
       "      <td>0</td>\n",
       "      <td>...</td>\n",
       "      <td>65</td>\n",
       "      <td>0</td>\n",
       "      <td>7</td>\n",
       "      <td>Corporate Auto</td>\n",
       "      <td>Corporate L2</td>\n",
       "      <td>Offer1</td>\n",
       "      <td>Call Center</td>\n",
       "      <td>529.881344</td>\n",
       "      <td>SUV</td>\n",
       "      <td>Medsize</td>\n",
       "    </tr>\n",
       "    <tr>\n",
       "      <th>4</th>\n",
       "      <td>HB64268</td>\n",
       "      <td>Washington</td>\n",
       "      <td>2813.692575</td>\n",
       "      <td>No</td>\n",
       "      <td>Basic</td>\n",
       "      <td>Bachelor</td>\n",
       "      <td>2/3/11</td>\n",
       "      <td>Employed</td>\n",
       "      <td>M</td>\n",
       "      <td>43836</td>\n",
       "      <td>...</td>\n",
       "      <td>44</td>\n",
       "      <td>0</td>\n",
       "      <td>1</td>\n",
       "      <td>Personal Auto</td>\n",
       "      <td>Personal L1</td>\n",
       "      <td>Offer1</td>\n",
       "      <td>Agent</td>\n",
       "      <td>138.130879</td>\n",
       "      <td>Four-Door Car</td>\n",
       "      <td>Medsize</td>\n",
       "    </tr>\n",
       "  </tbody>\n",
       "</table>\n",
       "<p>5 rows × 24 columns</p>\n",
       "</div>"
      ],
      "text/plain": [
       "  Customer       State  Customer Lifetime Value Response  Coverage Education  \\\n",
       "0  BU79786  Washington              2763.519279       No     Basic  Bachelor   \n",
       "1  QZ44356     Arizona              6979.535903       No  Extended  Bachelor   \n",
       "2  AI49188      Nevada             12887.431650       No   Premium  Bachelor   \n",
       "3  WW63253  California              7645.861827       No     Basic  Bachelor   \n",
       "4  HB64268  Washington              2813.692575       No     Basic  Bachelor   \n",
       "\n",
       "  Effective To Date EmploymentStatus Gender  Income  ...  \\\n",
       "0           2/24/11         Employed      F   56274  ...   \n",
       "1           1/31/11       Unemployed      F       0  ...   \n",
       "2           2/19/11         Employed      F   48767  ...   \n",
       "3           1/20/11       Unemployed      M       0  ...   \n",
       "4            2/3/11         Employed      M   43836  ...   \n",
       "\n",
       "  Months Since Policy Inception Number of Open Complaints  Number of Policies  \\\n",
       "0                             5                         0                   1   \n",
       "1                            42                         0                   8   \n",
       "2                            38                         0                   2   \n",
       "3                            65                         0                   7   \n",
       "4                            44                         0                   1   \n",
       "\n",
       "      Policy Type        Policy  Renew Offer Type  Sales Channel  \\\n",
       "0  Corporate Auto  Corporate L3            Offer1          Agent   \n",
       "1   Personal Auto   Personal L3            Offer3          Agent   \n",
       "2   Personal Auto   Personal L3            Offer1          Agent   \n",
       "3  Corporate Auto  Corporate L2            Offer1    Call Center   \n",
       "4   Personal Auto   Personal L1            Offer1          Agent   \n",
       "\n",
       "  Total Claim Amount  Vehicle Class Vehicle Size  \n",
       "0         384.811147   Two-Door Car      Medsize  \n",
       "1        1131.464935  Four-Door Car      Medsize  \n",
       "2         566.472247   Two-Door Car      Medsize  \n",
       "3         529.881344            SUV      Medsize  \n",
       "4         138.130879  Four-Door Car      Medsize  \n",
       "\n",
       "[5 rows x 24 columns]"
      ]
     },
     "execution_count": 2,
     "metadata": {},
     "output_type": "execute_result"
    }
   ],
   "source": [
    "df = pd.read_csv('IBM CLV.csv')\n",
    "df.head()"
   ]
  },
  {
   "cell_type": "code",
   "execution_count": 3,
   "metadata": {},
   "outputs": [
    {
     "data": {
      "text/plain": [
       "Customer                         0\n",
       "State                            0\n",
       "Customer Lifetime Value          0\n",
       "Response                         0\n",
       "Coverage                         0\n",
       "Education                        0\n",
       "Effective To Date                0\n",
       "EmploymentStatus                 0\n",
       "Gender                           0\n",
       "Income                           0\n",
       "Location Code                    0\n",
       "Marital Status                   0\n",
       "Monthly Premium Auto             0\n",
       "Months Since Last Claim          0\n",
       "Months Since Policy Inception    0\n",
       "Number of Open Complaints        0\n",
       "Number of Policies               0\n",
       "Policy Type                      0\n",
       "Policy                           0\n",
       "Renew Offer Type                 0\n",
       "Sales Channel                    0\n",
       "Total Claim Amount               0\n",
       "Vehicle Class                    0\n",
       "Vehicle Size                     0\n",
       "dtype: int64"
      ]
     },
     "execution_count": 3,
     "metadata": {},
     "output_type": "execute_result"
    }
   ],
   "source": [
    "df.isna().sum()"
   ]
  },
  {
   "cell_type": "code",
   "execution_count": 4,
   "metadata": {},
   "outputs": [
    {
     "data": {
      "text/plain": [
       "(9134, 24)"
      ]
     },
     "execution_count": 4,
     "metadata": {},
     "output_type": "execute_result"
    }
   ],
   "source": [
    "df.shape"
   ]
  },
  {
   "cell_type": "code",
   "execution_count": 5,
   "metadata": {},
   "outputs": [
    {
     "data": {
      "text/plain": [
       "(9134, 24)"
      ]
     },
     "execution_count": 5,
     "metadata": {},
     "output_type": "execute_result"
    }
   ],
   "source": [
    "df.drop_duplicates().shape"
   ]
  },
  {
   "cell_type": "code",
   "execution_count": 6,
   "metadata": {
    "scrolled": false
   },
   "outputs": [
    {
     "data": {
      "text/plain": [
       "Customer                          object\n",
       "State                             object\n",
       "Customer Lifetime Value          float64\n",
       "Response                          object\n",
       "Coverage                          object\n",
       "Education                         object\n",
       "Effective To Date                 object\n",
       "EmploymentStatus                  object\n",
       "Gender                            object\n",
       "Income                             int64\n",
       "Location Code                     object\n",
       "Marital Status                    object\n",
       "Monthly Premium Auto               int64\n",
       "Months Since Last Claim            int64\n",
       "Months Since Policy Inception      int64\n",
       "Number of Open Complaints          int64\n",
       "Number of Policies                 int64\n",
       "Policy Type                       object\n",
       "Policy                            object\n",
       "Renew Offer Type                  object\n",
       "Sales Channel                     object\n",
       "Total Claim Amount               float64\n",
       "Vehicle Class                     object\n",
       "Vehicle Size                      object\n",
       "dtype: object"
      ]
     },
     "execution_count": 6,
     "metadata": {},
     "output_type": "execute_result"
    }
   ],
   "source": [
    "df.dtypes"
   ]
  },
  {
   "cell_type": "code",
   "execution_count": 7,
   "metadata": {
    "scrolled": true
   },
   "outputs": [
    {
     "data": {
      "text/plain": [
       "0      2011-02-24\n",
       "1      2011-01-31\n",
       "2      2011-02-19\n",
       "3      2011-01-20\n",
       "4      2011-02-03\n",
       "          ...    \n",
       "9129   2011-02-10\n",
       "9130   2011-02-12\n",
       "9131   2011-02-06\n",
       "9132   2011-02-03\n",
       "9133   2011-02-14\n",
       "Name: Effective To Date, Length: 9134, dtype: datetime64[ns]"
      ]
     },
     "execution_count": 7,
     "metadata": {},
     "output_type": "execute_result"
    }
   ],
   "source": [
    "df['Effective To Date'] = pd.to_datetime(df['Effective To Date'])\n",
    "df['Effective To Date']"
   ]
  },
  {
   "cell_type": "code",
   "execution_count": 8,
   "metadata": {},
   "outputs": [
    {
     "data": {
      "text/plain": [
       "Bachelor or Above       6512\n",
       "High School or Below    2622\n",
       "Name: Education, dtype: int64"
      ]
     },
     "execution_count": 8,
     "metadata": {},
     "output_type": "execute_result"
    }
   ],
   "source": [
    "values_to_replace = df.Education.replace(to_replace=['College','Master','Doctor','Bachelor'], value='Bachelor or Above')\n",
    "df.Education = values_to_replace\n",
    "df.Education.value_counts()"
   ]
  },
  {
   "cell_type": "code",
   "execution_count": 9,
   "metadata": {
    "scrolled": false
   },
   "outputs": [
    {
     "data": {
      "text/plain": [
       "<AxesSubplot:>"
      ]
     },
     "execution_count": 9,
     "metadata": {},
     "output_type": "execute_result"
    },
    {
     "data": {
      "image/png": "[encoded data removed]",
      "text/plain": [
       "<Figure size 1080x1080 with 2 Axes>"
      ]
     },
     "metadata": {},
     "output_type": "display_data"
    }
   ],
   "source": [
    "corr = df.corr()\n",
    "mask = np.zeros_like(corr)\n",
    "mask[np.triu_indices_from(mask)] = True\n",
    "plt.figure(figsize=(15,15))\n",
    "sns.heatmap(corr,annot=True,mask=mask)"
   ]
  },
  {
   "cell_type": "code",
   "execution_count": 10,
   "metadata": {},
   "outputs": [],
   "source": [
    "X = df.drop(['Customer Lifetime Value', #Target variable\n",
    "             'Monthly Premium Auto', #Contributes heavily to target variable\n",
    "             'Total Claim Amount', #Contributes heavily to target variable\n",
    "             'Customer', #Unique ID\n",
    "             'Number of Policies', #Contributes heavily to target variable\n",
    "             'Effective To Date', #Gave model problems\n",
    "             'EmploymentStatus', #Information found in 'Income' column\n",
    "            'Location Code',\n",
    "            'Policy Type',\n",
    "            'Policy',\n",
    "            'Renew Offer Type',\n",
    "            'Response',\n",
    "            'Coverage',\n",
    "            'Months Since Last Claim',\n",
    "            'Months Since Policy Inception',\n",
    "            'Number of Open Complaints',\n",
    "            'Sales Channel'],axis=1) #Information found in 'State' coumn\n",
    "y = df['Customer Lifetime Value']"
   ]
  },
  {
   "cell_type": "code",
   "execution_count": 45,
   "metadata": {},
   "outputs": [
    {
     "data": {
      "text/plain": [
       "['State',\n",
       " 'Education',\n",
       " 'Gender',\n",
       " 'Marital Status',\n",
       " 'Vehicle Class',\n",
       " 'Vehicle Size']"
      ]
     },
     "execution_count": 45,
     "metadata": {},
     "output_type": "execute_result"
    }
   ],
   "source": [
    "column_dict = dict(X.dtypes)\n",
    "encode_list = []\n",
    "for key in column_dict:\n",
    "     if column_dict[key] == np.dtype('O'):\n",
    "            encode_list.append(key)\n",
    "encode_list"
   ]
  },
  {
   "cell_type": "code",
   "execution_count": 46,
   "metadata": {},
   "outputs": [
    {
     "name": "stdout",
     "output_type": "stream",
     "text": [
      "State\n",
      "California    3150\n",
      "Oregon        2601\n",
      "Arizona       1703\n",
      "Nevada         882\n",
      "Washington     798\n",
      "Name: State, dtype: int64\n",
      "Education\n",
      "Bachelor or Above       6512\n",
      "High School or Below    2622\n",
      "Name: Education, dtype: int64\n",
      "Gender\n",
      "F    4658\n",
      "M    4476\n",
      "Name: Gender, dtype: int64\n",
      "Marital Status\n",
      "Married     5298\n",
      "Single      2467\n",
      "Divorced    1369\n",
      "Name: Marital Status, dtype: int64\n",
      "Vehicle Class\n",
      "Four-Door Car    4621\n",
      "Two-Door Car     1886\n",
      "SUV              1796\n",
      "Sports Car        484\n",
      "Luxury SUV        184\n",
      "Luxury Car        163\n",
      "Name: Vehicle Class, dtype: int64\n",
      "Vehicle Size\n",
      "Medsize    6424\n",
      "Small      1764\n",
      "Large       946\n",
      "Name: Vehicle Size, dtype: int64\n"
     ]
    }
   ],
   "source": [
    "for column in encode_list:\n",
    "    print(column)\n",
    "    print(df[column].value_counts())"
   ]
  },
  {
   "cell_type": "code",
   "execution_count": 47,
   "metadata": {},
   "outputs": [],
   "source": [
    "ordinal_list = ['Education','Vehicle Size']\n",
    "encode_list\n",
    "for column in ordinal_list:\n",
    "    encode_list.remove(column)"
   ]
  },
  {
   "cell_type": "code",
   "execution_count": 48,
   "metadata": {},
   "outputs": [
    {
     "name": "stdout",
     "output_type": "stream",
     "text": [
      "True\n",
      "True\n"
     ]
    }
   ],
   "source": [
    "for column in ordinal_list:\n",
    "    print(column not in encode_list)"
   ]
  },
  {
   "cell_type": "code",
   "execution_count": 49,
   "metadata": {},
   "outputs": [
    {
     "data": {
      "text/plain": [
       "[array(['Arizona', 'California', 'Nevada', 'Oregon', 'Washington'],\n",
       "       dtype=object),\n",
       " array(['F', 'M'], dtype=object),\n",
       " array(['Divorced', 'Married', 'Single'], dtype=object),\n",
       " array(['Four-Door Car', 'Luxury Car', 'Luxury SUV', 'SUV', 'Sports Car',\n",
       "        'Two-Door Car'], dtype=object)]"
      ]
     },
     "execution_count": 49,
     "metadata": {},
     "output_type": "execute_result"
    }
   ],
   "source": [
    "ohe = OneHotEncoder()\n",
    "ohe.fit_transform(df[encode_list])\n",
    "ohe.categories_"
   ]
  },
  {
   "cell_type": "code",
   "execution_count": 50,
   "metadata": {},
   "outputs": [
    {
     "data": {
      "text/plain": [
       "{0: ['Bachelor or Above', 'High School or Below'],\n",
       " 1: ['Medsize', 'Small', 'Large']}"
      ]
     },
     "execution_count": 50,
     "metadata": {},
     "output_type": "execute_result"
    }
   ],
   "source": [
    "oe_dict = {}\n",
    "i = 0\n",
    "for column in ordinal_list:\n",
    "    loop_list = []\n",
    "    for key in dict(X[column].value_counts()):\n",
    "        loop_list.append(key)\n",
    "    oe_dict[i] = loop_list\n",
    "    i = i + 1\n",
    "oe_dict"
   ]
  },
  {
   "cell_type": "code",
   "execution_count": 51,
   "metadata": {},
   "outputs": [],
   "source": [
    "oe_dict[0] = ['High School or Below','Bachelor or Above']\n",
    "oe_dict[1] = ['Small', 'Medsize','Large']"
   ]
  },
  {
   "cell_type": "code",
   "execution_count": 52,
   "metadata": {},
   "outputs": [
    {
     "data": {
      "text/plain": [
       "['Education', 'Vehicle Size']"
      ]
     },
     "execution_count": 52,
     "metadata": {},
     "output_type": "execute_result"
    }
   ],
   "source": [
    "ordinal_list"
   ]
  },
  {
   "cell_type": "code",
   "execution_count": 53,
   "metadata": {},
   "outputs": [
    {
     "data": {
      "text/plain": [
       "[array(['High School or Below', 'Bachelor or Above'], dtype=object),\n",
       " array(['Small', 'Medsize', 'Large'], dtype=object)]"
      ]
     },
     "execution_count": 53,
     "metadata": {},
     "output_type": "execute_result"
    }
   ],
   "source": [
    "oe = OrdinalEncoder(categories=[oe_dict[0],oe_dict[1]])\n",
    "oe.fit_transform(X[ordinal_list])\n",
    "oe.categories_"
   ]
  },
  {
   "cell_type": "code",
   "execution_count": 28,
   "metadata": {},
   "outputs": [
    {
     "data": {
      "text/plain": [
       "array([[0., 0., 0., ..., 1., 1., 1.],\n",
       "       [1., 0., 0., ..., 0., 1., 1.],\n",
       "       [0., 0., 1., ..., 1., 1., 1.],\n",
       "       ...,\n",
       "       [0., 1., 0., ..., 0., 1., 1.],\n",
       "       [0., 1., 0., ..., 0., 1., 2.],\n",
       "       [0., 1., 0., ..., 1., 1., 1.]])"
      ]
     },
     "execution_count": 28,
     "metadata": {},
     "output_type": "execute_result"
    }
   ],
   "source": [
    "column_trans = make_column_transformer((OneHotEncoder(),encode_list),\n",
    "                                      (OrdinalEncoder(categories=[oe_dict[0],\n",
    "                                                                  oe_dict[1]]),\n",
    "                                      ordinal_list),remainder='drop')\n",
    "column_trans.fit_transform(X)"
   ]
  },
  {
   "cell_type": "code",
   "execution_count": 66,
   "metadata": {},
   "outputs": [
    {
     "data": {
      "text/plain": [
       "Pipeline(steps=[('columntransformer',\n",
       "                 ColumnTransformer(transformers=[('onehotencoder',\n",
       "                                                  OneHotEncoder(),\n",
       "                                                  ['State', 'Gender',\n",
       "                                                   'Marital Status',\n",
       "                                                   'Vehicle Class']),\n",
       "                                                 ('ordinalencoder',\n",
       "                                                  OrdinalEncoder(categories=[['High '\n",
       "                                                                              'School '\n",
       "                                                                              'or '\n",
       "                                                                              'Below',\n",
       "                                                                              'Bachelor '\n",
       "                                                                              'or '\n",
       "                                                                              'Above'],\n",
       "                                                                             ['Small',\n",
       "                                                                              'Medsize',\n",
       "                                                                              'Large']]),\n",
       "                                                  ['Education',\n",
       "                                                   'Vehicle Size'])])),\n",
       "                ('linearregression', LinearRegression())])"
      ]
     },
     "execution_count": 66,
     "metadata": {},
     "output_type": "execute_result"
    }
   ],
   "source": [
    "regr = LinearRegression()\n",
    "pipe = make_pipeline(column_trans,regr)\n",
    "pipe.fit(X,y)"
   ]
  },
  {
   "cell_type": "markdown",
   "metadata": {},
   "source": [
    "Scoring parameter can be taken from here: https://scikit-learn.org/stable/modules/model_evaluation.html#scoring-parameter"
   ]
  },
  {
   "cell_type": "code",
   "execution_count": 118,
   "metadata": {},
   "outputs": [
    {
     "data": {
      "text/plain": [
       "0.12081469383072126"
      ]
     },
     "execution_count": 118,
     "metadata": {},
     "output_type": "execute_result"
    }
   ],
   "source": [
    "cross_val_score(pipe,X,y,cv=5,scoring='r2').mean()"
   ]
  },
  {
   "cell_type": "code",
   "execution_count": 56,
   "metadata": {},
   "outputs": [
    {
     "data": {
      "text/plain": [
       "Index(['State', 'Education', 'Gender', 'Income', 'Marital Status',\n",
       "       'Vehicle Class', 'Vehicle Size'],\n",
       "      dtype='object')"
      ]
     },
     "execution_count": 56,
     "metadata": {},
     "output_type": "execute_result"
    }
   ],
   "source": [
    "X.columns"
   ]
  },
  {
   "cell_type": "code",
   "execution_count": 178,
   "metadata": {},
   "outputs": [
    {
     "data": {
      "text/html": [
       "<div>\n",
       "<style scoped>\n",
       "    .dataframe tbody tr th:only-of-type {\n",
       "        vertical-align: middle;\n",
       "    }\n",
       "\n",
       "    .dataframe tbody tr th {\n",
       "        vertical-align: top;\n",
       "    }\n",
       "\n",
       "    .dataframe thead th {\n",
       "        text-align: right;\n",
       "    }\n",
       "</style>\n",
       "<table border=\"1\" class=\"dataframe\">\n",
       "  <thead>\n",
       "    <tr style=\"text-align: right;\">\n",
       "      <th></th>\n",
       "      <th>State</th>\n",
       "      <th>Education</th>\n",
       "      <th>Gender</th>\n",
       "      <th>Income</th>\n",
       "      <th>Marital Status</th>\n",
       "      <th>Vehicle Class</th>\n",
       "      <th>Vehicle Size</th>\n",
       "    </tr>\n",
       "  </thead>\n",
       "  <tbody>\n",
       "    <tr>\n",
       "      <th>0</th>\n",
       "      <td>Oregon</td>\n",
       "      <td>Bachelor or Above</td>\n",
       "      <td>M</td>\n",
       "      <td>200000</td>\n",
       "      <td>Single</td>\n",
       "      <td>Luxury SUV</td>\n",
       "      <td>Large</td>\n",
       "    </tr>\n",
       "    <tr>\n",
       "      <th>1</th>\n",
       "      <td>Oregon</td>\n",
       "      <td>Bachelor or Above</td>\n",
       "      <td>F</td>\n",
       "      <td>100000</td>\n",
       "      <td>Single</td>\n",
       "      <td>SUV</td>\n",
       "      <td>Large</td>\n",
       "    </tr>\n",
       "  </tbody>\n",
       "</table>\n",
       "</div>"
      ],
      "text/plain": [
       "    State          Education Gender  Income Marital Status Vehicle Class  \\\n",
       "0  Oregon  Bachelor or Above      M  200000         Single    Luxury SUV   \n",
       "1  Oregon  Bachelor or Above      F  100000         Single           SUV   \n",
       "\n",
       "  Vehicle Size  \n",
       "0        Large  \n",
       "1        Large  "
      ]
     },
     "execution_count": 178,
     "metadata": {},
     "output_type": "execute_result"
    }
   ],
   "source": [
    "test_data = pd.read_csv(\"CLV_test_data.csv\")\n",
    "test_data"
   ]
  },
  {
   "cell_type": "code",
   "execution_count": 130,
   "metadata": {},
   "outputs": [
    {
     "data": {
      "text/plain": [
       "array([8964., 8964.])"
      ]
     },
     "execution_count": 130,
     "metadata": {},
     "output_type": "execute_result"
    }
   ],
   "source": [
    "employed_pipe.predict(test_data)"
   ]
  },
  {
   "cell_type": "code",
   "execution_count": 110,
   "metadata": {},
   "outputs": [],
   "source": [
    "df2 = pd.read_csv('IBM CLV.csv')\n",
    "df_employed, df_unemployed = df2[df2.Income > 0], df2[df2.Income == 0]"
   ]
  },
  {
   "cell_type": "code",
   "execution_count": 114,
   "metadata": {},
   "outputs": [],
   "source": [
    "def get_column_trans(X):\n",
    "    oe = OrdinalEncoder(categories=[oe_dict[0],oe_dict[1]])\n",
    "    oe.fit_transform(X[ordinal_list])\n",
    "    ohe = OneHotEncoder()\n",
    "    ohe.fit_transform(X[encode_list])\n",
    "    column_trans = make_column_transformer((OneHotEncoder(),encode_list),\n",
    "                                      (OrdinalEncoder(categories=[oe_dict[0],\n",
    "                                                                  oe_dict[1]]),\n",
    "                                      ordinal_list),remainder='drop')\n",
    "    column_trans.fit_transform(X)\n",
    "    return column_trans\n",
    "\n",
    "def get_pipeline(model,column_trans):\n",
    "    pipe = make_pipeline(column_trans,model)\n",
    "    return pipe\n",
    "\n",
    "def drop_columns(df):\n",
    "    \n",
    "    values_to_replace = df.Education.replace(to_replace=['College','Master','Doctor','Bachelor'], value='Bachelor or Above')\n",
    "    df.Education = values_to_replace\n",
    "    return df.drop(['Customer Lifetime Value', #Target variable\n",
    "             'Monthly Premium Auto', #Contributes heavily to target variable\n",
    "             'Total Claim Amount', #Contributes heavily to target variable\n",
    "             'Customer', #Unique ID\n",
    "             'Number of Policies', #Contributes heavily to target variable\n",
    "             'Effective To Date', #Gave model problems\n",
    "             'EmploymentStatus', #Information found in 'Income' column\n",
    "            'Location Code',\n",
    "            'Policy Type',\n",
    "            'Policy',\n",
    "            'Renew Offer Type',\n",
    "            'Response',\n",
    "            'Coverage',\n",
    "            'Months Since Last Claim',\n",
    "            'Months Since Policy Inception',\n",
    "            'Number of Open Complaints',\n",
    "            'Sales Channel'],axis=1) #Information found in 'State' coumn"
   ]
  },
  {
   "cell_type": "code",
   "execution_count": 115,
   "metadata": {},
   "outputs": [
    {
     "name": "stderr",
     "output_type": "stream",
     "text": [
      "C:\\Users\\ryan\\anaconda3\\lib\\site-packages\\pandas\\core\\generic.py:5491: SettingWithCopyWarning: \n",
      "A value is trying to be set on a copy of a slice from a DataFrame.\n",
      "Try using .loc[row_indexer,col_indexer] = value instead\n",
      "\n",
      "See the caveats in the documentation: https://pandas.pydata.org/pandas-docs/stable/user_guide/indexing.html#returning-a-view-versus-a-copy\n",
      "  self[name] = value\n"
     ]
    },
    {
     "data": {
      "text/html": [
       "<div>\n",
       "<style scoped>\n",
       "    .dataframe tbody tr th:only-of-type {\n",
       "        vertical-align: middle;\n",
       "    }\n",
       "\n",
       "    .dataframe tbody tr th {\n",
       "        vertical-align: top;\n",
       "    }\n",
       "\n",
       "    .dataframe thead th {\n",
       "        text-align: right;\n",
       "    }\n",
       "</style>\n",
       "<table border=\"1\" class=\"dataframe\">\n",
       "  <thead>\n",
       "    <tr style=\"text-align: right;\">\n",
       "      <th></th>\n",
       "      <th>State</th>\n",
       "      <th>Education</th>\n",
       "      <th>Gender</th>\n",
       "      <th>Income</th>\n",
       "      <th>Marital Status</th>\n",
       "      <th>Vehicle Class</th>\n",
       "      <th>Vehicle Size</th>\n",
       "    </tr>\n",
       "  </thead>\n",
       "  <tbody>\n",
       "    <tr>\n",
       "      <th>0</th>\n",
       "      <td>Washington</td>\n",
       "      <td>Bachelor or Above</td>\n",
       "      <td>F</td>\n",
       "      <td>56274</td>\n",
       "      <td>Married</td>\n",
       "      <td>Two-Door Car</td>\n",
       "      <td>Medsize</td>\n",
       "    </tr>\n",
       "    <tr>\n",
       "      <th>2</th>\n",
       "      <td>Nevada</td>\n",
       "      <td>Bachelor or Above</td>\n",
       "      <td>F</td>\n",
       "      <td>48767</td>\n",
       "      <td>Married</td>\n",
       "      <td>Two-Door Car</td>\n",
       "      <td>Medsize</td>\n",
       "    </tr>\n",
       "    <tr>\n",
       "      <th>4</th>\n",
       "      <td>Washington</td>\n",
       "      <td>Bachelor or Above</td>\n",
       "      <td>M</td>\n",
       "      <td>43836</td>\n",
       "      <td>Single</td>\n",
       "      <td>Four-Door Car</td>\n",
       "      <td>Medsize</td>\n",
       "    </tr>\n",
       "    <tr>\n",
       "      <th>5</th>\n",
       "      <td>Oregon</td>\n",
       "      <td>Bachelor or Above</td>\n",
       "      <td>F</td>\n",
       "      <td>62902</td>\n",
       "      <td>Married</td>\n",
       "      <td>Two-Door Car</td>\n",
       "      <td>Medsize</td>\n",
       "    </tr>\n",
       "    <tr>\n",
       "      <th>6</th>\n",
       "      <td>Oregon</td>\n",
       "      <td>Bachelor or Above</td>\n",
       "      <td>F</td>\n",
       "      <td>55350</td>\n",
       "      <td>Married</td>\n",
       "      <td>Four-Door Car</td>\n",
       "      <td>Medsize</td>\n",
       "    </tr>\n",
       "    <tr>\n",
       "      <th>...</th>\n",
       "      <td>...</td>\n",
       "      <td>...</td>\n",
       "      <td>...</td>\n",
       "      <td>...</td>\n",
       "      <td>...</td>\n",
       "      <td>...</td>\n",
       "      <td>...</td>\n",
       "    </tr>\n",
       "    <tr>\n",
       "      <th>9127</th>\n",
       "      <td>California</td>\n",
       "      <td>Bachelor or Above</td>\n",
       "      <td>M</td>\n",
       "      <td>66367</td>\n",
       "      <td>Divorced</td>\n",
       "      <td>Two-Door Car</td>\n",
       "      <td>Small</td>\n",
       "    </tr>\n",
       "    <tr>\n",
       "      <th>9128</th>\n",
       "      <td>California</td>\n",
       "      <td>Bachelor or Above</td>\n",
       "      <td>F</td>\n",
       "      <td>47761</td>\n",
       "      <td>Single</td>\n",
       "      <td>Four-Door Car</td>\n",
       "      <td>Large</td>\n",
       "    </tr>\n",
       "    <tr>\n",
       "      <th>9129</th>\n",
       "      <td>California</td>\n",
       "      <td>Bachelor or Above</td>\n",
       "      <td>M</td>\n",
       "      <td>71941</td>\n",
       "      <td>Married</td>\n",
       "      <td>Four-Door Car</td>\n",
       "      <td>Medsize</td>\n",
       "    </tr>\n",
       "    <tr>\n",
       "      <th>9130</th>\n",
       "      <td>California</td>\n",
       "      <td>Bachelor or Above</td>\n",
       "      <td>F</td>\n",
       "      <td>21604</td>\n",
       "      <td>Divorced</td>\n",
       "      <td>Four-Door Car</td>\n",
       "      <td>Medsize</td>\n",
       "    </tr>\n",
       "    <tr>\n",
       "      <th>9132</th>\n",
       "      <td>California</td>\n",
       "      <td>Bachelor or Above</td>\n",
       "      <td>M</td>\n",
       "      <td>21941</td>\n",
       "      <td>Married</td>\n",
       "      <td>Four-Door Car</td>\n",
       "      <td>Large</td>\n",
       "    </tr>\n",
       "  </tbody>\n",
       "</table>\n",
       "<p>6817 rows × 7 columns</p>\n",
       "</div>"
      ],
      "text/plain": [
       "           State          Education Gender  Income Marital Status  \\\n",
       "0     Washington  Bachelor or Above      F   56274        Married   \n",
       "2         Nevada  Bachelor or Above      F   48767        Married   \n",
       "4     Washington  Bachelor or Above      M   43836         Single   \n",
       "5         Oregon  Bachelor or Above      F   62902        Married   \n",
       "6         Oregon  Bachelor or Above      F   55350        Married   \n",
       "...          ...                ...    ...     ...            ...   \n",
       "9127  California  Bachelor or Above      M   66367       Divorced   \n",
       "9128  California  Bachelor or Above      F   47761         Single   \n",
       "9129  California  Bachelor or Above      M   71941        Married   \n",
       "9130  California  Bachelor or Above      F   21604       Divorced   \n",
       "9132  California  Bachelor or Above      M   21941        Married   \n",
       "\n",
       "      Vehicle Class Vehicle Size  \n",
       "0      Two-Door Car      Medsize  \n",
       "2      Two-Door Car      Medsize  \n",
       "4     Four-Door Car      Medsize  \n",
       "5      Two-Door Car      Medsize  \n",
       "6     Four-Door Car      Medsize  \n",
       "...             ...          ...  \n",
       "9127   Two-Door Car        Small  \n",
       "9128  Four-Door Car        Large  \n",
       "9129  Four-Door Car      Medsize  \n",
       "9130  Four-Door Car      Medsize  \n",
       "9132  Four-Door Car        Large  \n",
       "\n",
       "[6817 rows x 7 columns]"
      ]
     },
     "execution_count": 115,
     "metadata": {},
     "output_type": "execute_result"
    }
   ],
   "source": [
    "y_employed = df_employed['Customer Lifetime Value']\n",
    "X_employed = drop_columns(df_employed)"
   ]
  },
  {
   "cell_type": "code",
   "execution_count": 117,
   "metadata": {},
   "outputs": [
    {
     "data": {
      "text/plain": [
       "0.12418511086681164"
      ]
     },
     "execution_count": 117,
     "metadata": {},
     "output_type": "execute_result"
    }
   ],
   "source": [
    "y_employed = df_employed['Customer Lifetime Value']\n",
    "X_employed = drop_columns(df_employed)\n",
    "employed_col_trans = get_column_trans(X_employed)\n",
    "employed_pipe = get_pipeline(regr,employed_col_trans)\n",
    "employed_pipe.fit(X_employed,y_employed)\n",
    "cross_val_score(pipe,X_employed,y_employed,cv=5,scoring='r2').mean()"
   ]
  },
  {
   "cell_type": "code",
   "execution_count": 127,
   "metadata": {
    "collapsed": true
   },
   "outputs": [
    {
     "name": "stderr",
     "output_type": "stream",
     "text": [
      "C:\\Users\\ryan\\anaconda3\\lib\\site-packages\\pandas\\core\\generic.py:5491: SettingWithCopyWarning: \n",
      "A value is trying to be set on a copy of a slice from a DataFrame.\n",
      "Try using .loc[row_indexer,col_indexer] = value instead\n",
      "\n",
      "See the caveats in the documentation: https://pandas.pydata.org/pandas-docs/stable/user_guide/indexing.html#returning-a-view-versus-a-copy\n",
      "  self[name] = value\n"
     ]
    },
    {
     "data": {
      "text/plain": [
       "array([-0.00217019,  0.1124502 ,  0.12086005,  0.11036444,  0.11161649])"
      ]
     },
     "execution_count": 127,
     "metadata": {},
     "output_type": "execute_result"
    }
   ],
   "source": [
    "y_unemployed = df_unemployed['Customer Lifetime Value']\n",
    "X_unemployed = df_unemployed.drop(['Customer Lifetime Value','Income'],axis=1)\n",
    "X_unemployed = drop_columns(df_unemployed)\n",
    "unemployed_col_trans = get_column_trans(X_unemployed)\n",
    "unemployed_pipe = get_pipeline(regr,unemployed_col_trans)\n",
    "unemployed_pipe.fit(X_unemployed,y_unemployed)\n",
    "cross_val_score(pipe,X_unemployed,y_unemployed,cv=5,scoring='r2')"
   ]
  },
  {
   "cell_type": "code",
   "execution_count": 132,
   "metadata": {
    "collapsed": true
   },
   "outputs": [
    {
     "data": {
      "text/plain": [
       "<AxesSubplot:>"
      ]
     },
     "execution_count": 132,
     "metadata": {},
     "output_type": "execute_result"
    },
    {
     "data": {
      "image/png": "[encoded data removed]",
      "text/plain": [
       "<Figure size 1080x1080 with 2 Axes>"
      ]
     },
     "metadata": {},
     "output_type": "display_data"
    }
   ],
   "source": [
    "corr = df_employed.corr()\n",
    "mask = np.zeros_like(corr)\n",
    "mask[np.triu_indices_from(mask)] = True\n",
    "plt.figure(figsize=(15,15))\n",
    "sns.heatmap(corr,annot=True,mask=mask)"
   ]
  },
  {
   "cell_type": "code",
   "execution_count": 149,
   "metadata": {},
   "outputs": [
    {
     "data": {
      "text/plain": [
       "200"
      ]
     },
     "execution_count": 149,
     "metadata": {},
     "output_type": "execute_result"
    }
   ],
   "source": [
    "len(lasso_alphas)"
   ]
  },
  {
   "cell_type": "code",
   "execution_count": 181,
   "metadata": {},
   "outputs": [
    {
     "name": "stderr",
     "output_type": "stream",
     "text": [
      "C:\\Users\\ryan\\anaconda3\\lib\\site-packages\\sklearn\\linear_model\\_coordinate_descent.py:529: ConvergenceWarning: Objective did not converge. You might want to increase the number of iterations. Duality gap: 68132350499.374756, tolerance: 43117071.892719924\n",
      "  model = cd_fast.enet_coordinate_descent(\n",
      "C:\\Users\\ryan\\anaconda3\\lib\\site-packages\\sklearn\\linear_model\\_coordinate_descent.py:529: ConvergenceWarning: Objective did not converge. You might want to increase the number of iterations. Duality gap: 55345775753.997574, tolerance: 35326664.40313652\n",
      "  model = cd_fast.enet_coordinate_descent(\n",
      "C:\\Users\\ryan\\anaconda3\\lib\\site-packages\\sklearn\\linear_model\\_coordinate_descent.py:529: ConvergenceWarning: Objective did not converge. You might want to increase the number of iterations. Duality gap: 55794689645.44473, tolerance: 35397107.82018515\n",
      "  model = cd_fast.enet_coordinate_descent(\n",
      "C:\\Users\\ryan\\anaconda3\\lib\\site-packages\\sklearn\\linear_model\\_coordinate_descent.py:529: ConvergenceWarning: Objective did not converge. You might want to increase the number of iterations. Duality gap: 55210342658.574585, tolerance: 34495253.82112931\n",
      "  model = cd_fast.enet_coordinate_descent(\n",
      "C:\\Users\\ryan\\anaconda3\\lib\\site-packages\\sklearn\\linear_model\\_coordinate_descent.py:529: ConvergenceWarning: Objective did not converge. You might want to increase the number of iterations. Duality gap: 51119134951.159805, tolerance: 32311487.450400062\n",
      "  model = cd_fast.enet_coordinate_descent(\n",
      "C:\\Users\\ryan\\anaconda3\\lib\\site-packages\\sklearn\\linear_model\\_coordinate_descent.py:529: ConvergenceWarning: Objective did not converge. You might want to increase the number of iterations. Duality gap: 54793057414.4411, tolerance: 34932195.805535264\n",
      "  model = cd_fast.enet_coordinate_descent(\n",
      "C:\\Users\\ryan\\anaconda3\\lib\\site-packages\\sklearn\\linear_model\\_coordinate_descent.py:529: ConvergenceWarning: Objective did not converge. You might want to increase the number of iterations. Duality gap: 68132355169.523315, tolerance: 43117071.892719924\n",
      "  model = cd_fast.enet_coordinate_descent(\n",
      "C:\\Users\\ryan\\anaconda3\\lib\\site-packages\\sklearn\\linear_model\\_coordinate_descent.py:529: ConvergenceWarning: Objective did not converge. You might want to increase the number of iterations. Duality gap: 55345775380.03723, tolerance: 35326664.40313652\n",
      "  model = cd_fast.enet_coordinate_descent(\n",
      "C:\\Users\\ryan\\anaconda3\\lib\\site-packages\\sklearn\\linear_model\\_coordinate_descent.py:529: ConvergenceWarning: Objective did not converge. You might want to increase the number of iterations. Duality gap: 55794691598.11992, tolerance: 35397107.82018515\n",
      "  model = cd_fast.enet_coordinate_descent(\n",
      "C:\\Users\\ryan\\anaconda3\\lib\\site-packages\\sklearn\\linear_model\\_coordinate_descent.py:529: ConvergenceWarning: Objective did not converge. You might want to increase the number of iterations. Duality gap: 55210344031.41092, tolerance: 34495253.82112931\n",
      "  model = cd_fast.enet_coordinate_descent(\n",
      "C:\\Users\\ryan\\anaconda3\\lib\\site-packages\\sklearn\\linear_model\\_coordinate_descent.py:529: ConvergenceWarning: Objective did not converge. You might want to increase the number of iterations. Duality gap: 51119137746.423965, tolerance: 32311487.450400062\n",
      "  model = cd_fast.enet_coordinate_descent(\n",
      "C:\\Users\\ryan\\anaconda3\\lib\\site-packages\\sklearn\\linear_model\\_coordinate_descent.py:529: ConvergenceWarning: Objective did not converge. You might want to increase the number of iterations. Duality gap: 54793059868.76869, tolerance: 34932195.805535264\n",
      "  model = cd_fast.enet_coordinate_descent(\n",
      "C:\\Users\\ryan\\anaconda3\\lib\\site-packages\\sklearn\\linear_model\\_coordinate_descent.py:529: ConvergenceWarning: Objective did not converge. You might want to increase the number of iterations. Duality gap: 68132358314.666504, tolerance: 43117071.892719924\n",
      "  model = cd_fast.enet_coordinate_descent(\n",
      "C:\\Users\\ryan\\anaconda3\\lib\\site-packages\\sklearn\\linear_model\\_coordinate_descent.py:529: ConvergenceWarning: Objective did not converge. You might want to increase the number of iterations. Duality gap: 55345776368.75162, tolerance: 35326664.40313652\n",
      "  model = cd_fast.enet_coordinate_descent(\n",
      "C:\\Users\\ryan\\anaconda3\\lib\\site-packages\\sklearn\\linear_model\\_coordinate_descent.py:529: ConvergenceWarning: Objective did not converge. You might want to increase the number of iterations. Duality gap: 55794693103.24104, tolerance: 35397107.82018515\n",
      "  model = cd_fast.enet_coordinate_descent(\n",
      "C:\\Users\\ryan\\anaconda3\\lib\\site-packages\\sklearn\\linear_model\\_coordinate_descent.py:529: ConvergenceWarning: Objective did not converge. You might want to increase the number of iterations. Duality gap: 55210345335.318634, tolerance: 34495253.82112931\n",
      "  model = cd_fast.enet_coordinate_descent(\n",
      "C:\\Users\\ryan\\anaconda3\\lib\\site-packages\\sklearn\\linear_model\\_coordinate_descent.py:529: ConvergenceWarning: Objective did not converge. You might want to increase the number of iterations. Duality gap: 51119139164.98819, tolerance: 32311487.450400062\n",
      "  model = cd_fast.enet_coordinate_descent(\n",
      "C:\\Users\\ryan\\anaconda3\\lib\\site-packages\\sklearn\\linear_model\\_coordinate_descent.py:529: ConvergenceWarning: Objective did not converge. You might want to increase the number of iterations. Duality gap: 54793061684.54491, tolerance: 34932195.805535264\n",
      "  model = cd_fast.enet_coordinate_descent(\n",
      "C:\\Users\\ryan\\anaconda3\\lib\\site-packages\\sklearn\\linear_model\\_coordinate_descent.py:529: ConvergenceWarning: Objective did not converge. You might want to increase the number of iterations. Duality gap: 68132366535.24927, tolerance: 43117071.892719924\n",
      "  model = cd_fast.enet_coordinate_descent(\n",
      "C:\\Users\\ryan\\anaconda3\\lib\\site-packages\\sklearn\\linear_model\\_coordinate_descent.py:529: ConvergenceWarning: Objective did not converge. You might want to increase the number of iterations. Duality gap: 55345783406.942764, tolerance: 35326664.40313652\n",
      "  model = cd_fast.enet_coordinate_descent(\n",
      "C:\\Users\\ryan\\anaconda3\\lib\\site-packages\\sklearn\\linear_model\\_coordinate_descent.py:529: ConvergenceWarning: Objective did not converge. You might want to increase the number of iterations. Duality gap: 55794699868.02724, tolerance: 35397107.82018515\n",
      "  model = cd_fast.enet_coordinate_descent(\n",
      "C:\\Users\\ryan\\anaconda3\\lib\\site-packages\\sklearn\\linear_model\\_coordinate_descent.py:529: ConvergenceWarning: Objective did not converge. You might want to increase the number of iterations. Duality gap: 55210351964.6194, tolerance: 34495253.82112931\n",
      "  model = cd_fast.enet_coordinate_descent(\n",
      "C:\\Users\\ryan\\anaconda3\\lib\\site-packages\\sklearn\\linear_model\\_coordinate_descent.py:529: ConvergenceWarning: Objective did not converge. You might want to increase the number of iterations. Duality gap: 51119145736.36519, tolerance: 32311487.450400062\n",
      "  model = cd_fast.enet_coordinate_descent(\n",
      "C:\\Users\\ryan\\anaconda3\\lib\\site-packages\\sklearn\\linear_model\\_coordinate_descent.py:529: ConvergenceWarning: Objective did not converge. You might want to increase the number of iterations. Duality gap: 54793068393.16438, tolerance: 34932195.805535264\n",
      "  model = cd_fast.enet_coordinate_descent(\n",
      "C:\\Users\\ryan\\anaconda3\\lib\\site-packages\\sklearn\\linear_model\\_coordinate_descent.py:529: ConvergenceWarning: Objective did not converge. You might want to increase the number of iterations. Duality gap: 68132402257.18753, tolerance: 43117071.892719924\n",
      "  model = cd_fast.enet_coordinate_descent(\n",
      "C:\\Users\\ryan\\anaconda3\\lib\\site-packages\\sklearn\\linear_model\\_coordinate_descent.py:529: ConvergenceWarning: Objective did not converge. You might want to increase the number of iterations. Duality gap: 55345813211.659134, tolerance: 35326664.40313652\n",
      "  model = cd_fast.enet_coordinate_descent(\n",
      "C:\\Users\\ryan\\anaconda3\\lib\\site-packages\\sklearn\\linear_model\\_coordinate_descent.py:529: ConvergenceWarning: Objective did not converge. You might want to increase the number of iterations. Duality gap: 55794728410.14664, tolerance: 35397107.82018515\n",
      "  model = cd_fast.enet_coordinate_descent(\n",
      "C:\\Users\\ryan\\anaconda3\\lib\\site-packages\\sklearn\\linear_model\\_coordinate_descent.py:529: ConvergenceWarning: Objective did not converge. You might want to increase the number of iterations. Duality gap: 55210379824.10248, tolerance: 34495253.82112931\n",
      "  model = cd_fast.enet_coordinate_descent(\n"
     ]
    },
    {
     "name": "stderr",
     "output_type": "stream",
     "text": [
      "C:\\Users\\ryan\\anaconda3\\lib\\site-packages\\sklearn\\linear_model\\_coordinate_descent.py:529: ConvergenceWarning: Objective did not converge. You might want to increase the number of iterations. Duality gap: 51119173532.2124, tolerance: 32311487.450400062\n",
      "  model = cd_fast.enet_coordinate_descent(\n",
      "C:\\Users\\ryan\\anaconda3\\lib\\site-packages\\sklearn\\linear_model\\_coordinate_descent.py:529: ConvergenceWarning: Objective did not converge. You might want to increase the number of iterations. Duality gap: 54793097574.175415, tolerance: 34932195.805535264\n",
      "  model = cd_fast.enet_coordinate_descent(\n",
      "C:\\Users\\ryan\\anaconda3\\lib\\site-packages\\sklearn\\linear_model\\_coordinate_descent.py:529: ConvergenceWarning: Objective did not converge. You might want to increase the number of iterations. Duality gap: 68132553766.75827, tolerance: 43117071.892719924\n",
      "  model = cd_fast.enet_coordinate_descent(\n",
      "C:\\Users\\ryan\\anaconda3\\lib\\site-packages\\sklearn\\linear_model\\_coordinate_descent.py:529: ConvergenceWarning: Objective did not converge. You might want to increase the number of iterations. Duality gap: 55345940527.887115, tolerance: 35326664.40313652\n",
      "  model = cd_fast.enet_coordinate_descent(\n",
      "C:\\Users\\ryan\\anaconda3\\lib\\site-packages\\sklearn\\linear_model\\_coordinate_descent.py:529: ConvergenceWarning: Objective did not converge. You might want to increase the number of iterations. Duality gap: 55794850283.32161, tolerance: 35397107.82018515\n",
      "  model = cd_fast.enet_coordinate_descent(\n",
      "C:\\Users\\ryan\\anaconda3\\lib\\site-packages\\sklearn\\linear_model\\_coordinate_descent.py:529: ConvergenceWarning: Objective did not converge. You might want to increase the number of iterations. Duality gap: 55210498852.385376, tolerance: 34495253.82112931\n",
      "  model = cd_fast.enet_coordinate_descent(\n",
      "C:\\Users\\ryan\\anaconda3\\lib\\site-packages\\sklearn\\linear_model\\_coordinate_descent.py:529: ConvergenceWarning: Objective did not converge. You might want to increase the number of iterations. Duality gap: 51119292001.56975, tolerance: 32311487.450400062\n",
      "  model = cd_fast.enet_coordinate_descent(\n",
      "C:\\Users\\ryan\\anaconda3\\lib\\site-packages\\sklearn\\linear_model\\_coordinate_descent.py:529: ConvergenceWarning: Objective did not converge. You might want to increase the number of iterations. Duality gap: 54793221998.27704, tolerance: 34932195.805535264\n",
      "  model = cd_fast.enet_coordinate_descent(\n",
      "C:\\Users\\ryan\\anaconda3\\lib\\site-packages\\sklearn\\linear_model\\_coordinate_descent.py:529: ConvergenceWarning: Objective did not converge. You might want to increase the number of iterations. Duality gap: 68133198779.62674, tolerance: 43117071.892719924\n",
      "  model = cd_fast.enet_coordinate_descent(\n",
      "C:\\Users\\ryan\\anaconda3\\lib\\site-packages\\sklearn\\linear_model\\_coordinate_descent.py:529: ConvergenceWarning: Objective did not converge. You might want to increase the number of iterations. Duality gap: 55346480626.45476, tolerance: 35326664.40313652\n",
      "  model = cd_fast.enet_coordinate_descent(\n",
      "C:\\Users\\ryan\\anaconda3\\lib\\site-packages\\sklearn\\linear_model\\_coordinate_descent.py:529: ConvergenceWarning: Objective did not converge. You might want to increase the number of iterations. Duality gap: 55795368915.15318, tolerance: 35397107.82018515\n",
      "  model = cd_fast.enet_coordinate_descent(\n",
      "C:\\Users\\ryan\\anaconda3\\lib\\site-packages\\sklearn\\linear_model\\_coordinate_descent.py:529: ConvergenceWarning: Objective did not converge. You might want to increase the number of iterations. Duality gap: 55211004738.49931, tolerance: 34495253.82112931\n",
      "  model = cd_fast.enet_coordinate_descent(\n",
      "C:\\Users\\ryan\\anaconda3\\lib\\site-packages\\sklearn\\linear_model\\_coordinate_descent.py:529: ConvergenceWarning: Objective did not converge. You might want to increase the number of iterations. Duality gap: 51119791194.60062, tolerance: 32311487.450400062\n",
      "  model = cd_fast.enet_coordinate_descent(\n",
      "C:\\Users\\ryan\\anaconda3\\lib\\site-packages\\sklearn\\linear_model\\_coordinate_descent.py:529: ConvergenceWarning: Objective did not converge. You might want to increase the number of iterations. Duality gap: 54793751003.0732, tolerance: 34932195.805535264\n",
      "  model = cd_fast.enet_coordinate_descent(\n",
      "C:\\Users\\ryan\\anaconda3\\lib\\site-packages\\sklearn\\linear_model\\_coordinate_descent.py:529: ConvergenceWarning: Objective did not converge. You might want to increase the number of iterations. Duality gap: 68135881445.23236, tolerance: 43117071.892719924\n",
      "  model = cd_fast.enet_coordinate_descent(\n",
      "C:\\Users\\ryan\\anaconda3\\lib\\site-packages\\sklearn\\linear_model\\_coordinate_descent.py:529: ConvergenceWarning: Objective did not converge. You might want to increase the number of iterations. Duality gap: 55348737131.19095, tolerance: 35326664.40313652\n",
      "  model = cd_fast.enet_coordinate_descent(\n",
      "C:\\Users\\ryan\\anaconda3\\lib\\site-packages\\sklearn\\linear_model\\_coordinate_descent.py:529: ConvergenceWarning: Objective did not converge. You might want to increase the number of iterations. Duality gap: 55797531510.94586, tolerance: 35397107.82018515\n",
      "  model = cd_fast.enet_coordinate_descent(\n",
      "C:\\Users\\ryan\\anaconda3\\lib\\site-packages\\sklearn\\linear_model\\_coordinate_descent.py:529: ConvergenceWarning: Objective did not converge. You might want to increase the number of iterations. Duality gap: 55213102588.86815, tolerance: 34495253.82112931\n",
      "  model = cd_fast.enet_coordinate_descent(\n",
      "C:\\Users\\ryan\\anaconda3\\lib\\site-packages\\sklearn\\linear_model\\_coordinate_descent.py:529: ConvergenceWarning: Objective did not converge. You might want to increase the number of iterations. Duality gap: 51121847884.019226, tolerance: 32311487.450400062\n",
      "  model = cd_fast.enet_coordinate_descent(\n",
      "C:\\Users\\ryan\\anaconda3\\lib\\site-packages\\sklearn\\linear_model\\_coordinate_descent.py:529: ConvergenceWarning: Objective did not converge. You might want to increase the number of iterations. Duality gap: 54795951964.04106, tolerance: 34932195.805535264\n",
      "  model = cd_fast.enet_coordinate_descent(\n",
      "C:\\Users\\ryan\\anaconda3\\lib\\site-packages\\sklearn\\linear_model\\_coordinate_descent.py:529: ConvergenceWarning: Objective did not converge. You might want to increase the number of iterations. Duality gap: 68146102925.81653, tolerance: 43117071.892719924\n",
      "  model = cd_fast.enet_coordinate_descent(\n",
      "C:\\Users\\ryan\\anaconda3\\lib\\site-packages\\sklearn\\linear_model\\_coordinate_descent.py:529: ConvergenceWarning: Objective did not converge. You might want to increase the number of iterations. Duality gap: 55357311835.80191, tolerance: 35326664.40313652\n",
      "  model = cd_fast.enet_coordinate_descent(\n",
      "C:\\Users\\ryan\\anaconda3\\lib\\site-packages\\sklearn\\linear_model\\_coordinate_descent.py:529: ConvergenceWarning: Objective did not converge. You might want to increase the number of iterations. Duality gap: 55805730154.308, tolerance: 35397107.82018515\n",
      "  model = cd_fast.enet_coordinate_descent(\n",
      "C:\\Users\\ryan\\anaconda3\\lib\\site-packages\\sklearn\\linear_model\\_coordinate_descent.py:529: ConvergenceWarning: Objective did not converge. You might want to increase the number of iterations. Duality gap: 55221037610.498566, tolerance: 34495253.82112931\n",
      "  model = cd_fast.enet_coordinate_descent(\n",
      "C:\\Users\\ryan\\anaconda3\\lib\\site-packages\\sklearn\\linear_model\\_coordinate_descent.py:529: ConvergenceWarning: Objective did not converge. You might want to increase the number of iterations. Duality gap: 51129756498.684204, tolerance: 32311487.450400062\n",
      "  model = cd_fast.enet_coordinate_descent(\n",
      "C:\\Users\\ryan\\anaconda3\\lib\\site-packages\\sklearn\\linear_model\\_coordinate_descent.py:529: ConvergenceWarning: Objective did not converge. You might want to increase the number of iterations. Duality gap: 54804434050.348434, tolerance: 34932195.805535264\n",
      "  model = cd_fast.enet_coordinate_descent(\n"
     ]
    }
   ],
   "source": [
    "las = Lasso()\n",
    "lasso_alphas = np.logspace(-6, 6, 20)\n",
    "coefs_las = []\n",
    "r2_las = []\n",
    "prediction = []\n",
    "for a in lasso_alphas:\n",
    "    las.set_params(alpha = a)\n",
    "    pipe_las = make_pipeline(column_trans,las)\n",
    "    pipe_las.fit(X,y)\n",
    "    result = cross_val_score(pipe_las,X,y,cv=5,scoring='r2').mean()\n",
    "    r2_las.append(result)\n",
    "    coefs_las.append(a)\n",
    "    prediction.append(pipe_las.predict(test_data))\n",
    "    \n",
    "r2_coef_las = zip(r2_las,coefs_las)"
   ]
  },
  {
   "cell_type": "code",
   "execution_count": 171,
   "metadata": {},
   "outputs": [
    {
     "name": "stdout",
     "output_type": "stream",
     "text": [
      "(-0.40297019368307296, 1e-06)\n",
      "(-0.40297019395208994, 4.281332398719396e-06)\n",
      "(-0.4029701951038411, 1.8329807108324375e-05)\n",
      "(-0.4029702000348777, 7.847599703514606e-05)\n",
      "(-0.40297022114641257, 0.0003359818286283781)\n",
      "(-0.40297031556628105, 0.0014384498882876629)\n",
      "(-0.4029707068835453, 0.00615848211066026)\n",
      "(-0.4029725313090656, 0.026366508987303555)\n",
      "(-0.4029802999362291, 0.11288378916846883)\n",
      "(-0.4029907186214582, 0.4832930238571752)\n",
      "(-0.403063929911957, 2.06913808111479)\n",
      "(-0.4034523640447028, 8.858667904100814)\n",
      "(-0.40627194019026563, 37.92690190732246)\n",
      "(-0.4258556244539083, 162.37767391887175)\n",
      "(-0.4827184542116137, 695.1927961775591)\n",
      "(-0.48342979444152456, 2976.3514416313133)\n",
      "(-0.48342979444152456, 12742.749857031322)\n",
      "(-0.48342979444152456, 54555.947811685146)\n",
      "(-0.48342979444152456, 233572.14690901214)\n",
      "(-0.48342979444152456, 1000000.0)\n"
     ]
    }
   ],
   "source": [
    "for element in r2_coef_las:\n",
    "    print(element)"
   ]
  },
  {
   "cell_type": "code",
   "execution_count": 166,
   "metadata": {},
   "outputs": [],
   "source": [
    "ridge = Ridge()\n",
    "ridge_alphas = np.logspace(-6, 6, 20)\n",
    "coefs_ridge = []\n",
    "r2_ridge = []\n",
    "for a in ridge_alphas:\n",
    "    ridge.set_params(alpha = a)\n",
    "    pipe_ridge = make_pipeline(column_trans,las)\n",
    "    pipe_ridge.fit(X,y)\n",
    "    result = cross_val_score(pipe_ridge,X,y,cv=5,scoring='r2').mean()\n",
    "    r2_ridge.append(result)\n",
    "    coefs_ridge.append(a)\n",
    "    \n",
    "r2_coef_ridge = zip(r2_ridge,coefs_ridge)"
   ]
  },
  {
   "cell_type": "code",
   "execution_count": 167,
   "metadata": {},
   "outputs": [
    {
     "name": "stdout",
     "output_type": "stream",
     "text": [
      "(-0.0007925134935758305, 1e-06)\n",
      "(-0.0007925134935758305, 4.281332398719396e-06)\n",
      "(-0.0007925134935758305, 1.8329807108324375e-05)\n",
      "(-0.0007925134935758305, 7.847599703514606e-05)\n",
      "(-0.0007925134935758305, 0.0003359818286283781)\n",
      "(-0.0007925134935758305, 0.0014384498882876629)\n",
      "(-0.0007925134935758305, 0.00615848211066026)\n",
      "(-0.0007925134935758305, 0.026366508987303555)\n",
      "(-0.0007925134935758305, 0.11288378916846883)\n",
      "(-0.0007925134935758305, 0.4832930238571752)\n",
      "(-0.0007925134935758305, 2.06913808111479)\n",
      "(-0.0007925134935758305, 8.858667904100814)\n",
      "(-0.0007925134935758305, 37.92690190732246)\n",
      "(-0.0007925134935758305, 162.37767391887175)\n",
      "(-0.0007925134935758305, 695.1927961775591)\n",
      "(-0.0007925134935758305, 2976.3514416313133)\n",
      "(-0.0007925134935758305, 12742.749857031322)\n",
      "(-0.0007925134935758305, 54555.947811685146)\n",
      "(-0.0007925134935758305, 233572.14690901214)\n",
      "(-0.0007925134935758305, 1000000.0)\n"
     ]
    }
   ],
   "source": [
    "for element in r2_coef_ridge:\n",
    "    print(element)"
   ]
  },
  {
   "cell_type": "code",
   "execution_count": 190,
   "metadata": {},
   "outputs": [
    {
     "data": {
      "text/plain": [
       "array([15991.91907324, 10011.81559678])"
      ]
     },
     "execution_count": 190,
     "metadata": {},
     "output_type": "execute_result"
    }
   ],
   "source": [
    "las.set_params(alpha = 8.858667904100814)\n",
    "pipe_las = make_pipeline(column_trans,las)\n",
    "pipe_las.fit(X,y)\n",
    "pipe_las.predict(test_data)"
   ]
  },
  {
   "cell_type": "code",
   "execution_count": 191,
   "metadata": {},
   "outputs": [
    {
     "name": "stdout",
     "output_type": "stream",
     "text": [
      "[16352.95461088  9926.2649037 ]\n",
      "[16352.95450379  9926.26492654]\n",
      "[16352.95404532  9926.26502435]\n",
      "[16352.95208243  9926.2654431 ]\n",
      "[16352.94367864  9926.26723589]\n",
      "[16352.89868758  9926.26557289]\n",
      "[16352.71507756  9926.26779158]\n",
      "[16351.93538884  9926.28214343]\n",
      "[16348.6171626  9926.335064 ]\n",
      "[16333.04626686  9930.71388913]\n",
      "[16267.73103784  9945.27467658]\n",
      "[15991.91907324 10011.81559678]\n",
      "[14882.59883669 10238.38023939]\n",
      "[10248.92857717 10248.92857717]\n",
      "[8004.94047499 8004.94047499]\n",
      "[8004.94047499 8004.94047499]\n",
      "[8004.94047499 8004.94047499]\n",
      "[8004.94047499 8004.94047499]\n",
      "[8004.94047499 8004.94047499]\n",
      "[8004.94047499 8004.94047499]\n"
     ]
    }
   ],
   "source": [
    "for i in prediction:\n",
    "    print(i)"
   ]
  }
 ],
 "metadata": {
  "kernelspec": {
   "display_name": "Python 3",
   "language": "python",
   "name": "python3"
  },
  "language_info": {
   "codemirror_mode": {
    "name": "ipython",
    "version": 3
   },
   "file_extension": ".py",
   "mimetype": "text/x-python",
   "name": "python",
   "nbconvert_exporter": "python",
   "pygments_lexer": "ipython3",
   "version": "3.8.5"
  }
 },
 "nbformat": 4,
 "nbformat_minor": 4
}
