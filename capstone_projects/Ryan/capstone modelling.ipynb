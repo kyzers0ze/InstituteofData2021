{
 "cells": [
  {
   "cell_type": "code",
   "execution_count": 2,
   "id": "fresh-mystery",
   "metadata": {},
   "outputs": [],
   "source": [
    "import pandas as pd\n",
    "import numpy as np\n",
    "import matplotlib.pyplot as plt\n",
    "import seaborn as sns\n",
    "import datetime\n",
    "from datetime import datetime\n",
    "from sklearn.model_selection import train_test_split\n",
    "import re\n",
    "import pickle\n",
    "from spacytextblob.spacytextblob import SpacyTextBlob\n",
    "import en_core_web_md\n",
    "from xgboost import XGBClassifier\n",
    "\n",
    "%matplotlib inline\n",
    "plt.style.use('ggplot')"
   ]
  },
  {
   "cell_type": "code",
   "execution_count": 3,
   "id": "subject-blowing",
   "metadata": {},
   "outputs": [],
   "source": [
    "nlp = en_core_web_md.load()\n",
    "spacy_text_blob = SpacyTextBlob()\n",
    "nlp.add_pipe(spacy_text_blob)\n",
    "\n",
    "#check if stock price went up today\n",
    "def is_stock_up(row):\n",
    "    return True if row[1] < row[4] else False\n",
    "\n",
    "    \n",
    "def get_sentiment(body):\n",
    "    doc = nlp(body)\n",
    "    return doc._.sentiment.polarity\n",
    "\n",
    "def get_subjectivity(body):\n",
    "    doc = nlp(body)\n",
    "    return doc._.sentiment.subjectivity\n",
    "\n",
    "#clean the open price such that it uses the previous day closing price\n",
    "def clean_open(open_price,close_price):\n",
    "    open_price = list(open_price)\n",
    "    close_price = list(close_price)\n",
    "    cleanned_prices = [open_price[0]]\n",
    "    cleanned_prices.extend(close_price[:-1])\n",
    "    return cleanned_prices\n",
    "\n",
    "#shift the dataframes down to get the stock movement tomorrow\n",
    "def rotate_df_series(movements):\n",
    "    first_half = movements[1:]\n",
    "    second_half = movements[0]\n",
    "    first_half.append(second_half)\n",
    "    return first_half\n",
    "\n",
    "#remove row without next day movement\n",
    "def remove_last_row(df):\n",
    "    row = df.iloc[-1].name\n",
    "    return df.drop(row)\n",
    "    \n",
    "    "
   ]
  },
  {
   "cell_type": "code",
   "execution_count": 3,
   "id": "national-fleet",
   "metadata": {},
   "outputs": [],
   "source": [
    "df = pd.read_csv('cleaned_wsb_sample.csv')"
   ]
  },
  {
   "cell_type": "code",
   "execution_count": 4,
   "id": "comparable-champion",
   "metadata": {
    "scrolled": true
   },
   "outputs": [],
   "source": [
    "df = df.drop('Unnamed: 0',axis=1)"
   ]
  },
  {
   "cell_type": "code",
   "execution_count": 9,
   "id": "russian-potential",
   "metadata": {},
   "outputs": [],
   "source": [
    "#Covert to New York Stock exchange timezone\n",
    "df.created_utc = pd.DatetimeIndex(data=df.created_utc,tz='Etc/Universal')"
   ]
  },
  {
   "cell_type": "code",
   "execution_count": 13,
   "id": "fuzzy-raleigh",
   "metadata": {},
   "outputs": [],
   "source": [
    "df['sentiment'] = df.body.apply(get_sentiment)"
   ]
  },
  {
   "cell_type": "code",
   "execution_count": 14,
   "id": "quantitative-college",
   "metadata": {},
   "outputs": [],
   "source": [
    "df['subjectivity'] = df.body.apply(get_subjectivity)"
   ]
  },
  {
   "cell_type": "code",
   "execution_count": 15,
   "id": "affiliated-hotel",
   "metadata": {},
   "outputs": [
    {
     "name": "stdout",
     "output_type": "stream",
     "text": [
      "<class 'pandas.core.frame.DataFrame'>\n",
      "RangeIndex: 11180899 entries, 0 to 11180898\n",
      "Data columns (total 5 columns):\n",
      " #   Column        Dtype                        \n",
      "---  ------        -----                        \n",
      " 0   body          object                       \n",
      " 1   created_utc   datetime64[ns, Etc/Universal]\n",
      " 2   token_length  int64                        \n",
      " 3   sentiment     float64                      \n",
      " 4   subjectivity  float64                      \n",
      "dtypes: datetime64[ns, Etc/Universal](1), float64(2), int64(1), object(1)\n",
      "memory usage: 426.5+ MB\n"
     ]
    }
   ],
   "source": [
    "df.info()"
   ]
  },
  {
   "cell_type": "code",
   "execution_count": 16,
   "id": "connected-national",
   "metadata": {},
   "outputs": [
    {
     "data": {
      "text/html": [
       "<div>\n",
       "<style scoped>\n",
       "    .dataframe tbody tr th:only-of-type {\n",
       "        vertical-align: middle;\n",
       "    }\n",
       "\n",
       "    .dataframe tbody tr th {\n",
       "        vertical-align: top;\n",
       "    }\n",
       "\n",
       "    .dataframe thead th {\n",
       "        text-align: right;\n",
       "    }\n",
       "</style>\n",
       "<table border=\"1\" class=\"dataframe\">\n",
       "  <thead>\n",
       "    <tr style=\"text-align: right;\">\n",
       "      <th></th>\n",
       "      <th>body</th>\n",
       "      <th>created_utc</th>\n",
       "      <th>token_length</th>\n",
       "      <th>sentiment</th>\n",
       "      <th>subjectivity</th>\n",
       "    </tr>\n",
       "  </thead>\n",
       "  <tbody>\n",
       "    <tr>\n",
       "      <th>0</th>\n",
       "      <td>We’re retarded and claim to be often. If you l...</td>\n",
       "      <td>2020-03-25 08:11:50+00:00</td>\n",
       "      <td>17</td>\n",
       "      <td>-0.8000</td>\n",
       "      <td>0.800</td>\n",
       "    </tr>\n",
       "    <tr>\n",
       "      <th>1</th>\n",
       "      <td>markets been open for 13 min...</td>\n",
       "      <td>2020-03-25 08:11:45+00:00</td>\n",
       "      <td>6</td>\n",
       "      <td>0.0000</td>\n",
       "      <td>0.500</td>\n",
       "    </tr>\n",
       "    <tr>\n",
       "      <th>2</th>\n",
       "      <td>Spy can fuck around all it wants just as long ...</td>\n",
       "      <td>2020-03-25 08:11:41+00:00</td>\n",
       "      <td>20</td>\n",
       "      <td>-0.0625</td>\n",
       "      <td>0.275</td>\n",
       "    </tr>\n",
       "    <tr>\n",
       "      <th>3</th>\n",
       "      <td>you lost me at \"bulls fucked\"</td>\n",
       "      <td>2020-03-25 08:11:36+00:00</td>\n",
       "      <td>6</td>\n",
       "      <td>-0.6000</td>\n",
       "      <td>0.700</td>\n",
       "    </tr>\n",
       "    <tr>\n",
       "      <th>4</th>\n",
       "      <td>I wonder if the same people who short TSLA but...</td>\n",
       "      <td>2020-03-25 08:11:35+00:00</td>\n",
       "      <td>19</td>\n",
       "      <td>-0.1200</td>\n",
       "      <td>0.465</td>\n",
       "    </tr>\n",
       "  </tbody>\n",
       "</table>\n",
       "</div>"
      ],
      "text/plain": [
       "                                                body  \\\n",
       "0  We’re retarded and claim to be often. If you l...   \n",
       "1                    markets been open for 13 min...   \n",
       "2  Spy can fuck around all it wants just as long ...   \n",
       "3                      you lost me at \"bulls fucked\"   \n",
       "4  I wonder if the same people who short TSLA but...   \n",
       "\n",
       "                created_utc  token_length  sentiment  subjectivity  \n",
       "0 2020-03-25 08:11:50+00:00            17    -0.8000         0.800  \n",
       "1 2020-03-25 08:11:45+00:00             6     0.0000         0.500  \n",
       "2 2020-03-25 08:11:41+00:00            20    -0.0625         0.275  \n",
       "3 2020-03-25 08:11:36+00:00             6    -0.6000         0.700  \n",
       "4 2020-03-25 08:11:35+00:00            19    -0.1200         0.465  "
      ]
     },
     "execution_count": 16,
     "metadata": {},
     "output_type": "execute_result"
    }
   ],
   "source": [
    "df.head()"
   ]
  },
  {
   "cell_type": "code",
   "execution_count": 18,
   "id": "moved-daily",
   "metadata": {},
   "outputs": [],
   "source": [
    "df['created_utc'] = df['created_utc'].apply(lambda timestamp : timestamp.tz_convert('US/Eastern'))"
   ]
  },
  {
   "cell_type": "code",
   "execution_count": 40,
   "id": "headed-fence",
   "metadata": {},
   "outputs": [],
   "source": [
    "df['date_string'] = df['created_utc'].dt.strftime('%Y-%m-%d')"
   ]
  },
  {
   "cell_type": "code",
   "execution_count": 56,
   "id": "fitted-republic",
   "metadata": {},
   "outputs": [],
   "source": [
    "#Feature engineering to see the effect Month has on stock movement\n",
    "df['month'] = df['created_utc'].dt.strftime('%B')"
   ]
  },
  {
   "cell_type": "code",
   "execution_count": 38,
   "id": "mighty-reporter",
   "metadata": {},
   "outputs": [],
   "source": [
    "#Feature engineering to see the effect day of week has on stock movement\n",
    "df['day_of_week'] = df['created_utc'].dt.strftime('%A')"
   ]
  },
  {
   "cell_type": "code",
   "execution_count": 80,
   "id": "distinct-confusion",
   "metadata": {},
   "outputs": [],
   "source": [
    "df.to_csv('cleaned_wsb_sample.csv')"
   ]
  },
  {
   "cell_type": "code",
   "execution_count": 59,
   "id": "statistical-tender",
   "metadata": {},
   "outputs": [
    {
     "name": "stdout",
     "output_type": "stream",
     "text": [
      "<class 'pandas.core.frame.DataFrame'>\n",
      "RangeIndex: 11180899 entries, 0 to 11180898\n",
      "Data columns (total 8 columns):\n",
      " #   Column        Dtype                     \n",
      "---  ------        -----                     \n",
      " 0   body          object                    \n",
      " 1   created_utc   datetime64[ns, US/Eastern]\n",
      " 2   token_length  int64                     \n",
      " 3   sentiment     float64                   \n",
      " 4   subjectivity  float64                   \n",
      " 5   date_string   object                    \n",
      " 6   day_of_week   object                    \n",
      " 7   month         object                    \n",
      "dtypes: datetime64[ns, US/Eastern](1), float64(2), int64(1), object(4)\n",
      "memory usage: 682.4+ MB\n"
     ]
    }
   ],
   "source": [
    "df.info()"
   ]
  },
  {
   "cell_type": "code",
   "execution_count": 60,
   "id": "portuguese-tribe",
   "metadata": {},
   "outputs": [],
   "source": [
    "#group dataframe by day\n",
    "count = df.groupby(['date_string','day_of_week','month'])['body'].count()"
   ]
  },
  {
   "cell_type": "code",
   "execution_count": 61,
   "id": "dangerous-private",
   "metadata": {},
   "outputs": [
    {
     "data": {
      "text/plain": [
       "date_string  day_of_week  month   \n",
       "2018-02-17   Saturday     February      133\n",
       "2018-02-18   Sunday       February      564\n",
       "2018-02-19   Monday       February      572\n",
       "2018-02-20   Tuesday      February      626\n",
       "2018-02-21   Wednesday    February      536\n",
       "                                      ...  \n",
       "2021-02-12   Friday       February    32549\n",
       "2021-02-13   Saturday     February    12548\n",
       "2021-02-14   Sunday       February     4206\n",
       "2021-02-15   Monday       February    11814\n",
       "2021-02-16   Tuesday      February     5022\n",
       "Name: body, Length: 1035, dtype: int64"
      ]
     },
     "execution_count": 61,
     "metadata": {},
     "output_type": "execute_result"
    }
   ],
   "source": [
    "count"
   ]
  },
  {
   "cell_type": "code",
   "execution_count": 68,
   "id": "hidden-cookie",
   "metadata": {},
   "outputs": [],
   "source": [
    "#get mean sentiment per day\n",
    "sentiment = df.groupby(['date_string','day_of_week','month'])['sentiment'].mean()\n",
    "subjectivity = df.groupby(['date_string','day_of_week','month'])['subjectivity'].mean()"
   ]
  },
  {
   "cell_type": "code",
   "execution_count": 104,
   "id": "advisory-sunday",
   "metadata": {},
   "outputs": [],
   "source": [
    "sent_df = pd.DataFrame(sentiment)\n",
    "subj_df = pd.DataFrame(subjectivity)\n",
    "count_df = pd.DataFrame(count)"
   ]
  },
  {
   "cell_type": "code",
   "execution_count": 105,
   "id": "statutory-appointment",
   "metadata": {},
   "outputs": [],
   "source": [
    "sent_df = sent_df.reset_index(level=[0,1,2])\n",
    "subj_df = subj_df.reset_index(level=[0,1,2,])\n",
    "count_df = count_df.reset_index(level=[0,1,2])"
   ]
  },
  {
   "cell_type": "code",
   "execution_count": 106,
   "id": "diagnostic-smith",
   "metadata": {},
   "outputs": [
    {
     "data": {
      "text/html": [
       "<div>\n",
       "<style scoped>\n",
       "    .dataframe tbody tr th:only-of-type {\n",
       "        vertical-align: middle;\n",
       "    }\n",
       "\n",
       "    .dataframe tbody tr th {\n",
       "        vertical-align: top;\n",
       "    }\n",
       "\n",
       "    .dataframe thead th {\n",
       "        text-align: right;\n",
       "    }\n",
       "</style>\n",
       "<table border=\"1\" class=\"dataframe\">\n",
       "  <thead>\n",
       "    <tr style=\"text-align: right;\">\n",
       "      <th></th>\n",
       "      <th>date_string</th>\n",
       "      <th>day_of_week_x</th>\n",
       "      <th>month_x</th>\n",
       "      <th>sentiment</th>\n",
       "      <th>day_of_week_y</th>\n",
       "      <th>month_y</th>\n",
       "      <th>subjectivity</th>\n",
       "      <th>day_of_week</th>\n",
       "      <th>month</th>\n",
       "      <th>body</th>\n",
       "    </tr>\n",
       "  </thead>\n",
       "  <tbody>\n",
       "    <tr>\n",
       "      <th>0</th>\n",
       "      <td>2018-02-17</td>\n",
       "      <td>Saturday</td>\n",
       "      <td>February</td>\n",
       "      <td>-0.008260</td>\n",
       "      <td>Saturday</td>\n",
       "      <td>February</td>\n",
       "      <td>0.383118</td>\n",
       "      <td>Saturday</td>\n",
       "      <td>February</td>\n",
       "      <td>133</td>\n",
       "    </tr>\n",
       "    <tr>\n",
       "      <th>1</th>\n",
       "      <td>2018-02-18</td>\n",
       "      <td>Sunday</td>\n",
       "      <td>February</td>\n",
       "      <td>0.046003</td>\n",
       "      <td>Sunday</td>\n",
       "      <td>February</td>\n",
       "      <td>0.344501</td>\n",
       "      <td>Sunday</td>\n",
       "      <td>February</td>\n",
       "      <td>564</td>\n",
       "    </tr>\n",
       "    <tr>\n",
       "      <th>2</th>\n",
       "      <td>2018-02-19</td>\n",
       "      <td>Monday</td>\n",
       "      <td>February</td>\n",
       "      <td>0.059630</td>\n",
       "      <td>Monday</td>\n",
       "      <td>February</td>\n",
       "      <td>0.342871</td>\n",
       "      <td>Monday</td>\n",
       "      <td>February</td>\n",
       "      <td>572</td>\n",
       "    </tr>\n",
       "    <tr>\n",
       "      <th>3</th>\n",
       "      <td>2018-02-20</td>\n",
       "      <td>Tuesday</td>\n",
       "      <td>February</td>\n",
       "      <td>0.036545</td>\n",
       "      <td>Tuesday</td>\n",
       "      <td>February</td>\n",
       "      <td>0.353234</td>\n",
       "      <td>Tuesday</td>\n",
       "      <td>February</td>\n",
       "      <td>626</td>\n",
       "    </tr>\n",
       "    <tr>\n",
       "      <th>4</th>\n",
       "      <td>2018-02-21</td>\n",
       "      <td>Wednesday</td>\n",
       "      <td>February</td>\n",
       "      <td>0.042253</td>\n",
       "      <td>Wednesday</td>\n",
       "      <td>February</td>\n",
       "      <td>0.335483</td>\n",
       "      <td>Wednesday</td>\n",
       "      <td>February</td>\n",
       "      <td>536</td>\n",
       "    </tr>\n",
       "  </tbody>\n",
       "</table>\n",
       "</div>"
      ],
      "text/plain": [
       "  date_string day_of_week_x   month_x  sentiment day_of_week_y   month_y  \\\n",
       "0  2018-02-17      Saturday  February  -0.008260      Saturday  February   \n",
       "1  2018-02-18        Sunday  February   0.046003        Sunday  February   \n",
       "2  2018-02-19        Monday  February   0.059630        Monday  February   \n",
       "3  2018-02-20       Tuesday  February   0.036545       Tuesday  February   \n",
       "4  2018-02-21     Wednesday  February   0.042253     Wednesday  February   \n",
       "\n",
       "   subjectivity day_of_week     month  body  \n",
       "0      0.383118    Saturday  February   133  \n",
       "1      0.344501      Sunday  February   564  \n",
       "2      0.342871      Monday  February   572  \n",
       "3      0.353234     Tuesday  February   626  \n",
       "4      0.335483   Wednesday  February   536  "
      ]
     },
     "execution_count": 106,
     "metadata": {},
     "output_type": "execute_result"
    }
   ],
   "source": [
    "#join dataframes together\n",
    "combined_df = pd.merge(sent_df,subj_df, on='date_string')\n",
    "combined_df = pd.merge(combined_df,count_df,on='date_string')\n",
    "combined_df.head()"
   ]
  },
  {
   "cell_type": "code",
   "execution_count": 107,
   "id": "coupled-speed",
   "metadata": {},
   "outputs": [
    {
     "data": {
      "text/html": [
       "<div>\n",
       "<style scoped>\n",
       "    .dataframe tbody tr th:only-of-type {\n",
       "        vertical-align: middle;\n",
       "    }\n",
       "\n",
       "    .dataframe tbody tr th {\n",
       "        vertical-align: top;\n",
       "    }\n",
       "\n",
       "    .dataframe thead th {\n",
       "        text-align: right;\n",
       "    }\n",
       "</style>\n",
       "<table border=\"1\" class=\"dataframe\">\n",
       "  <thead>\n",
       "    <tr style=\"text-align: right;\">\n",
       "      <th></th>\n",
       "      <th>date_string</th>\n",
       "      <th>sentiment</th>\n",
       "      <th>subjectivity</th>\n",
       "      <th>day_of_week</th>\n",
       "      <th>month</th>\n",
       "      <th>body</th>\n",
       "    </tr>\n",
       "  </thead>\n",
       "  <tbody>\n",
       "    <tr>\n",
       "      <th>0</th>\n",
       "      <td>2018-02-17</td>\n",
       "      <td>-0.008260</td>\n",
       "      <td>0.383118</td>\n",
       "      <td>Saturday</td>\n",
       "      <td>February</td>\n",
       "      <td>133</td>\n",
       "    </tr>\n",
       "    <tr>\n",
       "      <th>1</th>\n",
       "      <td>2018-02-18</td>\n",
       "      <td>0.046003</td>\n",
       "      <td>0.344501</td>\n",
       "      <td>Sunday</td>\n",
       "      <td>February</td>\n",
       "      <td>564</td>\n",
       "    </tr>\n",
       "    <tr>\n",
       "      <th>2</th>\n",
       "      <td>2018-02-19</td>\n",
       "      <td>0.059630</td>\n",
       "      <td>0.342871</td>\n",
       "      <td>Monday</td>\n",
       "      <td>February</td>\n",
       "      <td>572</td>\n",
       "    </tr>\n",
       "    <tr>\n",
       "      <th>3</th>\n",
       "      <td>2018-02-20</td>\n",
       "      <td>0.036545</td>\n",
       "      <td>0.353234</td>\n",
       "      <td>Tuesday</td>\n",
       "      <td>February</td>\n",
       "      <td>626</td>\n",
       "    </tr>\n",
       "    <tr>\n",
       "      <th>4</th>\n",
       "      <td>2018-02-21</td>\n",
       "      <td>0.042253</td>\n",
       "      <td>0.335483</td>\n",
       "      <td>Wednesday</td>\n",
       "      <td>February</td>\n",
       "      <td>536</td>\n",
       "    </tr>\n",
       "  </tbody>\n",
       "</table>\n",
       "</div>"
      ],
      "text/plain": [
       "  date_string  sentiment  subjectivity day_of_week     month  body\n",
       "0  2018-02-17  -0.008260      0.383118    Saturday  February   133\n",
       "1  2018-02-18   0.046003      0.344501      Sunday  February   564\n",
       "2  2018-02-19   0.059630      0.342871      Monday  February   572\n",
       "3  2018-02-20   0.036545      0.353234     Tuesday  February   626\n",
       "4  2018-02-21   0.042253      0.335483   Wednesday  February   536"
      ]
     },
     "execution_count": 107,
     "metadata": {},
     "output_type": "execute_result"
    }
   ],
   "source": [
    "#drop uneeded columns\n",
    "combined_df = combined_df.drop(['day_of_week_x','day_of_week_y','month_x','month_y'],axis=1)\n",
    "combined_df.head()"
   ]
  },
  {
   "cell_type": "code",
   "execution_count": 110,
   "id": "promising-midwest",
   "metadata": {},
   "outputs": [
    {
     "data": {
      "text/html": [
       "<div>\n",
       "<style scoped>\n",
       "    .dataframe tbody tr th:only-of-type {\n",
       "        vertical-align: middle;\n",
       "    }\n",
       "\n",
       "    .dataframe tbody tr th {\n",
       "        vertical-align: top;\n",
       "    }\n",
       "\n",
       "    .dataframe thead th {\n",
       "        text-align: right;\n",
       "    }\n",
       "</style>\n",
       "<table border=\"1\" class=\"dataframe\">\n",
       "  <thead>\n",
       "    <tr style=\"text-align: right;\">\n",
       "      <th></th>\n",
       "      <th>date_string</th>\n",
       "      <th>sentiment</th>\n",
       "      <th>subjectivity</th>\n",
       "      <th>day_of_week</th>\n",
       "      <th>month</th>\n",
       "      <th>comment_count</th>\n",
       "    </tr>\n",
       "  </thead>\n",
       "  <tbody>\n",
       "    <tr>\n",
       "      <th>0</th>\n",
       "      <td>2018-02-17</td>\n",
       "      <td>-0.008260</td>\n",
       "      <td>0.383118</td>\n",
       "      <td>Saturday</td>\n",
       "      <td>February</td>\n",
       "      <td>133</td>\n",
       "    </tr>\n",
       "    <tr>\n",
       "      <th>1</th>\n",
       "      <td>2018-02-18</td>\n",
       "      <td>0.046003</td>\n",
       "      <td>0.344501</td>\n",
       "      <td>Sunday</td>\n",
       "      <td>February</td>\n",
       "      <td>564</td>\n",
       "    </tr>\n",
       "    <tr>\n",
       "      <th>2</th>\n",
       "      <td>2018-02-19</td>\n",
       "      <td>0.059630</td>\n",
       "      <td>0.342871</td>\n",
       "      <td>Monday</td>\n",
       "      <td>February</td>\n",
       "      <td>572</td>\n",
       "    </tr>\n",
       "    <tr>\n",
       "      <th>3</th>\n",
       "      <td>2018-02-20</td>\n",
       "      <td>0.036545</td>\n",
       "      <td>0.353234</td>\n",
       "      <td>Tuesday</td>\n",
       "      <td>February</td>\n",
       "      <td>626</td>\n",
       "    </tr>\n",
       "    <tr>\n",
       "      <th>4</th>\n",
       "      <td>2018-02-21</td>\n",
       "      <td>0.042253</td>\n",
       "      <td>0.335483</td>\n",
       "      <td>Wednesday</td>\n",
       "      <td>February</td>\n",
       "      <td>536</td>\n",
       "    </tr>\n",
       "  </tbody>\n",
       "</table>\n",
       "</div>"
      ],
      "text/plain": [
       "  date_string  sentiment  subjectivity day_of_week     month  comment_count\n",
       "0  2018-02-17  -0.008260      0.383118    Saturday  February            133\n",
       "1  2018-02-18   0.046003      0.344501      Sunday  February            564\n",
       "2  2018-02-19   0.059630      0.342871      Monday  February            572\n",
       "3  2018-02-20   0.036545      0.353234     Tuesday  February            626\n",
       "4  2018-02-21   0.042253      0.335483   Wednesday  February            536"
      ]
     },
     "execution_count": 110,
     "metadata": {},
     "output_type": "execute_result"
    }
   ],
   "source": [
    "#rename colmns for readability\n",
    "combined_df = combined_df.rename(mapper={'body':'comment_count'},axis=1)\n",
    "combined_df.head()"
   ]
  },
  {
   "cell_type": "code",
   "execution_count": 113,
   "id": "accurate-expression",
   "metadata": {},
   "outputs": [
    {
     "name": "stdout",
     "output_type": "stream",
     "text": [
      "<class 'pandas.core.frame.DataFrame'>\n",
      "Int64Index: 1035 entries, 0 to 1034\n",
      "Data columns (total 6 columns):\n",
      " #   Column         Non-Null Count  Dtype   \n",
      "---  ------         --------------  -----   \n",
      " 0   date_string    1035 non-null   object  \n",
      " 1   sentiment      1035 non-null   float64 \n",
      " 2   subjectivity   1035 non-null   float64 \n",
      " 3   day_of_week    1035 non-null   category\n",
      " 4   month          1035 non-null   category\n",
      " 5   comment_count  1035 non-null   int64   \n",
      "dtypes: category(2), float64(2), int64(1), object(1)\n",
      "memory usage: 75.5+ KB\n"
     ]
    }
   ],
   "source": [
    "combined_df['day_of_week'] = pd.Categorical(combined_df['day_of_week'])\n",
    "combined_df['month'] = pd.Categorical(combined_df['month'])\n",
    "combined_df.info()"
   ]
  },
  {
   "cell_type": "code",
   "execution_count": 39,
   "id": "qualified-trader",
   "metadata": {},
   "outputs": [],
   "source": [
    "combined_df.to_csv('training_data.csv')"
   ]
  },
  {
   "cell_type": "code",
   "execution_count": 40,
   "id": "accepted-overview",
   "metadata": {},
   "outputs": [
    {
     "name": "stdout",
     "output_type": "stream",
     "text": [
      "<class 'pandas.core.frame.DataFrame'>\n",
      "RangeIndex: 1035 entries, 0 to 1034\n",
      "Data columns (total 6 columns):\n",
      " #   Column         Non-Null Count  Dtype   \n",
      "---  ------         --------------  -----   \n",
      " 0   date_string    1035 non-null   object  \n",
      " 1   sentiment      1035 non-null   float64 \n",
      " 2   subjectivity   1035 non-null   float64 \n",
      " 3   day_of_week    1035 non-null   category\n",
      " 4   month          1035 non-null   category\n",
      " 5   comment_count  1035 non-null   int64   \n",
      "dtypes: category(2), float64(2), int64(1), object(1)\n",
      "memory usage: 35.2+ KB\n"
     ]
    }
   ],
   "source": [
    "combined_df = pd.read_csv('training_data.csv')\n",
    "combined_df = combined_df.drop('Unnamed: 0',axis=1)\n",
    "combined_df['day_of_week'] = pd.Categorical(combined_df['day_of_week'])\n",
    "combined_df['month'] = pd.Categorical(combined_df['month'])\n",
    "combined_df.info()"
   ]
  },
  {
   "cell_type": "code",
   "execution_count": 41,
   "id": "divided-poland",
   "metadata": {},
   "outputs": [],
   "source": [
    "#clean stock dataframes\n",
    "stocks = ['SP500.csv','GME.csv','BB.csv','AMC.csv','NOK.csv','PLTR.csv','TSLA.csv']\n",
    "df_stocks = []\n",
    "for stock in stocks:\n",
    "    df_stocks.append(pd.read_csv(stock))\n",
    "    \n",
    "filtered_stocks = []\n",
    "for frame in df_stocks:\n",
    "    frame.Date = pd.DatetimeIndex(data=frame.Date)\n",
    "    filtered_stocks.append(frame[frame.Date >= datetime(2018, 2, 15)]) \n",
    "df_stocks = []\n",
    "for frame in filtered_stocks:\n",
    "    frame.Date = pd.DatetimeIndex(data=frame.Date,tz='US/Eastern')\n",
    "    df_stocks.append(frame)\n",
    "    \n",
    "for frame in df_stocks:\n",
    "    frame['up_today'] = frame.apply(is_stock_up,axis=1)"
   ]
  },
  {
   "cell_type": "code",
   "execution_count": 43,
   "id": "comprehensive-endorsement",
   "metadata": {},
   "outputs": [],
   "source": [
    "for frame in df_stocks:\n",
    "    frame['Open'] = clean_open(frame.Open,frame.Close)"
   ]
  },
  {
   "cell_type": "code",
   "execution_count": 44,
   "id": "returning-married",
   "metadata": {},
   "outputs": [],
   "source": [
    "i = 0\n",
    "for frame in df_stocks:\n",
    "    frame['pct_change'] = -(frame['Open'] - frame['Close']) / frame['Open']"
   ]
  },
  {
   "cell_type": "code",
   "execution_count": 45,
   "id": "laden-charter",
   "metadata": {},
   "outputs": [
    {
     "data": {
      "text/html": [
       "<div>\n",
       "<style scoped>\n",
       "    .dataframe tbody tr th:only-of-type {\n",
       "        vertical-align: middle;\n",
       "    }\n",
       "\n",
       "    .dataframe tbody tr th {\n",
       "        vertical-align: top;\n",
       "    }\n",
       "\n",
       "    .dataframe thead th {\n",
       "        text-align: right;\n",
       "    }\n",
       "</style>\n",
       "<table border=\"1\" class=\"dataframe\">\n",
       "  <thead>\n",
       "    <tr style=\"text-align: right;\">\n",
       "      <th></th>\n",
       "      <th>Date</th>\n",
       "      <th>Open</th>\n",
       "      <th>High</th>\n",
       "      <th>Low</th>\n",
       "      <th>Close</th>\n",
       "      <th>Adj Close</th>\n",
       "      <th>Volume</th>\n",
       "      <th>up_today</th>\n",
       "      <th>pct_change</th>\n",
       "      <th>up_tomorrow</th>\n",
       "    </tr>\n",
       "  </thead>\n",
       "  <tbody>\n",
       "    <tr>\n",
       "      <th>113</th>\n",
       "      <td>2018-02-15 00:00:00-05:00</td>\n",
       "      <td>2713.46</td>\n",
       "      <td>2731.51</td>\n",
       "      <td>2689.82</td>\n",
       "      <td>2731.20</td>\n",
       "      <td>2731.20</td>\n",
       "      <td>3.684910e+09</td>\n",
       "      <td>True</td>\n",
       "      <td>0.006538</td>\n",
       "      <td>True</td>\n",
       "    </tr>\n",
       "    <tr>\n",
       "      <th>114</th>\n",
       "      <td>2018-02-16 00:00:00-05:00</td>\n",
       "      <td>2731.20</td>\n",
       "      <td>2754.42</td>\n",
       "      <td>2725.11</td>\n",
       "      <td>2732.22</td>\n",
       "      <td>2732.22</td>\n",
       "      <td>3.637460e+09</td>\n",
       "      <td>True</td>\n",
       "      <td>0.000373</td>\n",
       "      <td>False</td>\n",
       "    </tr>\n",
       "    <tr>\n",
       "      <th>115</th>\n",
       "      <td>2018-02-20 00:00:00-05:00</td>\n",
       "      <td>2732.22</td>\n",
       "      <td>2737.60</td>\n",
       "      <td>2706.76</td>\n",
       "      <td>2716.26</td>\n",
       "      <td>2716.26</td>\n",
       "      <td>3.627610e+09</td>\n",
       "      <td>False</td>\n",
       "      <td>-0.005841</td>\n",
       "      <td>False</td>\n",
       "    </tr>\n",
       "    <tr>\n",
       "      <th>116</th>\n",
       "      <td>2018-02-21 00:00:00-05:00</td>\n",
       "      <td>2716.26</td>\n",
       "      <td>2747.75</td>\n",
       "      <td>2701.29</td>\n",
       "      <td>2701.33</td>\n",
       "      <td>2701.33</td>\n",
       "      <td>3.779400e+09</td>\n",
       "      <td>False</td>\n",
       "      <td>-0.005497</td>\n",
       "      <td>False</td>\n",
       "    </tr>\n",
       "    <tr>\n",
       "      <th>117</th>\n",
       "      <td>2018-02-22 00:00:00-05:00</td>\n",
       "      <td>2701.33</td>\n",
       "      <td>2731.26</td>\n",
       "      <td>2697.77</td>\n",
       "      <td>2703.96</td>\n",
       "      <td>2703.96</td>\n",
       "      <td>3.701270e+09</td>\n",
       "      <td>False</td>\n",
       "      <td>0.000974</td>\n",
       "      <td>True</td>\n",
       "    </tr>\n",
       "    <tr>\n",
       "      <th>...</th>\n",
       "      <td>...</td>\n",
       "      <td>...</td>\n",
       "      <td>...</td>\n",
       "      <td>...</td>\n",
       "      <td>...</td>\n",
       "      <td>...</td>\n",
       "      <td>...</td>\n",
       "      <td>...</td>\n",
       "      <td>...</td>\n",
       "      <td>...</td>\n",
       "    </tr>\n",
       "    <tr>\n",
       "      <th>894</th>\n",
       "      <td>2021-03-25 00:00:00-04:00</td>\n",
       "      <td>3889.14</td>\n",
       "      <td>3919.54</td>\n",
       "      <td>3853.50</td>\n",
       "      <td>3909.52</td>\n",
       "      <td>3909.52</td>\n",
       "      <td>4.940800e+09</td>\n",
       "      <td>True</td>\n",
       "      <td>0.005240</td>\n",
       "      <td>True</td>\n",
       "    </tr>\n",
       "    <tr>\n",
       "      <th>895</th>\n",
       "      <td>2021-03-26 00:00:00-04:00</td>\n",
       "      <td>3909.52</td>\n",
       "      <td>3978.19</td>\n",
       "      <td>3917.12</td>\n",
       "      <td>3974.54</td>\n",
       "      <td>3974.54</td>\n",
       "      <td>5.467850e+09</td>\n",
       "      <td>True</td>\n",
       "      <td>0.016631</td>\n",
       "      <td>True</td>\n",
       "    </tr>\n",
       "    <tr>\n",
       "      <th>896</th>\n",
       "      <td>2021-03-29 00:00:00-04:00</td>\n",
       "      <td>3974.54</td>\n",
       "      <td>3981.83</td>\n",
       "      <td>3943.25</td>\n",
       "      <td>3971.09</td>\n",
       "      <td>3971.09</td>\n",
       "      <td>4.619840e+09</td>\n",
       "      <td>True</td>\n",
       "      <td>-0.000868</td>\n",
       "      <td>False</td>\n",
       "    </tr>\n",
       "    <tr>\n",
       "      <th>897</th>\n",
       "      <td>2021-03-30 00:00:00-04:00</td>\n",
       "      <td>3971.09</td>\n",
       "      <td>3968.01</td>\n",
       "      <td>3944.35</td>\n",
       "      <td>3958.55</td>\n",
       "      <td>3958.55</td>\n",
       "      <td>4.103570e+09</td>\n",
       "      <td>False</td>\n",
       "      <td>-0.003158</td>\n",
       "      <td>True</td>\n",
       "    </tr>\n",
       "    <tr>\n",
       "      <th>898</th>\n",
       "      <td>2021-03-31 00:00:00-04:00</td>\n",
       "      <td>3958.55</td>\n",
       "      <td>3994.41</td>\n",
       "      <td>3966.98</td>\n",
       "      <td>3972.89</td>\n",
       "      <td>3972.89</td>\n",
       "      <td>4.564980e+09</td>\n",
       "      <td>True</td>\n",
       "      <td>0.003623</td>\n",
       "      <td>True</td>\n",
       "    </tr>\n",
       "  </tbody>\n",
       "</table>\n",
       "<p>786 rows × 10 columns</p>\n",
       "</div>"
      ],
      "text/plain": [
       "                         Date     Open     High      Low    Close  Adj Close  \\\n",
       "113 2018-02-15 00:00:00-05:00  2713.46  2731.51  2689.82  2731.20    2731.20   \n",
       "114 2018-02-16 00:00:00-05:00  2731.20  2754.42  2725.11  2732.22    2732.22   \n",
       "115 2018-02-20 00:00:00-05:00  2732.22  2737.60  2706.76  2716.26    2716.26   \n",
       "116 2018-02-21 00:00:00-05:00  2716.26  2747.75  2701.29  2701.33    2701.33   \n",
       "117 2018-02-22 00:00:00-05:00  2701.33  2731.26  2697.77  2703.96    2703.96   \n",
       "..                        ...      ...      ...      ...      ...        ...   \n",
       "894 2021-03-25 00:00:00-04:00  3889.14  3919.54  3853.50  3909.52    3909.52   \n",
       "895 2021-03-26 00:00:00-04:00  3909.52  3978.19  3917.12  3974.54    3974.54   \n",
       "896 2021-03-29 00:00:00-04:00  3974.54  3981.83  3943.25  3971.09    3971.09   \n",
       "897 2021-03-30 00:00:00-04:00  3971.09  3968.01  3944.35  3958.55    3958.55   \n",
       "898 2021-03-31 00:00:00-04:00  3958.55  3994.41  3966.98  3972.89    3972.89   \n",
       "\n",
       "           Volume  up_today  pct_change  up_tomorrow  \n",
       "113  3.684910e+09      True    0.006538         True  \n",
       "114  3.637460e+09      True    0.000373        False  \n",
       "115  3.627610e+09     False   -0.005841        False  \n",
       "116  3.779400e+09     False   -0.005497        False  \n",
       "117  3.701270e+09     False    0.000974         True  \n",
       "..            ...       ...         ...          ...  \n",
       "894  4.940800e+09      True    0.005240         True  \n",
       "895  5.467850e+09      True    0.016631         True  \n",
       "896  4.619840e+09      True   -0.000868        False  \n",
       "897  4.103570e+09     False   -0.003158         True  \n",
       "898  4.564980e+09      True    0.003623         True  \n",
       "\n",
       "[786 rows x 10 columns]"
      ]
     },
     "execution_count": 45,
     "metadata": {},
     "output_type": "execute_result"
    }
   ],
   "source": [
    "cleanned_frames[0]"
   ]
  },
  {
   "cell_type": "code",
   "execution_count": 46,
   "id": "material-incidence",
   "metadata": {},
   "outputs": [],
   "source": [
    "cleanned_frames = []\n",
    "for frame in df_stocks:\n",
    "    movements = list(frame.up_today)\n",
    "    tomorrow = rotate_df_series(movements)\n",
    "    frame['up_tomorrow'] = tomorrow\n",
    "    frame = remove_last_row(frame)\n",
    "    cleanned_frames.append(frame)\n"
   ]
  },
  {
   "cell_type": "code",
   "execution_count": 47,
   "id": "british-praise",
   "metadata": {},
   "outputs": [],
   "source": [
    "for frame in df_stocks:\n",
    "    frame['date_string'] = frame['Date'].dt.strftime('%Y-%m-%d')\n",
    "    frame['day_of_week'] = frame['Date'].dt.strftime('%A')\n",
    "    frame['month'] = frame['Date'].dt.strftime('%B')\n",
    "    "
   ]
  },
  {
   "cell_type": "code",
   "execution_count": 48,
   "id": "neutral-campus",
   "metadata": {},
   "outputs": [],
   "source": [
    "for frame in df_stocks:\n",
    "    frame['pct_volatility'] = (frame['High'] - frame['Low']) / frame['Low']"
   ]
  },
  {
   "cell_type": "code",
   "execution_count": 49,
   "id": "arranged-bubble",
   "metadata": {},
   "outputs": [],
   "source": [
    "for frame in df_stocks:\n",
    "    frame.drop(['Date','Adj Close'],axis=1, inplace=True)"
   ]
  },
  {
   "cell_type": "code",
   "execution_count": 50,
   "id": "familiar-archive",
   "metadata": {},
   "outputs": [],
   "source": [
    "testing_frames = []\n",
    "for frame in df_stocks:\n",
    "    testing_frames.append(frame.merge(combined_df))"
   ]
  },
  {
   "cell_type": "code",
   "execution_count": 51,
   "id": "owned-location",
   "metadata": {},
   "outputs": [
    {
     "name": "stdout",
     "output_type": "stream",
     "text": [
      "<class 'pandas.core.frame.DataFrame'>\n",
      "Int64Index: 748 entries, 0 to 747\n",
      "Data columns (total 28 columns):\n",
      " #   Column                 Non-Null Count  Dtype  \n",
      "---  ------                 --------------  -----  \n",
      " 0   Open                   748 non-null    float64\n",
      " 1   High                   748 non-null    float64\n",
      " 2   Low                    748 non-null    float64\n",
      " 3   Close                  748 non-null    float64\n",
      " 4   Volume                 748 non-null    float64\n",
      " 5   up_today               748 non-null    bool   \n",
      " 6   pct_change             748 non-null    float64\n",
      " 7   up_tomorrow            748 non-null    bool   \n",
      " 8   date_string            748 non-null    object \n",
      " 9   pct_volatility         748 non-null    float64\n",
      " 10  sentiment              748 non-null    float64\n",
      " 11  subjectivity           748 non-null    float64\n",
      " 12  comment_count          748 non-null    int64  \n",
      " 13  day_of_week_Monday     748 non-null    uint8  \n",
      " 14  day_of_week_Thursday   748 non-null    uint8  \n",
      " 15  day_of_week_Tuesday    748 non-null    uint8  \n",
      " 16  day_of_week_Wednesday  748 non-null    uint8  \n",
      " 17  month_August           748 non-null    uint8  \n",
      " 18  month_December         748 non-null    uint8  \n",
      " 19  month_February         748 non-null    uint8  \n",
      " 20  month_January          748 non-null    uint8  \n",
      " 21  month_July             748 non-null    uint8  \n",
      " 22  month_June             748 non-null    uint8  \n",
      " 23  month_March            748 non-null    uint8  \n",
      " 24  month_May              748 non-null    uint8  \n",
      " 25  month_November         748 non-null    uint8  \n",
      " 26  month_October          748 non-null    uint8  \n",
      " 27  month_September        748 non-null    uint8  \n",
      "dtypes: bool(2), float64(9), int64(1), object(1), uint8(15)\n",
      "memory usage: 82.5+ KB\n"
     ]
    }
   ],
   "source": [
    "#get dummines on the dataframes\n",
    "i = 0\n",
    "for frame in testing_frames:\n",
    "    \n",
    "    frame['day_of_week'] = pd.Categorical(frame['day_of_week'])\n",
    "    frame['month'] = pd.Categorical(frame['month'])\n",
    "    testing_frames[i] = pd.get_dummies(frame, columns=['day_of_week','month'], drop_first=True)\n",
    "    i += 1\n",
    "    \n",
    "testing_frames[0].info()"
   ]
  },
  {
   "cell_type": "code",
   "execution_count": 52,
   "id": "welsh-scott",
   "metadata": {},
   "outputs": [],
   "source": [
    "#contain variables in a class to prevent declaring too many variables\n",
    "\n",
    "class StockDataClassification():   \n",
    "    \n",
    "    def __init__(self, df):\n",
    "        self.model = None\n",
    "        self.X_train = None\n",
    "        self.X_test = None\n",
    "        self.y_train = None\n",
    "        self.y_test = None\n",
    "        self.score = None\n",
    "        self.X = df.drop(['up_tomorrow','date_string'],axis=1)\n",
    "        self.y = df['up_tomorrow']\n",
    "        \n",
    "    def get_train_test_split(self):\n",
    "        self.X_train, self.X_test, self.y_train, self.y_test = train_test_split(self.X, self.y, test_size = 0.2, random_state = 42)\n",
    "        \n",
    "    def train_model(self, model):\n",
    "        self.model = model\n",
    "        self.model = self.model.fit(self.X_train, self.y_train)\n",
    "        \n",
    "    def get_model_results(self):\n",
    "        self.score = self.model.score(self.X_test,self.y_test)\n",
    "        return self.score\n",
    "    \n",
    "    def get_model_improvement(self):\n",
    "        return self.score - self.y.mean()\n",
    "    \n",
    "    def get_feature_importances(self):\n",
    "        return self.model.feature_importances_"
   ]
  },
  {
   "cell_type": "code",
   "execution_count": 53,
   "id": "liked-translator",
   "metadata": {},
   "outputs": [
    {
     "name": "stdout",
     "output_type": "stream",
     "text": [
      "[00:29:07] WARNING: C:/Users/Administrator/workspace/xgboost-win64_release_1.3.0/src/learner.cc:1061: Starting in XGBoost 1.3.0, the default evaluation metric used with the objective 'binary:logistic' was changed from 'error' to 'logloss'. Explicitly set eval_metric if you'd like to restore the old behavior.\n",
      "[00:29:07] WARNING: C:/Users/Administrator/workspace/xgboost-win64_release_1.3.0/src/learner.cc:1061: Starting in XGBoost 1.3.0, the default evaluation metric used with the objective 'binary:logistic' was changed from 'error' to 'logloss'. Explicitly set eval_metric if you'd like to restore the old behavior.\n",
      "[00:29:08] WARNING: C:/Users/Administrator/workspace/xgboost-win64_release_1.3.0/src/learner.cc:1061: Starting in XGBoost 1.3.0, the default evaluation metric used with the objective 'binary:logistic' was changed from 'error' to 'logloss'. Explicitly set eval_metric if you'd like to restore the old behavior.\n",
      "[00:29:08] WARNING: C:/Users/Administrator/workspace/xgboost-win64_release_1.3.0/src/learner.cc:1061: Starting in XGBoost 1.3.0, the default evaluation metric used with the objective 'binary:logistic' was changed from 'error' to 'logloss'. Explicitly set eval_metric if you'd like to restore the old behavior.\n",
      "[00:29:08] WARNING: C:/Users/Administrator/workspace/xgboost-win64_release_1.3.0/src/learner.cc:1061: Starting in XGBoost 1.3.0, the default evaluation metric used with the objective 'binary:logistic' was changed from 'error' to 'logloss'. Explicitly set eval_metric if you'd like to restore the old behavior.\n",
      "[00:29:08] WARNING: C:/Users/Administrator/workspace/xgboost-win64_release_1.3.0/src/learner.cc:1061: Starting in XGBoost 1.3.0, the default evaluation metric used with the objective 'binary:logistic' was changed from 'error' to 'logloss'. Explicitly set eval_metric if you'd like to restore the old behavior.\n",
      "[00:29:08] WARNING: C:/Users/Administrator/workspace/xgboost-win64_release_1.3.0/src/learner.cc:1061: Starting in XGBoost 1.3.0, the default evaluation metric used with the objective 'binary:logistic' was changed from 'error' to 'logloss'. Explicitly set eval_metric if you'd like to restore the old behavior.\n"
     ]
    }
   ],
   "source": [
    "#training data on XGBOOST\n",
    "stocks = ['SP500','GME','BB','AMC','NOK','PLTR','TSLA']\n",
    "i = 0\n",
    "results_dict = {}\n",
    "for frame in testing_frames:\n",
    "    stock_classification = StockDataClassification(frame)\n",
    "    stock_classification.get_train_test_split()\n",
    "    stock_classification.train_model(XGBClassifier(use_label_encoder=False))\n",
    "    results = stock_classification.get_model_results()\n",
    "    improvement = stock_classification.get_model_improvement()\n",
    "    feature_importances = stock_classification.get_feature_importances()\n",
    "    results_dict[stocks[i]] = [results,improvement,feature_importances]\n",
    "    i += 1"
   ]
  },
  {
   "cell_type": "code",
   "execution_count": 54,
   "id": "egyptian-cyprus",
   "metadata": {},
   "outputs": [
    {
     "name": "stdout",
     "output_type": "stream",
     "text": [
      "For stock SP500, the model accuracy is 0.5466666666666666, \n",
      "The improvement over the baseline model is -0.001461675579322641\n",
      "For stock GME, the model accuracy is 0.5466666666666666, \n",
      "The improvement over the baseline model is 0.07474153297682706\n",
      "For stock BB, the model accuracy is 0.52, \n",
      "The improvement over the baseline model is 0.07213903743315508\n",
      "For stock AMC, the model accuracy is 0.5266666666666666, \n",
      "The improvement over the baseline model is 0.09217468805704093\n",
      "For stock NOK, the model accuracy is 0.47333333333333333, \n",
      "The improvement over the baseline model is 0.057557932263814615\n",
      "For stock PLTR, the model accuracy is 0.6111111111111112, \n",
      "The improvement over the baseline model is 0.2666666666666667\n",
      "For stock TSLA, the model accuracy is 0.4375, \n",
      "The improvement over the baseline model is -0.060407949790795\n"
     ]
    }
   ],
   "source": [
    "#print results\n",
    "i = 0\n",
    "accuracy_results = []\n",
    "for key in results_dict:\n",
    "    print('''For stock {stock}, the model accuracy is {results}, \n",
    "The improvement over the baseline model is {improvement}'''.format(\n",
    "        stock=stocks[i],\n",
    "        results=results_dict[stocks[i]][0],\n",
    "        improvement=results_dict[stocks[i]][1]))\n",
    "    accuracy_results.append([results_dict[stocks[i]][0], results_dict[stocks[i]][1]])\n",
    "    i += 1\n",
    "    \n"
   ]
  },
  {
   "cell_type": "code",
   "execution_count": 55,
   "id": "unlikely-dimension",
   "metadata": {},
   "outputs": [
    {
     "data": {
      "text/plain": [
       "[[0.5466666666666666, -0.001461675579322641],\n",
       " [0.5466666666666666, 0.07474153297682706],\n",
       " [0.52, 0.07213903743315508],\n",
       " [0.5266666666666666, 0.09217468805704093],\n",
       " [0.47333333333333333, 0.057557932263814615],\n",
       " [0.6111111111111112, 0.2666666666666667],\n",
       " [0.4375, -0.060407949790795]]"
      ]
     },
     "execution_count": 55,
     "metadata": {},
     "output_type": "execute_result"
    }
   ],
   "source": [
    "accuracy_results"
   ]
  },
  {
   "cell_type": "code",
   "execution_count": 56,
   "id": "extraordinary-experience",
   "metadata": {},
   "outputs": [
    {
     "data": {
      "text/html": [
       "<div>\n",
       "<style scoped>\n",
       "    .dataframe tbody tr th:only-of-type {\n",
       "        vertical-align: middle;\n",
       "    }\n",
       "\n",
       "    .dataframe tbody tr th {\n",
       "        vertical-align: top;\n",
       "    }\n",
       "\n",
       "    .dataframe thead th {\n",
       "        text-align: right;\n",
       "    }\n",
       "</style>\n",
       "<table border=\"1\" class=\"dataframe\">\n",
       "  <thead>\n",
       "    <tr style=\"text-align: right;\">\n",
       "      <th></th>\n",
       "      <th>Accuracy</th>\n",
       "      <th>Improvement</th>\n",
       "    </tr>\n",
       "  </thead>\n",
       "  <tbody>\n",
       "    <tr>\n",
       "      <th>SP500</th>\n",
       "      <td>0.546667</td>\n",
       "      <td>-0.001462</td>\n",
       "    </tr>\n",
       "    <tr>\n",
       "      <th>GME</th>\n",
       "      <td>0.546667</td>\n",
       "      <td>0.074742</td>\n",
       "    </tr>\n",
       "    <tr>\n",
       "      <th>BB</th>\n",
       "      <td>0.520000</td>\n",
       "      <td>0.072139</td>\n",
       "    </tr>\n",
       "    <tr>\n",
       "      <th>AMC</th>\n",
       "      <td>0.526667</td>\n",
       "      <td>0.092175</td>\n",
       "    </tr>\n",
       "    <tr>\n",
       "      <th>NOK</th>\n",
       "      <td>0.473333</td>\n",
       "      <td>0.057558</td>\n",
       "    </tr>\n",
       "    <tr>\n",
       "      <th>PLTR</th>\n",
       "      <td>0.611111</td>\n",
       "      <td>0.266667</td>\n",
       "    </tr>\n",
       "    <tr>\n",
       "      <th>TSLA</th>\n",
       "      <td>0.437500</td>\n",
       "      <td>-0.060408</td>\n",
       "    </tr>\n",
       "  </tbody>\n",
       "</table>\n",
       "</div>"
      ],
      "text/plain": [
       "       Accuracy  Improvement\n",
       "SP500  0.546667    -0.001462\n",
       "GME    0.546667     0.074742\n",
       "BB     0.520000     0.072139\n",
       "AMC    0.526667     0.092175\n",
       "NOK    0.473333     0.057558\n",
       "PLTR   0.611111     0.266667\n",
       "TSLA   0.437500    -0.060408"
      ]
     },
     "execution_count": 56,
     "metadata": {},
     "output_type": "execute_result"
    }
   ],
   "source": [
    "#store data for feature importances\n",
    "accuracy_df = pd.DataFrame(np.array(accuracy_results),columns=['Accuracy','Improvement'],index=['SP500','GME','BB','AMC','NOK','PLTR','TSLA'])\n",
    "accuracy_df"
   ]
  },
  {
   "cell_type": "code",
   "execution_count": 57,
   "id": "orange-arizona",
   "metadata": {
    "scrolled": true
   },
   "outputs": [
    {
     "data": {
      "text/plain": [
       "Text(0.5, 0, 'Ticker Code')"
      ]
     },
     "execution_count": 57,
     "metadata": {},
     "output_type": "execute_result"
    },
    {
     "data": {
      "image/png": "[encoded data removed]",
      "text/plain": [
       "<Figure size 576x432 with 1 Axes>"
      ]
     },
     "metadata": {},
     "output_type": "display_data"
    }
   ],
   "source": [
    "accuracy_df = accuracy_df.sort_values('Accuracy',ascending=False)\n",
    "plt.figure(figsize=(8,6))\n",
    "sns.barplot(x=accuracy_df.index,y='Accuracy',data=accuracy_df)\n",
    "plt.title('Accuracy of model')\n",
    "plt.xlabel('Ticker Code')"
   ]
  },
  {
   "cell_type": "code",
   "execution_count": 58,
   "id": "sharp-operation",
   "metadata": {},
   "outputs": [
    {
     "data": {
      "text/plain": [
       "Text(0.5, 0, 'Ticker Code')"
      ]
     },
     "execution_count": 58,
     "metadata": {},
     "output_type": "execute_result"
    },
    {
     "data": {
      "image/png": "[encoded data removed]",
      "text/plain": [
       "<Figure size 576x432 with 1 Axes>"
      ]
     },
     "metadata": {},
     "output_type": "display_data"
    }
   ],
   "source": [
    "accuracy_df = accuracy_df.sort_values('Improvement',ascending=False)\n",
    "plt.figure(figsize=(8,6))\n",
    "sns.barplot(x=accuracy_df.index,y='Improvement',data=accuracy_df)\n",
    "plt.title('Improvement over baseline')\n",
    "plt.xlabel('Ticker Code')"
   ]
  },
  {
   "cell_type": "code",
   "execution_count": 59,
   "id": "color-entrance",
   "metadata": {},
   "outputs": [],
   "source": [
    "columns = stock_classification.X_train.columns\n",
    "\n",
    "\n",
    "results_df = pd.DataFrame(np.array([\n",
    "    list(results_dict[stocks[0]][2]),\n",
    "    list(results_dict[stocks[1]][2]),\n",
    "    list(results_dict[stocks[2]][2]),\n",
    "    list(results_dict[stocks[3]][2]),\n",
    "    list(results_dict[stocks[4]][2]),\n",
    "    list(results_dict[stocks[6]][2]),\n",
    "    ]), columns=columns, index=['SP500','GME','BB','AMC','NOK','TSLA'])\n",
    "\n",
    "pltr_cols = testing_frames[5].drop(['up_tomorrow','date_string'],axis=1).columns\n",
    "\n",
    "pltr = pd.DataFrame(np.array([list(results_dict[stocks[5]][2])]),columns=pltr_cols,index=['PLTR'])\n",
    "\n",
    "results_df = pd.concat([results_df, pltr]).T"
   ]
  },
  {
   "cell_type": "code",
   "execution_count": 60,
   "id": "known-bookmark",
   "metadata": {},
   "outputs": [
    {
     "data": {
      "text/plain": [
       "Text(0.5, 1.0, 'Results Heatmap')"
      ]
     },
     "execution_count": 60,
     "metadata": {},
     "output_type": "execute_result"
    },
    {
     "data": {
      "image/png": "[encoded data removed]",
      "text/plain": [
       "<Figure size 720x720 with 2 Axes>"
      ]
     },
     "metadata": {},
     "output_type": "display_data"
    }
   ],
   "source": [
    "plt.figure(figsize=(10,10))\n",
    "sns.heatmap(results_df, annot=True)\n",
    "plt.title('Results Heatmap')"
   ]
  }
 ],
 "metadata": {
  "kernelspec": {
   "display_name": "Python 3",
   "language": "python",
   "name": "python3"
  },
  "language_info": {
   "codemirror_mode": {
    "name": "ipython",
    "version": 3
   },
   "file_extension": ".py",
   "mimetype": "text/x-python",
   "name": "python",
   "nbconvert_exporter": "python",
   "pygments_lexer": "ipython3",
   "version": "3.8.8"
  }
 },
 "nbformat": 4,
 "nbformat_minor": 5
}
