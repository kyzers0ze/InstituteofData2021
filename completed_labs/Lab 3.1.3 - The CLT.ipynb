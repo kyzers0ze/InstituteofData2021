{
 "cells": [
  {
   "cell_type": "markdown",
   "metadata": {
    "colab_type": "text",
    "id": "XJ1yDaQTVf4m"
   },
   "source": [
    "<div>\n",
    "<img src=https://www.institutedata.com/wp-content/uploads/2019/10/iod_h_tp_primary_c.svg width=\"300\">\n",
    "</div>"
   ]
  },
  {
   "cell_type": "markdown",
   "metadata": {
    "colab_type": "text",
    "id": "QnAkzb-CVf4o"
   },
   "source": [
    "# Lab 3.1.3\n",
    "\n",
    "## Data\n",
    "\n",
    "The Philippine Statistics Authority (PSA) spearheads the conduct of the Family Income and Expenditure Survey (FIES) nationwide. The survey, which is undertaken every three (3) years, is aimed at providing data on family income and expenditure, including, among others, levels of consumption by item of expenditure, sources of income in cash, and related information affecting income and expenditure levels and patterns in the Philippines.\n",
    "\n",
    "You can download the data from [here](https://www.kaggle.com/grosvenpaul/family-income-and-expenditure).\n",
    "\n",
    "The purpose of today's lab is to use simulation to visualize the sampling distribution for the sample mean. The Central Limit Theorem (CLT) tells us that as our sample size gets larger, the sampling distribution of the sample mean converges to a normal distribution. Therefore, when we have a large sample size, we can say that the sampling distribution for the sample mean is approximately normal, regardless of the distribution from which we are sampling.\n",
    "\n",
    "Let's start by taking a look at the data, **`Total Household Income`** will serve as a \"population\" for the purposes of this lab. "
   ]
  },
  {
   "cell_type": "code",
   "execution_count": 25,
   "metadata": {
    "colab": {},
    "colab_type": "code",
    "id": "SEP_7ZTmVf4p"
   },
   "outputs": [],
   "source": [
    "import pandas as pd\n",
    "import numpy as np\n",
    "import matplotlib.pyplot as plt\n",
    "import seaborn as sns\n",
    "import matplotlib\n",
    "\n",
    "%matplotlib inline"
   ]
  },
  {
   "cell_type": "code",
   "execution_count": 3,
   "metadata": {
    "colab": {},
    "colab_type": "code",
    "id": "TzSCY2HWVf4t"
   },
   "outputs": [],
   "source": [
    "df = pd.read_csv(\"Family Income and Expenditure.csv\")\n",
    "# Read CSV\n"
   ]
  },
  {
   "cell_type": "code",
   "execution_count": 5,
   "metadata": {
    "colab": {},
    "colab_type": "code",
    "id": "f8AVkqjtVf4w"
   },
   "outputs": [
    {
     "data": {
      "text/html": [
       "<div>\n",
       "<style scoped>\n",
       "    .dataframe tbody tr th:only-of-type {\n",
       "        vertical-align: middle;\n",
       "    }\n",
       "\n",
       "    .dataframe tbody tr th {\n",
       "        vertical-align: top;\n",
       "    }\n",
       "\n",
       "    .dataframe thead th {\n",
       "        text-align: right;\n",
       "    }\n",
       "</style>\n",
       "<table border=\"1\" class=\"dataframe\">\n",
       "  <thead>\n",
       "    <tr style=\"text-align: right;\">\n",
       "      <th></th>\n",
       "      <th>Total Household Income</th>\n",
       "      <th>Region</th>\n",
       "      <th>Total Food Expenditure</th>\n",
       "      <th>Main Source of Income</th>\n",
       "      <th>Agricultural Household indicator</th>\n",
       "      <th>Bread and Cereals Expenditure</th>\n",
       "      <th>Total Rice Expenditure</th>\n",
       "      <th>Meat Expenditure</th>\n",
       "      <th>Total Fish and  marine products Expenditure</th>\n",
       "      <th>Fruit Expenditure</th>\n",
       "      <th>...</th>\n",
       "      <th>Number of Refrigerator/Freezer</th>\n",
       "      <th>Number of Washing Machine</th>\n",
       "      <th>Number of Airconditioner</th>\n",
       "      <th>Number of Car, Jeep, Van</th>\n",
       "      <th>Number of Landline/wireless telephones</th>\n",
       "      <th>Number of Cellular phone</th>\n",
       "      <th>Number of Personal Computer</th>\n",
       "      <th>Number of Stove with Oven/Gas Range</th>\n",
       "      <th>Number of Motorized Banca</th>\n",
       "      <th>Number of Motorcycle/Tricycle</th>\n",
       "    </tr>\n",
       "  </thead>\n",
       "  <tbody>\n",
       "    <tr>\n",
       "      <th>0</th>\n",
       "      <td>480332</td>\n",
       "      <td>CAR</td>\n",
       "      <td>117848</td>\n",
       "      <td>Wage/Salaries</td>\n",
       "      <td>0</td>\n",
       "      <td>42140</td>\n",
       "      <td>38300</td>\n",
       "      <td>24676</td>\n",
       "      <td>16806</td>\n",
       "      <td>3325</td>\n",
       "      <td>...</td>\n",
       "      <td>1</td>\n",
       "      <td>1</td>\n",
       "      <td>0</td>\n",
       "      <td>0</td>\n",
       "      <td>0</td>\n",
       "      <td>2</td>\n",
       "      <td>1</td>\n",
       "      <td>0</td>\n",
       "      <td>0</td>\n",
       "      <td>1</td>\n",
       "    </tr>\n",
       "    <tr>\n",
       "      <th>1</th>\n",
       "      <td>198235</td>\n",
       "      <td>CAR</td>\n",
       "      <td>67766</td>\n",
       "      <td>Wage/Salaries</td>\n",
       "      <td>0</td>\n",
       "      <td>17329</td>\n",
       "      <td>13008</td>\n",
       "      <td>17434</td>\n",
       "      <td>11073</td>\n",
       "      <td>2035</td>\n",
       "      <td>...</td>\n",
       "      <td>0</td>\n",
       "      <td>1</td>\n",
       "      <td>0</td>\n",
       "      <td>0</td>\n",
       "      <td>0</td>\n",
       "      <td>3</td>\n",
       "      <td>1</td>\n",
       "      <td>0</td>\n",
       "      <td>0</td>\n",
       "      <td>2</td>\n",
       "    </tr>\n",
       "    <tr>\n",
       "      <th>2</th>\n",
       "      <td>82785</td>\n",
       "      <td>CAR</td>\n",
       "      <td>61609</td>\n",
       "      <td>Wage/Salaries</td>\n",
       "      <td>1</td>\n",
       "      <td>34182</td>\n",
       "      <td>32001</td>\n",
       "      <td>7783</td>\n",
       "      <td>2590</td>\n",
       "      <td>1730</td>\n",
       "      <td>...</td>\n",
       "      <td>0</td>\n",
       "      <td>0</td>\n",
       "      <td>0</td>\n",
       "      <td>0</td>\n",
       "      <td>0</td>\n",
       "      <td>0</td>\n",
       "      <td>0</td>\n",
       "      <td>0</td>\n",
       "      <td>0</td>\n",
       "      <td>0</td>\n",
       "    </tr>\n",
       "    <tr>\n",
       "      <th>3</th>\n",
       "      <td>107589</td>\n",
       "      <td>CAR</td>\n",
       "      <td>78189</td>\n",
       "      <td>Wage/Salaries</td>\n",
       "      <td>0</td>\n",
       "      <td>34030</td>\n",
       "      <td>28659</td>\n",
       "      <td>10914</td>\n",
       "      <td>10812</td>\n",
       "      <td>690</td>\n",
       "      <td>...</td>\n",
       "      <td>0</td>\n",
       "      <td>0</td>\n",
       "      <td>0</td>\n",
       "      <td>0</td>\n",
       "      <td>0</td>\n",
       "      <td>1</td>\n",
       "      <td>0</td>\n",
       "      <td>0</td>\n",
       "      <td>0</td>\n",
       "      <td>0</td>\n",
       "    </tr>\n",
       "    <tr>\n",
       "      <th>4</th>\n",
       "      <td>189322</td>\n",
       "      <td>CAR</td>\n",
       "      <td>94625</td>\n",
       "      <td>Wage/Salaries</td>\n",
       "      <td>0</td>\n",
       "      <td>34820</td>\n",
       "      <td>30167</td>\n",
       "      <td>18391</td>\n",
       "      <td>11309</td>\n",
       "      <td>1395</td>\n",
       "      <td>...</td>\n",
       "      <td>1</td>\n",
       "      <td>0</td>\n",
       "      <td>0</td>\n",
       "      <td>0</td>\n",
       "      <td>0</td>\n",
       "      <td>3</td>\n",
       "      <td>0</td>\n",
       "      <td>0</td>\n",
       "      <td>0</td>\n",
       "      <td>1</td>\n",
       "    </tr>\n",
       "  </tbody>\n",
       "</table>\n",
       "<p>5 rows × 60 columns</p>\n",
       "</div>"
      ],
      "text/plain": [
       "   Total Household Income Region  Total Food Expenditure  \\\n",
       "0                  480332    CAR                  117848   \n",
       "1                  198235    CAR                   67766   \n",
       "2                   82785    CAR                   61609   \n",
       "3                  107589    CAR                   78189   \n",
       "4                  189322    CAR                   94625   \n",
       "\n",
       "  Main Source of Income  Agricultural Household indicator  \\\n",
       "0         Wage/Salaries                                 0   \n",
       "1         Wage/Salaries                                 0   \n",
       "2         Wage/Salaries                                 1   \n",
       "3         Wage/Salaries                                 0   \n",
       "4         Wage/Salaries                                 0   \n",
       "\n",
       "   Bread and Cereals Expenditure  Total Rice Expenditure  Meat Expenditure  \\\n",
       "0                          42140                   38300             24676   \n",
       "1                          17329                   13008             17434   \n",
       "2                          34182                   32001              7783   \n",
       "3                          34030                   28659             10914   \n",
       "4                          34820                   30167             18391   \n",
       "\n",
       "   Total Fish and  marine products Expenditure  Fruit Expenditure  ...  \\\n",
       "0                                        16806               3325  ...   \n",
       "1                                        11073               2035  ...   \n",
       "2                                         2590               1730  ...   \n",
       "3                                        10812                690  ...   \n",
       "4                                        11309               1395  ...   \n",
       "\n",
       "   Number of Refrigerator/Freezer  Number of Washing Machine  \\\n",
       "0                               1                          1   \n",
       "1                               0                          1   \n",
       "2                               0                          0   \n",
       "3                               0                          0   \n",
       "4                               1                          0   \n",
       "\n",
       "   Number of Airconditioner  Number of Car, Jeep, Van  \\\n",
       "0                         0                         0   \n",
       "1                         0                         0   \n",
       "2                         0                         0   \n",
       "3                         0                         0   \n",
       "4                         0                         0   \n",
       "\n",
       "   Number of Landline/wireless telephones  Number of Cellular phone  \\\n",
       "0                                       0                         2   \n",
       "1                                       0                         3   \n",
       "2                                       0                         0   \n",
       "3                                       0                         1   \n",
       "4                                       0                         3   \n",
       "\n",
       "   Number of Personal Computer  Number of Stove with Oven/Gas Range  \\\n",
       "0                            1                                    0   \n",
       "1                            1                                    0   \n",
       "2                            0                                    0   \n",
       "3                            0                                    0   \n",
       "4                            0                                    0   \n",
       "\n",
       "   Number of Motorized Banca  Number of Motorcycle/Tricycle  \n",
       "0                          0                              1  \n",
       "1                          0                              2  \n",
       "2                          0                              0  \n",
       "3                          0                              0  \n",
       "4                          0                              1  \n",
       "\n",
       "[5 rows x 60 columns]"
      ]
     },
     "execution_count": 5,
     "metadata": {},
     "output_type": "execute_result"
    }
   ],
   "source": [
    "# Head\n",
    "df.head()"
   ]
  },
  {
   "cell_type": "code",
   "execution_count": 7,
   "metadata": {
    "colab": {},
    "colab_type": "code",
    "id": "SShWhTTQVf4z"
   },
   "outputs": [
    {
     "data": {
      "text/html": [
       "<div>\n",
       "<style scoped>\n",
       "    .dataframe tbody tr th:only-of-type {\n",
       "        vertical-align: middle;\n",
       "    }\n",
       "\n",
       "    .dataframe tbody tr th {\n",
       "        vertical-align: top;\n",
       "    }\n",
       "\n",
       "    .dataframe thead th {\n",
       "        text-align: right;\n",
       "    }\n",
       "</style>\n",
       "<table border=\"1\" class=\"dataframe\">\n",
       "  <thead>\n",
       "    <tr style=\"text-align: right;\">\n",
       "      <th></th>\n",
       "      <th>Total Household Income</th>\n",
       "      <th>Region</th>\n",
       "      <th>Total Food Expenditure</th>\n",
       "      <th>Main Source of Income</th>\n",
       "      <th>Agricultural Household indicator</th>\n",
       "      <th>Bread and Cereals Expenditure</th>\n",
       "      <th>Total Rice Expenditure</th>\n",
       "      <th>Meat Expenditure</th>\n",
       "      <th>Total Fish and  marine products Expenditure</th>\n",
       "      <th>Fruit Expenditure</th>\n",
       "      <th>...</th>\n",
       "      <th>Number of Refrigerator/Freezer</th>\n",
       "      <th>Number of Washing Machine</th>\n",
       "      <th>Number of Airconditioner</th>\n",
       "      <th>Number of Car, Jeep, Van</th>\n",
       "      <th>Number of Landline/wireless telephones</th>\n",
       "      <th>Number of Cellular phone</th>\n",
       "      <th>Number of Personal Computer</th>\n",
       "      <th>Number of Stove with Oven/Gas Range</th>\n",
       "      <th>Number of Motorized Banca</th>\n",
       "      <th>Number of Motorcycle/Tricycle</th>\n",
       "    </tr>\n",
       "  </thead>\n",
       "  <tbody>\n",
       "    <tr>\n",
       "      <th>41539</th>\n",
       "      <td>119773</td>\n",
       "      <td>XII - SOCCSKSARGEN</td>\n",
       "      <td>44875</td>\n",
       "      <td>Enterpreneurial Activities</td>\n",
       "      <td>1</td>\n",
       "      <td>23675</td>\n",
       "      <td>21542</td>\n",
       "      <td>1476</td>\n",
       "      <td>6120</td>\n",
       "      <td>1632</td>\n",
       "      <td>...</td>\n",
       "      <td>0</td>\n",
       "      <td>0</td>\n",
       "      <td>0</td>\n",
       "      <td>0</td>\n",
       "      <td>0</td>\n",
       "      <td>1</td>\n",
       "      <td>0</td>\n",
       "      <td>0</td>\n",
       "      <td>0</td>\n",
       "      <td>0</td>\n",
       "    </tr>\n",
       "    <tr>\n",
       "      <th>41540</th>\n",
       "      <td>137320</td>\n",
       "      <td>XII - SOCCSKSARGEN</td>\n",
       "      <td>31157</td>\n",
       "      <td>Enterpreneurial Activities</td>\n",
       "      <td>1</td>\n",
       "      <td>2691</td>\n",
       "      <td>1273</td>\n",
       "      <td>1886</td>\n",
       "      <td>4386</td>\n",
       "      <td>1840</td>\n",
       "      <td>...</td>\n",
       "      <td>0</td>\n",
       "      <td>0</td>\n",
       "      <td>0</td>\n",
       "      <td>0</td>\n",
       "      <td>0</td>\n",
       "      <td>3</td>\n",
       "      <td>0</td>\n",
       "      <td>0</td>\n",
       "      <td>0</td>\n",
       "      <td>0</td>\n",
       "    </tr>\n",
       "    <tr>\n",
       "      <th>41541</th>\n",
       "      <td>133171</td>\n",
       "      <td>XII - SOCCSKSARGEN</td>\n",
       "      <td>45882</td>\n",
       "      <td>Enterpreneurial Activities</td>\n",
       "      <td>2</td>\n",
       "      <td>28646</td>\n",
       "      <td>27339</td>\n",
       "      <td>480</td>\n",
       "      <td>4796</td>\n",
       "      <td>1232</td>\n",
       "      <td>...</td>\n",
       "      <td>0</td>\n",
       "      <td>0</td>\n",
       "      <td>0</td>\n",
       "      <td>0</td>\n",
       "      <td>0</td>\n",
       "      <td>1</td>\n",
       "      <td>0</td>\n",
       "      <td>0</td>\n",
       "      <td>0</td>\n",
       "      <td>0</td>\n",
       "    </tr>\n",
       "    <tr>\n",
       "      <th>41542</th>\n",
       "      <td>129500</td>\n",
       "      <td>XII - SOCCSKSARGEN</td>\n",
       "      <td>81416</td>\n",
       "      <td>Enterpreneurial Activities</td>\n",
       "      <td>1</td>\n",
       "      <td>29996</td>\n",
       "      <td>26655</td>\n",
       "      <td>2359</td>\n",
       "      <td>17730</td>\n",
       "      <td>2923</td>\n",
       "      <td>...</td>\n",
       "      <td>0</td>\n",
       "      <td>0</td>\n",
       "      <td>0</td>\n",
       "      <td>0</td>\n",
       "      <td>0</td>\n",
       "      <td>2</td>\n",
       "      <td>0</td>\n",
       "      <td>0</td>\n",
       "      <td>0</td>\n",
       "      <td>0</td>\n",
       "    </tr>\n",
       "    <tr>\n",
       "      <th>41543</th>\n",
       "      <td>128598</td>\n",
       "      <td>XII - SOCCSKSARGEN</td>\n",
       "      <td>78195</td>\n",
       "      <td>Enterpreneurial Activities</td>\n",
       "      <td>1</td>\n",
       "      <td>43485</td>\n",
       "      <td>41205</td>\n",
       "      <td>1985</td>\n",
       "      <td>7735</td>\n",
       "      <td>2062</td>\n",
       "      <td>...</td>\n",
       "      <td>0</td>\n",
       "      <td>0</td>\n",
       "      <td>0</td>\n",
       "      <td>0</td>\n",
       "      <td>0</td>\n",
       "      <td>1</td>\n",
       "      <td>0</td>\n",
       "      <td>0</td>\n",
       "      <td>0</td>\n",
       "      <td>0</td>\n",
       "    </tr>\n",
       "  </tbody>\n",
       "</table>\n",
       "<p>5 rows × 60 columns</p>\n",
       "</div>"
      ],
      "text/plain": [
       "       Total Household Income              Region  Total Food Expenditure  \\\n",
       "41539                  119773  XII - SOCCSKSARGEN                   44875   \n",
       "41540                  137320  XII - SOCCSKSARGEN                   31157   \n",
       "41541                  133171  XII - SOCCSKSARGEN                   45882   \n",
       "41542                  129500  XII - SOCCSKSARGEN                   81416   \n",
       "41543                  128598  XII - SOCCSKSARGEN                   78195   \n",
       "\n",
       "            Main Source of Income  Agricultural Household indicator  \\\n",
       "41539  Enterpreneurial Activities                                 1   \n",
       "41540  Enterpreneurial Activities                                 1   \n",
       "41541  Enterpreneurial Activities                                 2   \n",
       "41542  Enterpreneurial Activities                                 1   \n",
       "41543  Enterpreneurial Activities                                 1   \n",
       "\n",
       "       Bread and Cereals Expenditure  Total Rice Expenditure  \\\n",
       "41539                          23675                   21542   \n",
       "41540                           2691                    1273   \n",
       "41541                          28646                   27339   \n",
       "41542                          29996                   26655   \n",
       "41543                          43485                   41205   \n",
       "\n",
       "       Meat Expenditure  Total Fish and  marine products Expenditure  \\\n",
       "41539              1476                                         6120   \n",
       "41540              1886                                         4386   \n",
       "41541               480                                         4796   \n",
       "41542              2359                                        17730   \n",
       "41543              1985                                         7735   \n",
       "\n",
       "       Fruit Expenditure  ...  Number of Refrigerator/Freezer  \\\n",
       "41539               1632  ...                               0   \n",
       "41540               1840  ...                               0   \n",
       "41541               1232  ...                               0   \n",
       "41542               2923  ...                               0   \n",
       "41543               2062  ...                               0   \n",
       "\n",
       "       Number of Washing Machine  Number of Airconditioner  \\\n",
       "41539                          0                         0   \n",
       "41540                          0                         0   \n",
       "41541                          0                         0   \n",
       "41542                          0                         0   \n",
       "41543                          0                         0   \n",
       "\n",
       "       Number of Car, Jeep, Van  Number of Landline/wireless telephones  \\\n",
       "41539                         0                                       0   \n",
       "41540                         0                                       0   \n",
       "41541                         0                                       0   \n",
       "41542                         0                                       0   \n",
       "41543                         0                                       0   \n",
       "\n",
       "       Number of Cellular phone  Number of Personal Computer  \\\n",
       "41539                         1                            0   \n",
       "41540                         3                            0   \n",
       "41541                         1                            0   \n",
       "41542                         2                            0   \n",
       "41543                         1                            0   \n",
       "\n",
       "       Number of Stove with Oven/Gas Range  Number of Motorized Banca  \\\n",
       "41539                                    0                          0   \n",
       "41540                                    0                          0   \n",
       "41541                                    0                          0   \n",
       "41542                                    0                          0   \n",
       "41543                                    0                          0   \n",
       "\n",
       "       Number of Motorcycle/Tricycle  \n",
       "41539                              0  \n",
       "41540                              0  \n",
       "41541                              0  \n",
       "41542                              0  \n",
       "41543                              0  \n",
       "\n",
       "[5 rows x 60 columns]"
      ]
     },
     "execution_count": 7,
     "metadata": {},
     "output_type": "execute_result"
    }
   ],
   "source": [
    "# Tail\n",
    "df.tail()"
   ]
  },
  {
   "cell_type": "code",
   "execution_count": 8,
   "metadata": {
    "colab": {},
    "colab_type": "code",
    "id": "Naaa_xKVVf41"
   },
   "outputs": [
    {
     "data": {
      "text/plain": [
       "(41544, 60)"
      ]
     },
     "execution_count": 8,
     "metadata": {},
     "output_type": "execute_result"
    }
   ],
   "source": [
    "# Shape\n",
    "df.shape"
   ]
  },
  {
   "cell_type": "code",
   "execution_count": 9,
   "metadata": {
    "colab": {},
    "colab_type": "code",
    "id": "vp9cRdywVf44"
   },
   "outputs": [
    {
     "data": {
      "text/plain": [
       "Total Household Income                            int64\n",
       "Region                                           object\n",
       "Total Food Expenditure                            int64\n",
       "Main Source of Income                            object\n",
       "Agricultural Household indicator                  int64\n",
       "Bread and Cereals Expenditure                     int64\n",
       "Total Rice Expenditure                            int64\n",
       "Meat Expenditure                                  int64\n",
       "Total Fish and  marine products Expenditure       int64\n",
       "Fruit Expenditure                                 int64\n",
       "Vegetables Expenditure                            int64\n",
       "Restaurant and hotels Expenditure                 int64\n",
       "Alcoholic Beverages Expenditure                   int64\n",
       "Tobacco Expenditure                               int64\n",
       "Clothing, Footwear and Other Wear Expenditure     int64\n",
       "Housing and water Expenditure                     int64\n",
       "Imputed House Rental Value                        int64\n",
       "Medical Care Expenditure                          int64\n",
       "Transportation Expenditure                        int64\n",
       "Communication Expenditure                         int64\n",
       "Education Expenditure                             int64\n",
       "Miscellaneous Goods and Services Expenditure      int64\n",
       "Special Occasions Expenditure                     int64\n",
       "Crop Farming and Gardening expenses               int64\n",
       "Total Income from Entrepreneurial Acitivites      int64\n",
       "Household Head Sex                               object\n",
       "Household Head Age                                int64\n",
       "Household Head Marital Status                    object\n",
       "Household Head Highest Grade Completed           object\n",
       "Household Head Job or Business Indicator         object\n",
       "Household Head Occupation                        object\n",
       "Household Head Class of Worker                   object\n",
       "Type of Household                                object\n",
       "Total Number of Family members                    int64\n",
       "Members with age less than 5 year old             int64\n",
       "Members with age 5 - 17 years old                 int64\n",
       "Total number of family members employed           int64\n",
       "Type of Building/House                           object\n",
       "Type of Roof                                     object\n",
       "Type of Walls                                    object\n",
       "House Floor Area                                  int64\n",
       "House Age                                         int64\n",
       "Number of bedrooms                                int64\n",
       "Tenure Status                                    object\n",
       "Toilet Facilities                                object\n",
       "Electricity                                       int64\n",
       "Main Source of Water Supply                      object\n",
       "Number of Television                              int64\n",
       "Number of CD/VCD/DVD                              int64\n",
       "Number of Component/Stereo set                    int64\n",
       "Number of Refrigerator/Freezer                    int64\n",
       "Number of Washing Machine                         int64\n",
       "Number of Airconditioner                          int64\n",
       "Number of Car, Jeep, Van                          int64\n",
       "Number of Landline/wireless telephones            int64\n",
       "Number of Cellular phone                          int64\n",
       "Number of Personal Computer                       int64\n",
       "Number of Stove with Oven/Gas Range               int64\n",
       "Number of Motorized Banca                         int64\n",
       "Number of Motorcycle/Tricycle                     int64\n",
       "dtype: object"
      ]
     },
     "execution_count": 9,
     "metadata": {},
     "output_type": "execute_result"
    }
   ],
   "source": [
    "# Data Types\n",
    "df.dtypes"
   ]
  },
  {
   "cell_type": "markdown",
   "metadata": {
    "colab_type": "text",
    "id": "CXS1YnOgVf47"
   },
   "source": [
    "#### Surveying the populations\n",
    "\n",
    "##### 1. Create a histogram of `Total Household Income`."
   ]
  },
  {
   "cell_type": "code",
   "execution_count": 30,
   "metadata": {
    "colab": {},
    "colab_type": "code",
    "id": "3YKhcWRhVf47"
   },
   "outputs": [
    {
     "data": {
      "text/plain": [
       "Text(0, 0.5, 'Frequency')"
      ]
     },
     "execution_count": 30,
     "metadata": {},
     "output_type": "execute_result"
    },
    {
     "data": {
      "image/png": "[encoded data removed]",
      "text/plain": [
       "<Figure size 3600x1440 with 1 Axes>"
      ]
     },
     "metadata": {
      "needs_background": "light"
     },
     "output_type": "display_data"
    }
   ],
   "source": [
    "# ANSWER\n",
    "plt.figure(figsize=(50,20))\n",
    "matplotlib.rcParams.update({'font.size': 40})\n",
    "plt.hist(df['Total Household Income'],bins=1000,color='purple')\n",
    "plt.title('Distribution of Total Household Income',fontsize=50)\n",
    "plt.xlabel('Income',fontsize=50)\n",
    "plt.ylabel('Frequency',fontsize=50)\n",
    "\n",
    "#How can I zoom in and visualize the data points better?"
   ]
  },
  {
   "cell_type": "markdown",
   "metadata": {
    "colab_type": "text",
    "id": "8vgg6ml3Vf4-"
   },
   "source": [
    "##### 2. How would you describe the shape of this population?"
   ]
  },
  {
   "cell_type": "markdown",
   "metadata": {
    "colab_type": "text",
    "id": "FI_k9uSEVf4_"
   },
   "source": [
    "**ANSWER:** Skewed to the left"
   ]
  },
  {
   "cell_type": "markdown",
   "metadata": {
    "colab_type": "text",
    "id": "j1hOsdI2Vf4_"
   },
   "source": [
    "##### 2. What is the mean income of this population?"
   ]
  },
  {
   "cell_type": "code",
   "execution_count": 31,
   "metadata": {
    "colab": {},
    "colab_type": "code",
    "id": "kJw8S392Vf5A"
   },
   "outputs": [
    {
     "data": {
      "text/plain": [
       "247555.58480165608"
      ]
     },
     "execution_count": 31,
     "metadata": {},
     "output_type": "execute_result"
    }
   ],
   "source": [
    "# ANSWER\n",
    "df['Total Household Income'].mean()"
   ]
  },
  {
   "cell_type": "markdown",
   "metadata": {
    "colab_type": "text",
    "id": "U-aYo343Vf5D"
   },
   "source": [
    "##### 3. What sampling statistic/point estimate would you use to estimate the mean of this population if you were given a random sample from the population?"
   ]
  },
  {
   "cell_type": "markdown",
   "metadata": {
    "colab_type": "text",
    "id": "MliyslcyVf5E"
   },
   "source": [
    "**ANSWER:** More than 30"
   ]
  },
  {
   "cell_type": "markdown",
   "metadata": {
    "colab_type": "text",
    "id": "TkxedbVpVf5E"
   },
   "source": [
    "#### Simulated sampling (sample means)"
   ]
  },
  {
   "cell_type": "markdown",
   "metadata": {
    "colab_type": "text",
    "id": "PREGkP4vVf5F"
   },
   "source": [
    "Now, we'd like to get an idea of what happens when we take multiple random samples of size 5. \n",
    "\n",
    "Take 10 sample (size=5) from the entire population. Calculate means for each sample. Now make a histogram of all the sample means.\n",
    "\n",
    "- Describe the shape of the histogram.\n",
    "- What is the center of the distribution of sample means?"
   ]
  },
  {
   "cell_type": "markdown",
   "metadata": {
    "colab_type": "text",
    "id": "i6_BukQlVf5G"
   },
   "source": [
    "##### 4. Simulation with `sample_size=5`"
   ]
  },
  {
   "cell_type": "markdown",
   "metadata": {
    "colab_type": "text",
    "id": "-CP_eMlOVf5G"
   },
   "source": [
    "Take 10 samples, but with a sample size of 5."
   ]
  },
  {
   "cell_type": "code",
   "execution_count": 63,
   "metadata": {
    "colab": {},
    "colab_type": "code",
    "id": "rqSxVPVwVf5H"
   },
   "outputs": [],
   "source": [
    "# ANSWER\n",
    "\n",
    "def draw_samples(df,row,sample_size=5,number_of_samples=10):\n",
    "    \n",
    "    sample_arr = []\n",
    "    \n",
    "    for i in range(number_of_samples):\n",
    "        random_sample = df[row].sample(n=sample_size)\n",
    "        sample_arr.append(random_sample)\n",
    "    \n",
    "    return sample_arr\n",
    "\n",
    "sampled_mean = draw_samples(df,'Total Household Income')"
   ]
  },
  {
   "cell_type": "markdown",
   "metadata": {
    "colab_type": "text",
    "id": "CrInQX6EVf5J"
   },
   "source": [
    "###### 4.A Make a histogram of all the sample means"
   ]
  },
  {
   "cell_type": "code",
   "execution_count": 86,
   "metadata": {
    "colab": {},
    "colab_type": "code",
    "id": "oU5T6NQaVf5K"
   },
   "outputs": [
    {
     "name": "stderr",
     "output_type": "stream",
     "text": [
      "C:\\Users\\ryan\\anaconda3\\lib\\site-packages\\seaborn\\_decorators.py:36: FutureWarning: Pass the following variable as a keyword arg: x. From version 0.12, the only valid positional argument will be `data`, and passing other arguments without an explicit keyword will result in an error or misinterpretation.\n",
      "  warnings.warn(\n"
     ]
    },
    {
     "data": {
      "text/plain": [
       "(<AxesSubplot:ylabel='Count'>,\n",
       " [126127.6,\n",
       "  194058.8,\n",
       "  424483.6,\n",
       "  293565.2,\n",
       "  230122.6,\n",
       "  635237.4,\n",
       "  398636.4,\n",
       "  263712.2,\n",
       "  200444.6,\n",
       "  151470.4])"
      ]
     },
     "execution_count": 86,
     "metadata": {},
     "output_type": "execute_result"
    },
    {
     "data": {
      "image/png": "[encoded data removed]",
      "text/plain": [
       "<Figure size 432x288 with 1 Axes>"
      ]
     },
     "metadata": {},
     "output_type": "display_data"
    }
   ],
   "source": [
    "# ANSWER\n",
    "matplotlib.rcParams.update({'font.size': 20})\n",
    "sns.set()\n",
    "def generate_mean_histogram(sample,bins=10):\n",
    "    \n",
    "    mean_arr = []\n",
    "    \n",
    "    number_of_samples = len(sample)\n",
    "    sample_size = len(sample[0])\n",
    "    \n",
    "    for i in range(number_of_samples):\n",
    "        sample_mean = sample[i].mean()\n",
    "        mean_arr.append(sample_mean)\n",
    "    \n",
    "    chart = sns.histplot(mean_arr)\n",
    "    chart = sns.lineplot(mean_arr)\n",
    "#     title = 'Histogram of sample means,\\n {number_of_samples} samples of {sample_size:} \\n'\n",
    "#     plt.title(title.format(number_of_samples=number_of_samples,sample_size=sample_size))\n",
    "#     plt.xlabel('Sample Mean')\n",
    "#     plt.ylabel('Frequency')\n",
    "    \n",
    "    return chart, mean_arr\n",
    "\n",
    "generate_mean_histogram(sampled_mean,bins=20)\n",
    "\n",
    "#1 line for population mean, 1 line for sample mean"
   ]
  },
  {
   "cell_type": "markdown",
   "metadata": {
    "colab_type": "text",
    "id": "laC4ugRjVf5M"
   },
   "source": [
    "###### 4.B Describe the shape of the histogram."
   ]
  },
  {
   "cell_type": "markdown",
   "metadata": {
    "colab_type": "text",
    "id": "2_FSwIVJVf5M"
   },
   "source": [
    "**ANSWER:**"
   ]
  },
  {
   "cell_type": "markdown",
   "metadata": {
    "colab_type": "text",
    "id": "9oCRfg1YVf5N"
   },
   "source": [
    "##### 7. Simulation with `sample_size=15`"
   ]
  },
  {
   "cell_type": "markdown",
   "metadata": {
    "colab_type": "text",
    "id": "gjtCdkx0Vf5N"
   },
   "source": [
    "let's try taking another 1000 samples, but with a sample size of 15"
   ]
  },
  {
   "cell_type": "code",
   "execution_count": 78,
   "metadata": {
    "colab": {},
    "colab_type": "code",
    "id": "80IQ6Sa-Vf5O"
   },
   "outputs": [
    {
     "data": {
      "image/png": "[encoded data removed]",
      "text/plain": [
       "<Figure size 432x288 with 1 Axes>"
      ]
     },
     "metadata": {
      "needs_background": "light"
     },
     "output_type": "display_data"
    }
   ],
   "source": [
    "# ANSWER\n",
    "sampled_data_1000_15 = draw_samples(df,'Total Household Income',sample_size=15,number_of_samples=1000)\n",
    "mean_arr_1000_15 = generate_mean_histogram(sampled_data_1000)"
   ]
  },
  {
   "cell_type": "markdown",
   "metadata": {
    "colab_type": "text",
    "id": "J8k2KhsQVf5Q"
   },
   "source": [
    "##### 8. Simulation with `sample_size=50`"
   ]
  },
  {
   "cell_type": "markdown",
   "metadata": {
    "colab_type": "text",
    "id": "AAAdK633Vf5R"
   },
   "source": [
    "Let's try taking another 1000 samples, but with a sample size of 50"
   ]
  },
  {
   "cell_type": "code",
   "execution_count": 79,
   "metadata": {
    "colab": {},
    "colab_type": "code",
    "id": "zgj6G2ghVf5R"
   },
   "outputs": [
    {
     "data": {
      "image/png": "[encoded data removed]",
      "text/plain": [
       "<Figure size 432x288 with 1 Axes>"
      ]
     },
     "metadata": {
      "needs_background": "light"
     },
     "output_type": "display_data"
    }
   ],
   "source": [
    "# ANSWER\n",
    "sampled_data_1000_50 = draw_samples(df,'Total Household Income',sample_size=50,number_of_samples=1000)\n",
    "mean_arr_1000_50, sample_mean = generate_mean_histogram(sampled_data_1000_50)"
   ]
  },
  {
   "cell_type": "markdown",
   "metadata": {
    "colab_type": "text",
    "id": "K2iwg-qXVf5T"
   },
   "source": [
    "###### 8.A Describe the shape of the histogram of sample means (using sample size of 50)"
   ]
  },
  {
   "cell_type": "markdown",
   "metadata": {
    "colab_type": "text",
    "id": "WLw5q7TxVf5U"
   },
   "source": [
    "**ANSWER:** Similar to the opoulation mean, skweded towards the left"
   ]
  },
  {
   "cell_type": "markdown",
   "metadata": {
    "colab_type": "text",
    "id": "udgqwlA2Vf5V"
   },
   "source": [
    "###### 8.B What is mean of the distribution of sample means?"
   ]
  },
  {
   "cell_type": "code",
   "execution_count": 80,
   "metadata": {
    "colab": {},
    "colab_type": "code",
    "id": "U6qOqsgeVf5W"
   },
   "outputs": [
    {
     "name": "stdout",
     "output_type": "stream",
     "text": [
      "The sample mean is 250105.37928\n",
      "The population mean is 247555.58480165608\n"
     ]
    }
   ],
   "source": [
    "# ANSWER\n",
    "print('The sample mean is ' + str(np.mean(sample_mean)))\n",
    "print('The population mean is '+ str(df['Total Household Income'].mean()))"
   ]
  },
  {
   "cell_type": "markdown",
   "metadata": {
    "colab_type": "text",
    "id": "bmWVLwnyVf5Y"
   },
   "source": [
    "**ANSWER:**\n",
    "\n",
    "> If repeated random samples of a given size n are taken from a population of values for a quantitative variable, where the population mean is μ (mu) and the population standard deviation is σ (sigma) then the mean of all sample means (x-bars) is population mean μ (mu)."
   ]
  },
  {
   "cell_type": "markdown",
   "metadata": {
    "colab_type": "text",
    "id": "Yml6WoZcVf5Z"
   },
   "source": [
    "###### 8.C As the sample size grew, did your results confirm the CLT?"
   ]
  },
  {
   "cell_type": "markdown",
   "metadata": {
    "colab_type": "text",
    "id": "PSNXrDxyVf5a"
   },
   "source": [
    "**ANSWER:** Yes, as the sample size grew, the results approached the population mean"
   ]
  },
  {
   "cell_type": "markdown",
   "metadata": {
    "colab_type": "text",
    "id": "ifU4EAcJm0xa"
   },
   "source": [
    "\n",
    "\n",
    "---\n",
    "\n",
    "\n",
    "\n",
    "---\n",
    "\n",
    "\n",
    "\n",
    "> > > > > > > > > © 2021 Institute of Data\n",
    "\n",
    "\n",
    "---\n",
    "\n",
    "\n",
    "\n",
    "---\n",
    "\n",
    "\n",
    "\n"
   ]
  }
 ],
 "metadata": {
  "colab": {
   "collapsed_sections": [],
   "name": "DSIA Lab 3.1.3.ipynb",
   "provenance": []
  },
  "kernelspec": {
   "display_name": "Python 3",
   "language": "python",
   "name": "python3"
  },
  "language_info": {
   "codemirror_mode": {
    "name": "ipython",
    "version": 3
   },
   "file_extension": ".py",
   "mimetype": "text/x-python",
   "name": "python",
   "nbconvert_exporter": "python",
   "pygments_lexer": "ipython3",
   "version": "3.8.5"
  }
 },
 "nbformat": 4,
 "nbformat_minor": 1
}
