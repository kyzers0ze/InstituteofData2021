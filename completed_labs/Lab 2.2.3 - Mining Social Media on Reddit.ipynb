{
 "cells": [
  {
   "cell_type": "markdown",
   "metadata": {
    "colab_type": "text",
    "id": "nOGGU7gNKck0"
   },
   "source": [
    "<div>\n",
    "<img src=https://www.institutedata.com/wp-content/uploads/2019/10/iod_h_tp_primary_c.svg width=\"300\">\n",
    "</div>"
   ]
  },
  {
   "cell_type": "markdown",
   "metadata": {
    "colab_type": "text",
    "id": "_D_idRWZKck4"
   },
   "source": [
    "# Lab 2.2.3 \n",
    "# *Mining Social Media on Reddit*"
   ]
  },
  {
   "cell_type": "markdown",
   "metadata": {
    "colab_type": "text",
    "id": "atJ1XMr3Kck7"
   },
   "source": [
    "## The Reddit API and the PRAW Package"
   ]
  },
  {
   "cell_type": "markdown",
   "metadata": {
    "colab_type": "text",
    "id": "aJ9o1EfAKck-"
   },
   "source": [
    "The Reddit API is rich and complex, with many endpoints (https://www.reddit.com/dev/api/). It includes methods for navigating its collections, which include various kinds of media as well as comments. Fortunately, the Python library PRAW reduces much of this complexity.\n",
    "\n",
    "Reddit requires developers to create and authenticate an app before they can use the API, but the process is much less onerus than some, and does not have waiting period for approval of new developers (as of 18 August 2018)."
   ]
  },
  {
   "cell_type": "markdown",
   "metadata": {
    "colab_type": "text",
    "id": "egz9IUhlKclB"
   },
   "source": [
    "### 1. Create a Reddit App\n",
    "\n",
    "Go to https://www.reddit.com/prefs/apps and click \"create an app\".\n",
    "\n",
    "Enter the following in the form:\n",
    "\n",
    "- a name for your app\n",
    "- select \"script\" radio button\n",
    "- a description\n",
    "- a redirect URI\n",
    "\n",
    "(Nb. For pulling data into a data science experiment, a local port can be used for the Redirect URI; try http://127.0.0.1:1410)\n",
    "\n",
    "\n",
    "- click \"create app\"\n",
    "- from the form that displays, copy the following to a local text file (or to this notebook):\n",
    "\n",
    "  - name (the name you gave to your app)\n",
    "  - redirect URI\n",
    "  - personal use script (this is your OAuth 2 Client ID)\n",
    "  - secret (this is your OAuth 2 Secret)"
   ]
  },
  {
   "cell_type": "markdown",
   "metadata": {
    "colab_type": "text",
    "id": "LF9V-LJ2KclE"
   },
   "source": [
    "### 2. Register for API Access\n",
    "\n",
    "- follow the link at https://www.reddit.com/wiki/api and read the terms of use for Reddit API access \n",
    "- fill in the form fields at the bottom \n",
    "  - make sure to enter your new OAuth Client ID where indicated\n",
    "  - your use case could be something like \"Training in API usage for data science projects\"\n",
    "  - your platform could be something like \"Jupyter Notebooks / Python\"\n",
    "  \n",
    "- click \"SUBMIT\"\n",
    " \n",
    "- when asked for User-Agent, enter something that fits this pattern:\n",
    "  `your_os-python:your_reddit_appname:v1.0 (by /u/your_reddit_username)`"
   ]
  },
  {
   "cell_type": "markdown",
   "metadata": {
    "colab_type": "text",
    "id": "JIsv8YAMKclG"
   },
   "source": [
    "### 3. Load Python Libraries"
   ]
  },
  {
   "cell_type": "code",
   "execution_count": 3,
   "metadata": {
    "colab": {},
    "colab_type": "code",
    "id": "xqi2BT66KclI"
   },
   "outputs": [],
   "source": [
    "import praw\n",
    "import requests\n",
    "import json\n",
    "import pprint\n",
    "from datetime import datetime, date, time"
   ]
  },
  {
   "cell_type": "markdown",
   "metadata": {
    "colab_type": "text",
    "id": "wwXaO9GPKclP"
   },
   "source": [
    "### 4. Authenticate from your Python script"
   ]
  },
  {
   "cell_type": "markdown",
   "metadata": {
    "colab_type": "text",
    "id": "ZF5oh54RKclR"
   },
   "source": [
    "You could assign your authentication details explicitly, as follows:"
   ]
  },
  {
   "cell_type": "code",
   "execution_count": 4,
   "metadata": {
    "colab": {},
    "colab_type": "code",
    "id": "qH2-X9juKclS"
   },
   "outputs": [],
   "source": [
    "my_user_agent = ''   # your user Agent string goes in here\n",
    "my_client_id = ''   # your Client ID string goes in here\n",
    "my_client_secret = ''   # your Secret string goes in here"
   ]
  },
  {
   "cell_type": "markdown",
   "metadata": {
    "colab_type": "text",
    "id": "1TmzPxHIKclX"
   },
   "source": [
    "A better way would be to store these details externally, so they are not displayed in the notebook:\n",
    "\n",
    "- create a file called \"auth_reddit.json\" in your \"notebooks\" directory, and save your credentials there in JSON format:\n",
    "\n",
    "`{   \"my_client_id\": \"your Client ID string goes in here\",` <br>\n",
    "&nbsp;&nbsp;&nbsp;&nbsp;&nbsp;&nbsp;&nbsp;&nbsp;` \"my_client_secret\": \"your Secret string goes in here\",` <br>\n",
    "&nbsp;&nbsp;&nbsp;&nbsp;&nbsp;&nbsp;&nbsp;&nbsp;`\"my_user_agent\": \"your user Agent string goes in here\"` <br>\n",
    "`}`\n",
    "\n",
    "Use the following code to load the credentials:  "
   ]
  },
  {
   "cell_type": "code",
   "execution_count": 5,
   "metadata": {
    "colab": {},
    "colab_type": "code",
    "id": "mFbFWGnVKclY"
   },
   "outputs": [
    {
     "data": {
      "text/plain": [
       "'C:\\\\Users\\\\ryan\\\\Downloads'"
      ]
     },
     "execution_count": 5,
     "metadata": {},
     "output_type": "execute_result"
    }
   ],
   "source": [
    "pwd()  # make sure your working directory is where the file is"
   ]
  },
  {
   "cell_type": "code",
   "execution_count": 9,
   "metadata": {
    "colab": {},
    "colab_type": "code",
    "id": "Jc5_dh-jKclc"
   },
   "outputs": [],
   "source": [
    "path_auth = 'auth_reddit.json'\n",
    "auth = json.loads(open(path_auth).read())\n",
    "pp = pprint.PrettyPrinter(indent=4)\n",
    "# For debugging only:\n",
    "#pp.pprint(auth)\n",
    "\n",
    "my_user_agent = auth['my_user_agent']\n",
    "my_client_id = auth['my_client_id']\n",
    "my_client_secret = auth['my_client_secret']"
   ]
  },
  {
   "cell_type": "markdown",
   "metadata": {
    "colab_type": "text",
    "id": "lVKFy9rZKclf"
   },
   "source": [
    "Security considerations: \n",
    "- this method only keeps your credentials invisible as long as nobody else gets access to this notebook file \n",
    "- if you wanted another user to have access to the executable notebook without divulging your credentials you should set up an OAuth 2.0 workflow to let them obtain and apply their own API tokens when using your app\n",
    "- if you just want to share your analyses, you could use a separate script (which you don't share) to fetch the data and save it locally, then use a second notebook (with no API access) to load and analyse the locally stored data"
   ]
  },
  {
   "cell_type": "markdown",
   "metadata": {
    "colab_type": "text",
    "id": "fgHqt72rKclg"
   },
   "source": [
    "### 5. Exploring the API"
   ]
  },
  {
   "cell_type": "markdown",
   "metadata": {
    "colab_type": "text",
    "id": "ByEQS6QsKclh"
   },
   "source": [
    "Here is how to connect to Reddit with read-only access:"
   ]
  },
  {
   "cell_type": "code",
   "execution_count": 10,
   "metadata": {
    "colab": {},
    "colab_type": "code",
    "id": "8hkZJlcJKcli"
   },
   "outputs": [
    {
     "name": "stdout",
     "output_type": "stream",
     "text": [
      "Read-only = True\n"
     ]
    }
   ],
   "source": [
    "reddit = praw.Reddit(client_id = my_client_id, \n",
    "                     client_secret = my_client_secret, \n",
    "                     user_agent = my_user_agent)\n",
    "\n",
    "print('Read-only = ' + str(reddit.read_only))  # Output: True"
   ]
  },
  {
   "cell_type": "markdown",
   "metadata": {
    "colab_type": "text",
    "id": "slGz0lS5Kclk"
   },
   "source": [
    "In the next cell, put the cursor after the '.' and hit the [tab] key to see the available members and methods in the response object:"
   ]
  },
  {
   "cell_type": "code",
   "execution_count": 22,
   "metadata": {
    "colab": {},
    "colab_type": "code",
    "id": "6MvyYewEKcll"
   },
   "outputs": [
    {
     "data": {
      "text/plain": [
       "<praw.models.front.Front at 0x23c0d900730>"
      ]
     },
     "execution_count": 22,
     "metadata": {},
     "output_type": "execute_result"
    }
   ],
   "source": [
    "reddit.front"
   ]
  },
  {
   "cell_type": "markdown",
   "metadata": {
    "colab_type": "text",
    "id": "AKfXBu7yKcln"
   },
   "source": [
    "Consult the PRAW and Reddit API documentation. Print a few of the response members below:"
   ]
  },
  {
   "cell_type": "code",
   "execution_count": 25,
   "metadata": {
    "colab": {},
    "colab_type": "code",
    "id": "31Njl99lKcln",
    "scrolled": true
   },
   "outputs": [
    {
     "name": "stdout",
     "output_type": "stream",
     "text": [
      "ljpos8\n",
      "ljq5ww\n",
      "ljx7rj\n",
      "ljqf26\n",
      "lk02ca\n",
      "lk4jbs\n",
      "lk3dj7\n",
      "ljo6li\n",
      "ljtf3w\n",
      "ljt7v0\n",
      "ljoe32\n",
      "lk4jlv\n",
      "ljzs88\n",
      "lk3uyw\n",
      "lk362l\n",
      "ljsu04\n",
      "ljy06n\n",
      "lk019e\n",
      "lk0elj\n",
      "lk4giq\n",
      "lk4o95\n",
      "ljzhje\n",
      "ljzydu\n",
      "ljqlnd\n",
      "ljx2pe\n",
      "ljq9q9\n",
      "lk399g\n",
      "ljqgay\n",
      "lk1y96\n",
      "lk4rt2\n",
      "lk2lve\n",
      "ljqhty\n",
      "lk1i0l\n",
      "ljq6dh\n",
      "ljpba9\n",
      "ljty54\n",
      "lk376e\n",
      "lk1f9q\n",
      "ljpl0p\n",
      "ljq9yx\n",
      "ljryac\n",
      "ljs41i\n",
      "ljxbir\n",
      "lk08bm\n",
      "ljod1j\n",
      "lk16tf\n",
      "ljrglv\n",
      "lk45wf\n",
      "lk1y2d\n",
      "lk15sj\n",
      "lk1ugp\n",
      "ljxgni\n",
      "ljrjim\n",
      "ljtvga\n",
      "ljywyn\n",
      "lk0jtu\n",
      "ljoofe\n",
      "ljy3wa\n",
      "lk18ea\n",
      "ljr9dr\n",
      "lk1jj4\n",
      "lk3hul\n",
      "ljmmkl\n",
      "ljxkkv\n",
      "lk3bar\n",
      "ljvdjb\n",
      "lk2kzr\n",
      "ljov42\n",
      "ljz4rr\n",
      "ljpltu\n",
      "lk2rir\n",
      "lk26ah\n",
      "ljvlv3\n",
      "ljmvzj\n",
      "ljzsg6\n",
      "ljziv9\n",
      "ljz3wl\n",
      "ljsqx1\n",
      "lk4lyg\n",
      "ljo9dy\n",
      "ljzkkq\n",
      "lk2utl\n",
      "lk35or\n",
      "lk06pe\n",
      "ljxarw\n",
      "ljt01v\n",
      "ljwk2m\n",
      "lk38d8\n",
      "ljy5zt\n",
      "lk2gb6\n",
      "lk264a\n",
      "ljzpcm\n",
      "ljtrjx\n",
      "ljq4z4\n",
      "ljqzar\n",
      "ljzp2i\n",
      "ljy5xm\n",
      "lk49sw\n",
      "ljpc9f\n",
      "lk1kme\n"
     ]
    }
   ],
   "source": [
    "for submission in reddit.front.hot():\n",
    "    print(submission)"
   ]
  },
  {
   "cell_type": "markdown",
   "metadata": {
    "colab_type": "text",
    "id": "5L10cuKfKclp"
   },
   "source": [
    "Content in Reddit is grouped by topics called \"subreddits\". Content, called \"submissions\", is fetched by calling the `subreddit` method of the connection object (which is our `reddit` variable) with an argument that matches an actual topic. \n",
    "\n",
    "We also need to append a further method call to a \"subinstance\", such as one of the following:\n",
    "\n",
    "- controversial\n",
    "- gilded\n",
    "- hot\n",
    "- new\n",
    "- rising\n",
    "- top\n",
    "\n",
    "One of the submission objects members is `title`. Fetch and print 10 submission titles from the 'learnpython' subreddit using one of the subinstances above:"
   ]
  },
  {
   "cell_type": "code",
   "execution_count": 26,
   "metadata": {
    "colab": {},
    "colab_type": "code",
    "id": "2W1iCDE9Kclp"
   },
   "outputs": [
    {
     "name": "stdout",
     "output_type": "stream",
     "text": [
      "Ask Anything Monday - Weekly Thread\n",
      "Stock Predictor Python\n",
      "Rate my blackjack game please!\n",
      "I made a fractal\n",
      "Why am I getting an IndexError: list index out of range in this script?\n",
      "Python for Digital Marketing?\n",
      "What's the correct way to do FizzBuzz?\n",
      "Duplicate items in list of lists\n",
      "How do I change the x and y axes numbers in matplotlib without changing the actual graph?\n",
      "How would I make a battleship that takes inputs from terminal, and the changes are reflected in html?\n"
     ]
    }
   ],
   "source": [
    "for submission in reddit.subreddit('learnpython').hot(limit=10):\n",
    "    print(submission.title)"
   ]
  },
  {
   "cell_type": "markdown",
   "metadata": {
    "colab_type": "text",
    "id": "00coF0YJKclr"
   },
   "source": [
    "Now retrieve 10 authors:"
   ]
  },
  {
   "cell_type": "code",
   "execution_count": 27,
   "metadata": {
    "colab": {},
    "colab_type": "code",
    "id": "U1vTByCGKclr"
   },
   "outputs": [
    {
     "name": "stdout",
     "output_type": "stream",
     "text": [
      "AutoModerator\n",
      "cavebird2020\n",
      "cycleking303\n",
      "just_a_dude2727\n",
      "prickett94\n",
      "notrealadvice\n",
      "McHaaps\n",
      "breadncheesetheking1\n",
      "Wallywutsizface\n",
      "Steven0710\n"
     ]
    }
   ],
   "source": [
    "for submission in reddit.subreddit('learnpython').hot(limit=10):\n",
    "    print(submission.author)"
   ]
  },
  {
   "cell_type": "markdown",
   "metadata": {
    "colab_type": "text",
    "id": "dOFMMl6AKclt"
   },
   "source": [
    "Note that we obtained the titles and authors from separate API calls. Can we expect these to correspond to the same submissions? If not, how could we gurantee that they do?"
   ]
  },
  {
   "cell_type": "code",
   "execution_count": 81,
   "metadata": {
    "colab": {},
    "colab_type": "code",
    "id": "eIPVr-WaKclu"
   },
   "outputs": [
    {
     "name": "stdout",
     "output_type": "stream",
     "text": [
      "Weekend Discussion Thread for the Weekend of February 12, 2021\n",
      "What a lovely day!\n",
      "Happy Valentines Day\n",
      "Can anyone guess when I discovered options trading?\n",
      "Soon may the tendie man cone\n",
      "Who's tryna join my new analytics company?\n",
      "To all of you who lost 80% on GME. This one's for you.\n",
      "My Awesome WSB Birthday Cake - HOLD 🤲💎🤲\n",
      "Well, this is what my wife's boyfriend told me to do\n",
      "Valentines Gift 🎁\n"
     ]
    }
   ],
   "source": [
    "for submission in reddit.subreddit('wallstreetbets').hot(limit=10):\n",
    "    print(submission.title)"
   ]
  },
  {
   "cell_type": "markdown",
   "metadata": {
    "colab_type": "text",
    "id": "IjIJ6ojAKclv"
   },
   "source": [
    "Why doesn't the next cell produce output?"
   ]
  },
  {
   "cell_type": "code",
   "execution_count": 82,
   "metadata": {
    "colab": {},
    "colab_type": "code",
    "id": "ifxjcJ2aKclw"
   },
   "outputs": [
    {
     "name": "stdout",
     "output_type": "stream",
     "text": [
      "<praw.models.comment_forest.CommentForest object at 0x0000023C10CE0AF0>\n",
      "<praw.models.comment_forest.CommentForest object at 0x0000023C10F60D00>\n",
      "<praw.models.comment_forest.CommentForest object at 0x0000023C10FA4E50>\n",
      "<praw.models.comment_forest.CommentForest object at 0x0000023C10FDC670>\n"
     ]
    }
   ],
   "source": [
    "for submission in submissions:\n",
    "    print(submission.comments)"
   ]
  },
  {
   "cell_type": "code",
   "execution_count": 76,
   "metadata": {},
   "outputs": [
    {
     "data": {
      "text/plain": [
       "<praw.models.listing.generator.ListingGenerator at 0x23c0eaea460>"
      ]
     },
     "execution_count": 76,
     "metadata": {},
     "output_type": "execute_result"
    }
   ],
   "source": [
    "submissions"
   ]
  },
  {
   "cell_type": "code",
   "execution_count": 0,
   "metadata": {
    "colab": {},
    "colab_type": "code",
    "id": "kPNVNapBKcly"
   },
   "outputs": [],
   "source": []
  },
  {
   "cell_type": "markdown",
   "metadata": {
    "colab_type": "text",
    "id": "4aZ2OSd_Kclz"
   },
   "source": [
    "Print two comments associated with each of these submissions:"
   ]
  },
  {
   "cell_type": "code",
   "execution_count": 86,
   "metadata": {
    "colab": {},
    "colab_type": "code",
    "id": "RO4ppDPJKcl0",
    "scrolled": true
   },
   "outputs": [
    {
     "name": "stdout",
     "output_type": "stream",
     "text": [
      "<praw.models.comment_forest.CommentForest object at 0x0000023C11B459A0>\n",
      "Edit:\n",
      "Flair or ban results below in replies.\n",
      "\n",
      "Edit 2:\n",
      "Its over. Stop commenting flair or ban, or its ban\n",
      "I am gambling to fill a giant hole in my life\n",
      "# GME still in sideways - this can mean one thing only\n",
      "Next week should definitely go up or down\n",
      "Why are the markets closed Presidents’ Day. They should be open with a 2x multiplier\n",
      "Turn off the screens, go get pizza, and get laid. It’s the weekend! Don’t forget to support your local drug dealers!\n",
      "i bought pltr calls for the run up. monday is closed and earnings are pre market on tuesday. 🤡🤡🤡🤡🤡\n",
      "I’m somewhat new to options. I think I’m getting the concept though - you buy them and then all your money is gone, right?\n",
      "Wow. Not having any buying power has saved me from making ALOT Of dumb decisions\n",
      "I don't \"hold bags\".\n",
      "\n",
      "I just let everything expire worthless because I've got money to burn. \n",
      "\n",
      "It's a power move. Peasants.\n",
      "\n",
      "Edit: [Just found out it's another 3 day weekend. ](https://i.imgur.com/Cbm2lfs.gifv)\n",
      "In my watchlist, 22 stocks are green, 10 are red. In my portfolio, 1 stock is green, 7 are red.\n",
      "\n",
      "It must be some sort of talent.\n",
      "\n",
      "**Edit: now that I have your attention, what stock should I grab to pull myself out of this? Also, yes, this question is the very reason why I'm seeing red, I know.**\n",
      "Don't forget market is closed until Tuesday so your regularly scheduled 2 day gambling break has now been extended an extra day. Fun.\n",
      "George Washington would have wanted us to trade on his birthday ☹\n",
      "WHO TURNED UP THE DIFFICULTY ON THIS GAME. I WAS WINNING.\n",
      "# Life Hack: Use inspect element to change price of stock ✔\n",
      "Me in Jan: I'm taking down the hedge funds! Stick it to the man!\n",
      "\n",
      "Me in Feb: Well, at least the IRS won't be seeing any capital gains from me! Stick it to the man!\n",
      "Seeing all this talk about tax documents, just cracks me up knowing how most of the documents RH sends out read:\n",
      "\n",
      "“Let’s see, I made 32,346 trades in 2020 and my profit was $19.32. Nice!”\n",
      "i lost 6 dollars today but also shortened my lifespan by 10 years.\n",
      "A lot of y’all noobies are gonna end up like bam margera after y’all’s first big loss\n",
      "TAKE ME DOWN TO THE TENDIE TOWN CITY WHERE THE GRAPHS ARE GREEN AND THE GAINS ARE PRETTY\n",
      "less than 90 hours to market open yay\n",
      "Dear Biden,\n",
      "\n",
      "I blew up my Robinhood account on meme stocks again. Can you please send out another stimmy. Oh, and ASAP!\n",
      "If you guys want proof that we’ve hit the top, today I caught myself seriously thinking about quitting school and becoming a day trader.\n",
      "There’s a wOkE reporter asking Elon why he’s going interplanetary but not hiring international for SpaceX and the crowd starts cheering. Elon goes on saying the government considers it advance weapons technology so he can’t and everyone shuts up. Imagine asking dumb HR questions when this man plans on colonizing space. Lmao\n",
      "How much money you lose? \n",
      "\n",
      "A lot \n",
      "\n",
      "How many bags can you hold?\n",
      "\n",
      "A lot \n",
      "\n",
      "How many chances to sell, fucking around with meme stocks?\n",
      "\n",
      "A lot\n",
      "Ngl I'm still following GME because I actually have serious mental deficiencies and having seen red all week it's very nice to see us close a couple dollars above. \n",
      "\n",
      "It's not much but I've invested too much time to just dump it and stop caring. To The Moon or Through The Floor, I say.\n",
      "Ever since I started trading I hate holidays 🙃\n",
      "At the hospital with my wife in active labor.  Calls on this kid being mine, bullish.\n",
      "Anyone else gonna spend the next 3 days checking their stonks every 20 minutes fully knowing they haven’t moved 🤡\n",
      "Hey, my brothers :)\n",
      "\n",
      "I hope you had a good week and have a good weekend.  Please relax and enjoy the extended weekend.\n",
      "\n",
      "If you are struggling, are sad, lonely, depressed, have PTSD, etc, please take some time to talk to someone about it.  Say how you feel and don't worry about what it looks like.  You are loved and cared about, I promise.\n",
      "\n",
      "If you feel like you have nobody, message me here. I'm happy to talk.\n",
      "To see GME close at $52 almost brought a tear to my eye.\n",
      "Taxes are gonna be looking good next year from all these losses, but I straight up cannot get rid of these diamond hands\n",
      "Oh lord, 9M members. Meaning like 7M will continually to get cucked. \n",
      "\n",
      "Veterans, hold the line.\n",
      "Guys I got the COVID. \n",
      "\n",
      "2 Weeks that I can devote to trading without having to slip into the work bathroom and fake a poop to check my stonks 🙌😎\n",
      "Getting married tomorrow,\n",
      "\n",
      "pulled out all positions at 3:55. Going cash gang for a while. \n",
      "\n",
      "Congrats again snek lord may y’all see green for the week to come.\n",
      "Guh.\n",
      "Today marks 44 consecutive days without drinking for me. Haven't gone that long since boot camp 15 years ago. Aiming for 100.\n",
      "Fuck president's day. Open up my casino.\n",
      "The stages of learning Technical Analysis: \n",
      "\n",
      "Clueless: wtf are all these crayon drawings?! This looks like an overwhelming amount of bull shit \n",
      "\n",
      "Beginner: hmmm... if I analyze these patterns, I can predict anything! Wow this is amazing. I'm gonna be rich!\n",
      "\n",
      "Intermediate: buy my trading course/ bots to start earning today! \n",
      "\n",
      "Advanced: these really are just a bunch of stupid crayon drawings\n",
      "I keep having dreams where I wake up, grab my phone, and I'm up 100k. \n",
      "\n",
      "Lots of disappointing mornings lately.\n",
      "The idiots on CNBC closing bell talk about how robinhood protected traders by stopping buying of GME near the peak and justify it by saying look where it is now. \n",
      "\n",
      "Wow. \n",
      "\n",
      "I'm pretty sure they don't screen for logic at NBC when hiring\n",
      "Anyone watching this thread right now are literally deep into the stock market fuckery and I LOVE YOU RETARDS!! GODSPEED.\n",
      "What do you call a trade you lost 90% on?\n",
      "\n",
      "“A great long term investment”\n",
      "Everytime I think about leaving WSB. I just wake up and go to work at a soul crushing middle management job.  I can change careers or do easier jobs for less money but then I will never reach my financial goals before or after retirement.  If I stay with the same line of work I'm at now and keep playing the corporate ladder game I can hit my financial goals but I'll be half dead by 65.  This assumes I don't die from stress or a heart attack.  I have a 3rd option and it's right here with you guys, I absolutely refuse to be  a wage slave until I'm old.  Society, you gave me no other alternative then to be this way.  I see it as the only option to generate wealth at a decent age.  Even if I lose everything  I see it as a better alternative then never trying.\n",
      "If I hit my goal of 160$ to 5 mill this year I’ll Venmo someone on wsb 50k.  I know 50k would be life changing for me right now so it would be awesome to do that for someone.  Especially a retarded mother fucker on this sub.\n",
      "This doesn’t meet the standards for GainPorn so I haven’t created a post, but I’m damn happy to have achieved a personal milestone and had to share with my fellow degenerates. \n",
      "\n",
      "I started trading last March. My only goals were to learn about the market, and eventually double my money. \n",
      "\n",
      "This week I officially [crossed over the 100% mark. ](https://imgur.com/a/JrGibKj) So that’s one goal down. \n",
      "\n",
      "I know the only people seeing this on a Friday Night will have the same addiction I do. \n",
      "\n",
      "Cheers dummies\n",
      "AAPL I fucking hate your products but everyone else loves them please crank this next week I'll finally convert to iPhone\n",
      "Not that any of you degenerates care, but I got approved for my mortgage on my house thanks to gme down payment money. Wsb changes lives. Sometimes in the good way. Once my finances even out you better believe I’m rejoining the casino and apes\n",
      "Rest up PLTR big week next week\n",
      "Lessons based on 2021 stock market plays \n",
      "\n",
      "——\n",
      "\n",
      "1. Play more video games \n",
      "\n",
      "2. Get high more often\n",
      "\n",
      "—\n",
      "#Why didn't anyone tell me that the stock market doesn't use lube when pounding you?\n",
      "$30,000 weekly call gamble today, 100% gain.  I need a smoke\n",
      "I’ve been in a Wendy’s drive thru for 20 minutes. Please get the fuck off this thread and get back to work, I want my spicy chicken sandwich.\n",
      "At first I was gonna try to make as much money as possible and let that stimi add to it. Now I’m gonna lose all my money and let that stimi replace it.\n",
      "AAPL closed green? Is this real life?\n",
      "If you didn’t buy the PLTR dip you ain’t black\n",
      "\"JoiN oUr DiScoRd SeRver. mE AnD a GrOuP oF iNveStErs...\"\n",
      "\n",
      "\n",
      "This is the second time I've got a message from a low karma spam account. Fuck off.\n",
      "Long fucking weekend and I have nowhere to go and I'm single so that makes it worse. Everyone I know has valentine's day plans. I'm up 28k tho... So that's kinda nice.\n",
      "Yo to be honest I hate weekends because the markets are closed. And now I’m starting to hate holidays. Am I addicted or just retarded?\n",
      "I hate when I open Reddit and it takes me to Reddit’s front page instead of r/wallstreetbets\n",
      "This subreddit got IV crushed.\n",
      "Just got the vaccine, if I die buy puts on Pfizer for me\n",
      "I honestly want us all to become wildly rich so we can untether ourselves from our income pit and live the lives we all dream of. Good luck guys and gals. Tendies for all\n",
      "A comment about Always Sunny going to Wall Street had me thinking:\n",
      "\n",
      "Mac is definitely a WSB user. Shitposts about getting ass blasted, jumps in on all the meme stocks anyway. Eventually gets in at the right time and wins big, only to lose it all bagholding a stock he grew an emotional attachment to, plus the effdct of his broker halting trades due to market manipulation.\n",
      "\n",
      "Frank pays Charlie in cheese to pump shitty stocks and commodities which Frank bought years or decades ago and have lost considerable value since then. Frank watches his portfolio soar on the backs of those who are convinced by Charlie's illeterate commenting about the short term future of video stores and silver which he bought in 1996 and 2011, respectively. Frank eventually gets fined by the SEC when his broker rats him out.\n",
      "\n",
      "Dennis and Dee think WSB is a terrible place to get investment advice, and instead go to a financial advisor they think is a nerd. They can't stand his nerdiness or the prospect of only 12% annual gains so they go off and wing it themselves. They discover margin trading and end up going in debt to their broker leading them to delete the app and forget it ever happened.\n",
      "\n",
      "At the end they all complain about how their broker ass blasted them and nothing they did was wrong, staying true to their narcissistic personalities.\n",
      "Trade, don't invest.\n",
      "\n",
      "Invest is just one letter away from incest.\n",
      "The best thing about options: there’s an expiration date to your bagholding. It’s lovely\n",
      "#####We have a recovering economy, we're ahead of schedule on vaccinations & more people are getting vaxxed than getting covid. We're about to print the biggest stimulus check in American history, 85% of companies posted positive earnings surprises this season compared to 25% in the EU, and the fed says they aren't backing off equity purchases or raising rates any time soon. Whenever you see a bearish post, just remember the facts. We're in a bull market, and the trend is your friend. Calling the top/bottom is for losers.\n",
      "TSLA and PLTR at these prices are free money\n",
      "1. cry\n",
      "2. jerk off\n",
      "3. call ex's mom\n",
      "Whelp. Used 100% of my remaining buying power on PLTR calls for next week.\n",
      "My paper trading account is up 200% \n",
      "My real one is up 10\n",
      "Almost 1 year anniversary of losing all my money in spy 180 puts. So nostalgic.\n",
      "Imagine being me and buying SPCE calls towards close not knowing the test flight was cancelled 🤡\n",
      "All of you guys shitting on Roblox valuation: \n",
      "\n",
      "“Why would anyone spend money on a shitty mobile app?  These kids are just throwing away 💴 money on a silly interface that doesn’t enrich their lives at all!!!”\n",
      "\n",
      "[opens Robinhood app and checks positions]\n",
      "#OMG WE BOUT TO GO BELOW 100K ONLINE USERS SINCE INVASION!!\n",
      "WSB - Where to Shill your Bags\n",
      "I just want a cheap stock to throw all my money into so I can make millions, is that too much to ask.\n",
      "I just keep dreaming of the play where I can finally tell my mom she can stop working.\n",
      "I was telling myself as soon as my portfolio hit $50k I would cash out and put it all in Cathie's ARKs long term, and this week I went from $56k to $38k in less than 72 hours.\n",
      "These new fucks still don’t know. Peak WSB is the weekend discussion thread at 7pm on Saturday night. It’s where the true degens thrive.\n",
      "Hope you all get rich.\n",
      "[deleted]\n",
      "#Who TF else is just happy this fucking place is almost back to normal?!!!\n",
      "the fact that the market is closed tomorrow but i still have to work is a crime against humanity. someone text The Hague\n",
      "Imagine how I spent 10k+ on options but eating instant noodles by myself of Valentine’s Day..\n",
      "\n",
      "🥲\n",
      "that post on the wsb cake is so gay im surprised he wasn't made a mod for it\n",
      "Put your life savings in PLTR.        \n",
      "This is financial advise I am a licensed broker\n",
      "I’m about to put a serious short ladder attack on this 12 pack of beers\n",
      "Finally crossed the $10k milestone on my portfolio!!! 🥳 Started with 35k 🙃\n",
      "I lost my job :/ \n",
      "\n",
      "really tempted to roll my 56K 401k into an IRA that is invested purely in ARK\n",
      "Some of y'all trade like Texans drive on ice 🤡\n",
      "🌊🌊👀V\n",
      "Considerate of PLTR to wait until after hours to start rising so I could buy low this afternoon\n",
      "So is this how people live? Stress free without checking your stock account every 5 minutes?\n",
      "Went from -96.6% to -96.1% this week. Watch out world I’m making MAJOR MOVES\n",
      "I actually don't want to share my picks in WSB anymore lol, it would just ruin it long term.\n",
      "I blew 30k on tilray at 52$ bucks, i know i deserve it but fuk dat shit\n",
      "Stay tuned next week to find out if I can stay solvent longer than the market can stay irrational!\n",
      "Next week's congressional committee hearing where WSB is mentioned will be the absolute top.\n",
      "I sold my first covered call today, I feel so cool\n",
      "George Washington would’ve wanted the market to be open on his holiday\n",
      "My girlfriend is making me watch Emily in Paris with her. Send help\n",
      "Y’all realize with the markets being closed Monday we are going to have the biggest green dildo Tuesday that you’ve ever seen. Market will be sexually frustrated just eager to get a nut\n",
      "I’m so fucking coked up I feel like im gonna explode, I really want to lose money so I can punch another hole in the wall.\n",
      "I ordered two cheeseburgers and two large fries from five guys burgers and fries today and ate them all in one sitting. i ate so fucking much. and i am high as a kite. and i did not drink tonight. am i am watching game of thrones and i am happy.\n",
      "You must buy the Aerospace sector before Cathie Wood ARKX Space etf begins trading in 6 weeks. You think her rivals at other funds are going to let her get in cheap and have another 100% up year? Make them look like old money dumbfucks investing in “value” crooked banks and oils? This is my Aerospace list in order of position size\n",
      "\n",
      "H O L (this is a fucking 🚀making company)\n",
      "\n",
      "N P A 🛰🛰\n",
      "\n",
      "A C I C 🚁🛩\n",
      "\n",
      "R Y C E Y ✈️🛩🚀🛥🛳🛸🛸\n",
      "\n",
      "SPCE🛩🛩🚀🚀🛸\n",
      "\n",
      "S R A C🚀🛰🛰🛰\n",
      "\n",
      "And etfs ROKT, ITA, XAR, UFO\n",
      "\n",
      "Real fucking 🚀🚀🚀🚀🛰🛰🛰🛰🛸🛸🛸🛸🛸🦄🦄🦄🦄🦄🦄\n",
      "\n",
      "This is the first time in history that 🚀 3 Spacecraft are arriving at Mars in the same month. UAE and China(has rover) have successfully arrived. NASA is next on the 18th. And NASA has a new rover and a fucking mini drone helicopter 🚁with blades spinning 10x Earth rate to work in the thin Martian atmosphere🚀🚀🚀🚀🚁🚁🚁🚁🛸🛸🛸🛸\n",
      "My biggest loses is when I’m revenge trading, taking risks above my personal risk tolerance in order to make back loses. It’s just better to write it off and move on\n",
      "A bunch of tards here looking forward to shorting Robinhood stock after IPO using their Robinhood accounts to really stick it to Robinhood\n",
      "Losing unrealized gains makes me so salty when I should be happy. Put 6k into APHA and TLRY options Monday at 3, which were up to over 100k by Wednesday open. Knew I should’ve sold, but was retarded and was thinking about what I could’ve bought with one more day like that and held to Thursday where I cashed out at 40k. I should be happy at 34k gains over 3 days but I’m a baby back bitch over it.\n",
      "Puts on my love life\n",
      "Snowed in, 41 years old, drinking hard seltzer, checking on my vxx calls every 10 minutes, on a Saturday. If my sons have made the same life choices 25 years from now, I will burn their houses to the ground.\n",
      "People who post about wanting to have some sort of Wsb event or meetup are literally the reason that I will never ever go to a Wsb event or meetup\n",
      "TSLA is going past ATH this week. India gigafactory confirmed a few hours ago and Elon is asking to speak with the president of Russia on twitter. \n",
      "\n",
      " было бы большой честью поговорить с вами - *it would be a great honor to speak with you*\n",
      "\n",
      "All of this combined with the revelation that the VW ID registrations are the result of VW \"*registering\"* their cars to dealerships to avoid zev credit penalties just like their Dieselgate fiasco. Those cars are sitting on dealer lots. \n",
      "\n",
      "AND if that's not enough, the fucking 7k credit in the US that's coming will make model 3 the price of a Honda civic. \n",
      "\n",
      "Expect big badda boom on Tuesday. \n",
      "\n",
      "Good luck shorts. More people have busted out trying to short TSLA than any other stock in history, I'm sure you'll time it right next time.\n",
      "PLTR GANG CHECKING IN\n",
      "\n",
      "FORMALLY KNOWN AS SLV GANG\n",
      "\n",
      "FORMALLY KNOWN AS PRPL GANG\n",
      "\n",
      "FORMALLY KNOWN AS RKT GANG\n",
      "Girl I dated years ago fishing for gifts 🙄 https://imgur.com/a/Amz3cLe\n",
      "Remember when everyone was laughing about gourds and then GME happened and like 7+ million people joined the sub lmao\n",
      "I think this sub is finally getting back to the way it used to be. \n",
      "\n",
      "Let’s 🚀\n",
      "[deleted]\n",
      "my dog just ripped ass and left the room\n",
      "The weekends are a great time to take some time away from the stock market and to decompress, but here I am reading about stocks on Reddit because I have nothing else to do. Man what a sad life I have.\n",
      "I wanna piss but feel lazy to get out of bed\n",
      "If you are fat bro, go to the gym and lose weight. \n",
      "\n",
      "Stop drinking soda\n",
      "February 15th is the real holiday where you can buy the leftover candy for 80% off. Whoever bought chocolates today, you’re a sucker. This is why you broke son.\n",
      "Why do 300 pound girls on Bumble put “nOt LoOkInG tO bE yOuR uNiCoRn AnD jOiN yOu As A tHiRd.” That’s not a unicorn, that’s a whole ass  Majin Buu.\n",
      "There’s going to be so many “why aren’t my stocks moving” jokes tomorrow, and they are all going to be very unfunny.\n",
      "My gf is upset with me because I’ve done more to plan this week’s upcoming stock trades, then this holiday invented by hallmarks\n",
      "Hey guys always remember, pay your car payment before the mortgage. This way if you gamble the house you can still live in your car and get to work. Thanks for reading, you sick fucks.\n",
      "Even if I’m able to trade stocks tomorrow (I’m from Germany) it’s not volatile when the murican markets are closed.\n",
      "\n",
      "It’s like in the class and the funny retarded kid isn’t there cause he is  sick or something\n",
      "The market being closed on President's day is textbook communism.\n",
      "Instead of buying my gf flowers, I bought her $75 worth of 1-800 Flowers stock 😂\n",
      "She’s so fucking mad hahahahahaha\n",
      "\"Seeking Alpha\" sounds like the name of a cuckold dating site\n",
      "Market closed tomorrow, I am dead inside\n",
      "Before mobile apps, did people call their broker while on the shitter to place trades?\n",
      "So which one of yall bought the top on GME, finally sell it for a loss, then fomod the top on weed. lmao\n",
      "*This is not financial advice and I am not a professional*\n",
      "\n",
      "yeah no shit. we’re done with that right?\n",
      "I hate that ppl are calling everything in the mkt to squeeze now idiots\n",
      "Just need to double my account a few more times to finally think about quitting my tedious soul crushing job... Ha ha. Ha. Fuck.\n",
      ">Like 4chan found a Bloomberg Terminal\n",
      "\n",
      "This sub used to be cool before it got flooded with Redditors.\n",
      "Guys if we pump SPY then every stock on the market will go up 😳\n",
      "#Holy fuck. We are officially down to pre ape levels of online users. 77k!!\n",
      "You want to know the best investment you can make right now? \n",
      "\n",
      "\n",
      "Your fuckin health.\n",
      "#Bears lmfaooooooo\n",
      "I read a bunch of the DDs and think we might have done well. We got 8million new retards but statistically, that gives us like a dozen new rainmen.\n",
      "calls on lazy cunnilingus tonight\n",
      "Man, I just want to make enough money to buy a sea shanty in New Hampshire and wear flannel and knee high rubber boots and one of those hats with the flaps on it, smoke a pipe in a rocking chair and every so often complain to passers-by about the shoobies destroying the place I've called home for several months while my dog lazily sleeps next to me occasionally letting out some fetid gas.\n",
      "\n",
      "I'll even forego all the sexy South American super models for this.\n",
      "Guys, just trust Cathie Wood. It’s that easy.\n",
      "I blew up half my account this week. This is like my 3rd time now 🤡\n",
      "Imagine thinking this is a team sport and they won't leave you holding the bag 🤣\n",
      "guys i been telling people im a day trader so they auto assume i'm getting rich  \n",
      "the truth is i'm losing thousands daily and i'm one more meme stock away from being homeless\n",
      "To the person who stole my Microsoft Office License.\n",
      "\n",
      "I'm gonna find you. You have my Word.\n",
      "Boomers will literally pay thousands of dollars in fees to a broker just to buy index funds\n",
      "Pour one out for our boy - kcufjustin\n",
      "\n",
      "[*Play me on Chess.com - you win I'll give you a flair, you lose - permanban*](https://old.reddit.com/r/wallstreetbets/comments/likmpp/weekend_discussion_thread_for_the_weekend_of/gn4wci9/?context=3)\n",
      "\n",
      "https://i.imgur.com/FSPALfB.png 😞\n",
      "\n",
      "I will NOT be accepting any games at this time. Ty.\n",
      "The collective brain of this place is getting collectively smoother and it's hurting my soul. Sometimes you lose plays. You don't make up for this by holding the bag after you got pumped and dumped. Stocks *don't come back*. \n",
      "\n",
      "If you think you're smart for holding TLRY at $70, zoom out and look at that all-time chart and see how bad the bagholders got burned last time. Fuck, I mean look at GE, the company literally peaked 20 years ago. Holding a dead stock is not diamond hands, it's not long-term investing, it's retarded - you bought in because you wanted quick action.\n",
      "\n",
      " Don't get turned into a long-term investor because you made a short-sighted decision and it burned you. Move on.\n",
      "The dumb people go for SEMI conductors while full-time conductors are obviously much better.\n",
      "\n",
      "Long on orchestras.\n",
      "Imagine paying a financial advisor 1% annually in hopes of your account growing on avg 7% 💀\n",
      "Bear logic: hey guys we’re almost at the anniversary of the covid initiated market crash. \n",
      "\n",
      "We have no reason to suspect that another event like covid is coming, but we’re gonna ignore all logic and appeal to society’s weird obsession with anniversaries and act like we’re in for another crash but this time with no catalyst. \n",
      "\n",
      "All in spy 4/1 1p.\n",
      "Ngl I know it’s gay but I love hanging with y’all, even the bers and GME bag holders.\n",
      "\n",
      "Hope y’all all have a great weekend, whether it’s with wives/girlfriends, waifus, or cum socks\n",
      "anyone else jerk off to the blonde bunny from space jam\n",
      "The thing about hedging by dating 2 people is that you get IV crush on valentine's day\n",
      "Imagine dating a girl just to find out she’s selling pussy pics on only fans for 10 dollars ..... happy Valentine’s Day kings\n",
      "I DECLARE Hangover\n",
      "Scams are out of control. Just seen an ad where people buy courses on how to flip semi-trucks. What the fuck. Lmao\n",
      "Bro in wasted and i just wanna say youre gonna make it , bro stop trippin youre amqzing and you can do this; fuck everyone who doubts you, you are a bad mf and you can make this breads okay? Grind and grind you will get there, fuck this job and dick life we gonnaretire ewrly tyoe shit my power just went ot abd idgaf vei\n",
      "Who else bought PLTR in the 31s today 🙋‍♂️\n",
      "I threw my entire account into day trading TSLA puts on that morning dip and got out before the pop. My dick has never been so hard.\n",
      "Fucking hell, every single time I buy an option I first see profits, get greedy and then end up selling for pennies on the dollar / expiring worthless.\n",
      "\n",
      "I truly belong here.\n",
      "We just hit 9M. Wow that’s a lot of bagholders.\n",
      "Tinder finally got me to pay $32 to see these 22 “matches” and they’re all absolute dregs\n",
      "\n",
      "Edit: just did the boost and matches flying in\n",
      "Swiping on tinder at midnight on Valentines’ Day might not be the best look but fuck it right lmfao\n",
      "“Social *edicate*” .. it’s etiquette lmaoooo\n",
      "\n",
      "This place really is retardant 😂\n",
      "I just want to make $20M-$30M and be done with this nonsense.\n",
      "just got a valentines day gift from my mom so that pretty much sums up my life rn\n",
      "why do people have the need to rep WSB in public? I literally cant think of a better way to tell people that you are on the spectrum and are a bagholder\n",
      "Rolling blackouts because of a few inches of snow? Where is this, Aleppo?\n",
      "\n",
      "Puts on US infrastructure\n",
      "Haha stupid paper handed bitches with their 700% profit\n",
      "Cheapest covid test is jamming your finger in your ass and taking a sniff. If it smells like shit you’re good to go 👍\n",
      "TSLA below 800 was a steal\n",
      "Still can't believe I fell for the ape movement and didn't cash in 70k of profit 🤢\n",
      "Aww I've got 3 kids and no money\n",
      "\n",
      "\n",
      "Why cant I have no kids and 3 money?!\n",
      "Upvote if you're wasted and view this thread as your friend group\n",
      "Bears predicted the last 3 crashes 627 times. Amazingly accurate!\n",
      "For folks expecting a market crash: the most we will see is a correction in the following weeks. There are too many good news coming, companies crushing earnings, vaccines, stimulus, low interest rates. \n",
      "\n",
      "For a market crash, we need to start losing those good attributes: I will only worry about market crashes after covid is gone, economy is recovered and Fed start discussing about raising rates.\n",
      "\n",
      "Right now you have half the government doing everything they can to make sure things don't go wrong.\n",
      "Coinbase is going to direct listing. Roblox is going to direct listing. Just letting you guys know which companies are worth investing in as they go public unlike other stupid expensive IPOs\n",
      "You guys are like the friends I never wanted.\n",
      "I ran out of adderall and coincidentally *also* ran out of motivation or desire to do ***literally fucking anything at all*** except beat my meat every 20 min for the tiny dopamine release 🥱💦\n",
      "Plays for next week, assuming there is no fuckery between now and Tuesday.\n",
      "\n",
      "$EA $149c 2/26 - $1.4\n",
      "\n",
      "$AMD $98c 3/5 - $2.25\n",
      "\n",
      "$CVS $76 3/5 - $1.84\n",
      "\n",
      "$FDX $275c 3/5 - $3.3\n",
      "\n",
      "$FUBO $50c 2/26 - $3.7\n",
      "\n",
      "$MSFT $255c 2/26 - $0.71\n",
      "\n",
      "$TDOC $330c 2/26 - $4.9\n",
      "\n",
      "$TLRY $50c 4/16 - $5.2\n",
      "Insurance is such a scam, but I like the peace of mind knowing if I happen to have a life destroying event, after I pay up to my exorbitant deductible, insurance will cover the rest of the cost of the life destroying event while I live in shambles\n",
      "Nothing more sobering than an option expiring worthless\n",
      "spends 10k on ark calls in one day - no big deal\n",
      "\n",
      "30 dollar t shirt - nah fuck that\n",
      "nicolas cage is the greatest actor alive but people aren't ready to accept that yet\n",
      "Hello only to the 1.8mm memebers that were here before 1/15/21\n",
      "Went full retard last week on a 20 bagger and let it expire worthless\n",
      "Mental disorder is buying yourself a heart shaped pizza and posting it on social media.\n",
      "🌈🐻 gonna be eating ice cubes for dinner next week\n",
      "SOS my portfolio is green for the first time all week. And yes if you’re asking I lost out on 28k gains on GME and panic sold. And YES I’m still fucking bitter about it.\n",
      "Yeah sorry PLTR lads I hopped on this train before close, this rocket ain’t going anywhere, I’ll see y’all behind the Wendy’s Tuesday ✊\n",
      "Fuck you ICLN, you sucki sucki\n",
      "Robinhood is a paper trading app right? \n",
      "\n",
      "Losses aren’t real right??\n",
      "WSB new motto:\n",
      "\n",
      "Short-Term Gain, Long-Term Pain\n",
      "#WTF 3 DAYS WITH NO CASINO?????\n",
      "Bagholder convention:\n",
      "\n",
      "Gme\n",
      "\n",
      "Sndl\n",
      "\n",
      "Icln\n",
      "\n",
      "*I am attending all 3*\n",
      "#\"Only invest what you can afford to lose!\" \n",
      "\n",
      "#....that doesnt sound like a yolo to me\n",
      "I’ll eat asparagus and drink my own piss if GME doesn’t close above $400 by end of week\n",
      "after blowing up my portfolio 3 times over the last 3 years, i've  joined theta gang. if you can't beat em join em\n",
      "\n",
      "so far so good, it's paid my bills. snail gang\n",
      "[deleted]\n",
      "Damn it might snow 3-6 inches here. And look some people will laugh because thats normal to them, but where I live in texas, thats rare , in fact It was probably like 5 years ago there was a snow that even stuck 1 day, qnd it was like 2 inches. Needless to say im hyped\n",
      "Do any of you fucks still do options? I mean, WTF.\n",
      "\n",
      "Or is this sub all about eating girls asses now.\n",
      "Valentines day was created to get us to spend money on others instead of the market. Change my mind\n",
      "\n",
      "PS. Im happily single and ready to market mingle\n",
      "Is it normal to feel depressed and useless when the market is closed?\n",
      "Robinhood is probably fucking on top of my tax documents right now just to stick it to me\n",
      "$0.50 for extra sauce? No thank you. 🙄\n",
      "\n",
      "$1000 for FDs that expire in a week? Yes please. 🤡\n",
      "This place is 1000x more entertaining and less stressful on weekends. Ya'll are just as retarded with your free time as you are with your money 👌\n",
      "[deleted]\n",
      "The world went to hell when Craigslist removed the personals section. Prove me wrong.\n",
      "# bears anally gapped and their balls are squeezed and they have smol pp\n",
      "I’d bet r/dividends has probably averaged more gains than WSB this past week 🤡\n",
      "\n",
      "^the ^bagholding ^apes ^are ^bringing ^down ^our ^averages\n",
      "Ended this week fully recovered from my GME losses 🎉\n",
      "If you’re still holding weed stocks you truly belong here\n",
      "\n",
      "I got spy puts at 387 expiring Tuesday my shit about to print in the color red or green Tuesday \n",
      "\n",
      "Most likely red because i never get what i want\n",
      "Please baby Jesus just give me another 45k so I can sell options on TSLA and never need to gamble again\n",
      "I've been involved in this community a week and realised I've wasted all my money on whores and drugs. If id only I'd sorted my life out, really thought about my future I could have afforded even better whores and  more drugs today.\n",
      "\n",
      "\n",
      "Between this and the digimoney I'm going balls deep financially so the me in a year so i can sniff pure columbian marching powder off my wife's boyfriends dick.\n",
      "Jim Creamer: *We all have the right to lose money on dumb trades*\n",
      "\n",
      "Damn right\n",
      "My honest advice for any new people here is, don’t second guess yourself. Things always take a downturn at some point (and seriously, this is not a downturn, if you weren’t in the market last March you don’t even know how to imagine what a downturn is).\n",
      "\n",
      "Just pick up your head on Tuesday, make some new trades or hold your old ones, and see where you go. Do not read CNBC or Reddit all weekend. That’s how you lose money.\n",
      "**Lost money on SNDL and APHA puts today while getting flagged as a day trader AMA**\n",
      "\n",
      "Russ from Fidelity if you are in here thanks for patiently and thoroughly explaining why I’m retarded when it comes to options.  And how your app works.\n",
      "PLTR gang, how we feeling bois?\n",
      "Hey lol I just realized last year I blew up my account buying puts on Disney and this year I'm blowing up my account from calls on Disney.\n",
      "\n",
      "That's fun! 🤡\n",
      "The dead president's wouldn't want the markets closed for 3 days. *Stop the stopping*\n",
      "This is a very expensive hobby. I donated a lot to theta gang\n",
      "Had a good week trading boys. Bout to spoil myself and eat some ramen from a package not the bowl 😎\n",
      "Hey guys I have a 101.5 fever. \n",
      "\n",
      "Should I buy puts on myself?\n",
      "This sub isn't making me any money, but I like it here. I'm staying!\n",
      "Crazy how this time last year we had no idea what was about to fucking hit us with a full brunt force of death in 2 more weeks.\n",
      "\n",
      "MSFT 200C buyers got rekt\n",
      "Unbelievable, you fucks could hold 69 awards but when someone posts a thread saying to stop wasting money on awards and buy GME instead, you literally give them the most awards on a reddit post ever. \n",
      "\n",
      "I love it lmao\n",
      "Fidelity released my 1099. -92k short term loss for 2020.\n",
      "\n",
      "Couldn't have done it without you guys \\#Winning\n",
      "The 🅱️lacker the 🅱️erry the sweeter the 🅱️uice\n",
      "Never go back and look at positions you sold prematurely and see what they’re worth now. \n",
      "\n",
      "You’ll be like Lot’s wife from the Bible turning back to look at the destruction of Sodom and Gomorrah and turn into a pillar of salt looking at your missed gainz.\n",
      "\n",
      "Source - Mr. Salty\n",
      "Hey guys just woke up from a coma is GME at $1000 yet?\n",
      "Michael Burry is bullish on nuclear stonks but personally the gamma risk is too much\n",
      "![gif](emote|wsb_emojis|bull)\n",
      "Fucking lol at having a gf. Spending money when you could be buying TSLA calls lmaooooo.\n",
      "We're such fucks\n",
      "\n",
      "People be getting degrees in this shit while we (most of us) fuck around with stocks for fun.\n",
      "\n",
      "I love it. I love all of your visions.\n",
      "Don’t diamond hand a 20 bagger like me boys\n",
      "I have a girlfriend who fucks me all the time. Her name is Options Stonkmarket and doesn't stop when I use my safe word\n",
      "True what they say.....the first $100k is the hardest to get.  Almost there in gains after 1.2 years.  The gains are starting to pick up a lot faster now.  No wonder rich people stay rich.  So much easier to gain wealth when you have more money to work for you.\n",
      "VIX skyrocketing on yachty drop.\n",
      "CNBC: #WallStreetBets Insider Trading\n",
      "\n",
      " late Saturday night wallstreetbets discussed a stock called SNEK. There was no ticker for it. SNEK could be an up and coming stock that will reach the market soon.\n",
      "Always money in the Banana stand\n",
      "Pltr will pay my yearly mortgage\n",
      "WSB members are married, have girlfriends and some are women? Wow, this is news to me. I thought we are just a bunch of loners, who just stare at charts and are obsessed with making a quick buck, because we lack real meaningful connections in real life\n",
      "My upstairs neighbors are fucking right now. They’re really going hard\n",
      "\n",
      "Edit: I think he just climaxed\n",
      "GME is like Dragonball Z. You think the big showdown with the bad guy / short squeeze is gonna happen next episode but it isn’t gonna happen for weeks. \n",
      "\n",
      "And then when it does you realize you’re not Goku, you’re Krillin\n",
      "Who else had no Valentine? Who else doesn’t care? Chasin this money 💰 chasin this bread 🍞\n",
      "Fuck Presidents’ Day. There is money to be lost!\n",
      "PLTR going into earnings after a -14% week is amazing.\n",
      "\n",
      "Bought calls 20min before close.\n",
      "You watch her as she brushes her hair. She’s humming a song you can’t quite hear and smiling to herself. Not for the first time, you wonder why this person chose you.\n",
      "\n",
      "She turns. “What do you want for Valentine’s Day?” You want to scream *Save your money!*, but you only shrug. “Nothing, really.”\n",
      "\n",
      "“Nothing?” She crawls into bed and touches your leg. “Are you sure?” Again, you wonder why this person chose you.\n",
      "\n",
      "As she takes the weight of you in her hand, your mind wanders. To your puts. They’ll expire worthless, like you. After several minutes of failing to conjure your manhood, she asks, “What’s wrong?”\n",
      "\n",
      "Stonks only go up.\n",
      "\n",
      "But you don’t.\n",
      "I would suggest buying stocks only if they will go up afterwards. If the stock declines after you buy, you will lose money when you sell.\n",
      "Prediction: this congressional hearing on GME/robinhood will end in the following way:\n",
      "\n",
      "It will conclude that brokers removing stocks from their platform in the name of risk management is bad for retail traders, but also common practice, and not illegal. Some congress members will virtue signal and scream about \"THE PEOPLE\" to endear themselves to their voters.\n",
      "\n",
      "Representatives from the brokers will argue that, in fact, brokers are legally obliged by the SEC to limit risk if they are at risk of becoming insolvent. And that they actually would've been fined (and likely broken the law) if they *didn't* remove it from their platform. It was the risk of fines that led them to do this, actually, and that's what they will tell congress. \n",
      "\n",
      "The end conclusion will be that SEC laws are to blame. Some will fight for SEC reforms, but the SEC doesn't do shit like \"listen\" or \"reform\" or \"do anything,\" so nothing will come of it.\n",
      "\n",
      "Then WSB will be the \"THIS IS BULLSHIT THE 1% ARE CORRUPT CONGRESS IS CORRUPT\" sub for like 3 months. Then everyone will sort of forget about it.\n",
      "\n",
      "Just posting this here so I can link to it later. It's actually really obvious, but it will be funny to pretend like I made some bold prediction and got it right.\n",
      "$GME new floor being $50 seems fruitful.\n",
      "Buying dips 📉\n",
      "\n",
      "Taking hits 🚬\n",
      "Dude in the Schwab commercial saved like $12 and is taking care of lunch for his friend? Must be a cheap date\n",
      "PLTR either going to $50 or $15 on tuesday no cap\n",
      "Ever since I turned 30 ice cream transforms my ass into a fucking Space X Falcon Heavy\n",
      "im probably gonna drink this whole 12 pack of twisted tea tonight. no homo\n",
      "Just saw a robinhood commercial closing line was \"you're in control of your financial destiny\" what a load of shit.\n",
      "If you think about it the 12,000% in GME wasnt the squeeze.\n",
      "Can’t wait to get up tomorrow early, slam some preworkout, and hit a massive push day \n",
      "\n",
      "FUCKKKKK PLANET FITNESSSSSSS\n",
      "I have a ladder in my garage, and I just realized it doesn’t reach to the highest part of my roof. It is actually a short ladder. This whole time it has been planning an attack against me. WTF should I do? I’m scared\n",
      "this sub is single handedly keeping Reddit afloat 🤔\n",
      "Y’all I haven’t had any alcohol in over 3 weeks this is the longest I’ve gone without drinking in years (it was daily/almost daily for a few years until a few weeks ago)\n",
      "Can we get another pandemic please??? I'm gonna know exactly what to do next time\n",
      "[deleted]\n",
      "To all of you that somehow actually manage to make money and not blow up your accounts .. congratulations and fuck you!! 🖕\n",
      "Y’all think we’ll see a housing crash in the next 5 years? I need to buy a house but don’t wanna get caught bag holding\n",
      "When you eat hot dogs without cooking them, it's called raw dogging\n",
      "Zimbabwe government just reported that PLTR is about to absolutely fly at open\n",
      "-33k this year can anyone top that 😔\n",
      "Imagine being a newbie and the first user you see is me with my flair and my perverted comments lmfaooooo\n",
      "$PLTR is skynet. Bullish on the stock bearish af on humanity\n",
      "The fact that everyone and their mother is predicting an imminent crash means that there will not be a crash yet\n",
      "Accidentally bought AAPL Total Landscaping\n",
      "FUTURES BLOOD GREEN LMAO\n",
      "I've never smoked but I promised I'd get an edible with my SNDL gains. I don't feel any different. I'm eating the second half now.\n",
      "Everyone keeps saying PLTR is gonna tank which means we're going to Mars bb\n",
      "I went to Taco Bell for the first time in a year and they got rid of fucking everything. No double decker taco? No meximelt? No seven-layer burrito? The fuck do you guys still have, then?\n",
      "Best general advice I’ve seen on here (I think ever) was a couple weeks ago in the middle of the game store craze. It said something like “WSB plays are actually right more often than you think but the timing is always wrong. Buy monthlies and wait.”\n",
      "\n",
      "It’s not correct 100% of the time but it definitely brings up the WSB average from 99% losing plays.\n",
      "Time in the market beats timing the market. LEAPS on ARKK and close robinhood for the next 2 months\n",
      "DFV to testify before Congress is the best thing to come out of all this\n",
      "[deleted]\n",
      "/r/thetagang users still walk around in public with bluetooth headsets like it's 2004\n",
      "Please just open up the fucking casino. Gambling fills the void in my life.\n",
      "The only orange things that should be discussed here are cheeto dusted tendies.\n",
      "Open the damn markets already\n",
      "My puppy is my valentine. I’m eating chocolate covered strawberries and she’s eating a toy shaped like a chocolate covered strawberry. This is the closest I’ve felt to another being in months.\n",
      "About to hit one-year since I started options trading and so many lessons learned along the way:\n",
      "\n",
      "https://imgur.com/a/BVeMW5w\n",
      "\n",
      "Peaks were 2.3k and 43k. One thing I learned is how easy it is to fall into the FOMO trap when you watch your money double in a few days or even hours. I'm definitely taking profits along the way from now on. It's the only way to keep doing this long term without blowing up my account.\n",
      "Mia khalifa bought the top\n",
      "Semi conductors are the way.\n",
      "After going thru tinder it feels like 80% of the population has tattoos\n",
      "Imagine going up to a cake decorator at Walmart  and telling them you want a WSB inspired cake with Kratos using a Bloomberg terminal.\n",
      "Open the markets! Nothing makes me feel more alive and gives me the same dopamine hit as losing thousands of dollars as soon as I enter a trade\n",
      "[deleted]\n",
      "You could literally have scenes in New York City from the first Avengers movie happening and SPY would still rally in the midst of it to 400.\n",
      "\n",
      "Analyst would be on CNBC saying it’s a buying opportunity and that the market is forward looking.\n",
      "I just saw a news article saying “my husband came out as trans and I came out as gay” imagine how shitty it would be to try and come out as trans to get out of your marriage and your wife does some shit like that\n",
      "Imagine betting against the land of the free, home of the Bulls 😎🦅🇺🇲\n",
      "\n",
      "SPY 420 ON 4/20\n",
      "Only the president should have off tomorrow. \n",
      "\n",
      "It’s **PRESIDENT’S** day not **MARKET’S** day \n",
      "\n",
      "#😤😤😤\n",
      "If George Washington were here, he’d say “OPEN THE FUCKING CASINO RETARDS!”\n",
      "I feel like dominoes pizzas have been $5.99 for 20 years. At this point it's like a hard currency.\n",
      "I took a dump at my gf’s place, went to wipe, and it was 1-ply toilet paper. Red flag?\n",
      "Guess I'll actually work at work tomorrow\n",
      "Remember when ppl here didn't say \"this is not financial advice\"\n",
      "\n",
      "wow those were the days.\n",
      "Why does the stock market have more vacation time than me😡\n",
      "[deleted]\n",
      "Upvote if you’re retarded.\n",
      "Robinhood is holding my tax documents hostage.\n",
      "Open the casino back up!!\n",
      "PLTR GANG?!?!?🚀🚀🚀\n",
      "Imagine thinking you can predict stock prices\n",
      "**Wallstreetbets** \\- \"I like the stock!\"\n",
      "\n",
      "**The stock** \\- \"Sorry, maybe we should just be friends\"\n",
      "One time in college I went on a first date with a girl to a horror movie and the madwomen dropped acid. On a fuckin first date. While watching a horror movie.\n",
      "\n",
      "I hope to have balls that large one day\n",
      "\n",
      "Edit: I ate her ass that night\n",
      "Just wanted to give some advice because I've been seeing the sentiment a lot around here, especially newbies. Essentially it goes like:\n",
      "\n",
      "*Wow I made 300% gains on that trade with \"X\" amount, really wish I put more in.*\n",
      "\n",
      "Honestly. You probably don't. That \"X\" amount was what you were comfortable with, hindsight is 20/20. Greed and fear are the bane of profits, and if you had put in more you very easily could've sold out too quicky / sold on a drop out of fear, or held too long out of greed.\n",
      "\n",
      "&#x200B;\n",
      "\n",
      "Never regret your profits.\n",
      "The most valuable lesson you learn from years in this sub is understanding retail psychology. Once you master that, you use it to your advantage. That’s why a lot of the OGs here are theta gang. The rest of us just scan for set ups and just sit quietly in a position until it gets pumped around this sub again. If you know what to look for, you will be ahead of the gang every time. That’s the real diamond hand play. You just sit and wait like a trophy elk hunter waiting to draw back your arrow and take nothing less than a 10 pointer down in the back country.\n",
      "I am so fucking pissed at that eod rally. My mom tried bringing me chicken tenders and mountain dew and I literally pushed her down the stairs. Such fucking bullshit. Im so mad\n",
      "To the 8 million people that joined this month. Are we the genius’s you imagined. You came here expecting us to talk about finances and logistics on a company. Instead you get things like “I like anal but I don’t like stinky”\n",
      "My time here is done. I've lurked for years and had just joined up recently within the past year or so. I just found out today that I have another kid on the way so my time gambling is done. Gonna liquidate and move everything into something a bit more stable. Good luck you degenerate fucks.\n",
      "How’s everyone feeling APHA long?\n",
      "why the fuck do presidents need their own day?\n",
      "I’m gonna do some serious weed research and come back Tuesday and lose even more fuckin money cause instead of doing research I just smoked weed.\n",
      "For what it’s worth: I have a family member who was diagnosed with stage 4 gastric cancer 4 years ago at the age of 44. Scary af. She has been on a trial drug called “ZW25” by Zymeworks. She’s now in complete remission. The stock looks like crap, but I expect that will change at some point in the future. You’re welcome (5 @41 and buying more).\n",
      "T-minus 5297 minutes to PLTR tendies time\n",
      "Can we go back to PLTR/TSLA/ general tech hype again? Also Lowkey, I’m getting bullish on oil. Someone talk me out of it.\n",
      "Bruh if you don’t drink wine you missing out\n",
      "\n",
      "Bitches love wine\n",
      "\n",
      "Shit is cheap\n",
      "\n",
      "Tastes good, it’s like adult grape juice \n",
      "\n",
      "No carbonation, no burps \n",
      "\n",
      "It gets you fucked up and in your feels\n",
      "\n",
      "\n",
      "Buying calls on wine\n",
      "What's up with all the gay bears coming out? This is the bulls palace. You are not welcome\n",
      "When it comes to GME, the bears have feasted for weeks now. But their time in the sun will soon be over, then guess who's gonna be making money?\n",
      "\n",
      "Theta gang, of course.\n",
      "Man. I miss finding deep fucking value plays in WSB. Y’all just pumping and dumping now. First GME, then TLRY, what’s next? PSTH?\n",
      "\n",
      "#GIMME SOME DEEP FUCKING VALUE PLAYS\n",
      "Who else made a few years of Tendies on their LUCID dreams today w/ me?\n",
      "I wonder what the sec investigators who’s reading this threads wifes cooch taste like\n",
      "Year of the Ox = bears are fuk\n",
      "Stop flairing the commoners\n",
      "I’m telling u bro tesla battery day will be an ez 10 bagger u gotta trust me\n",
      "I want to deliver a pizza to Cathie's house. I bet she's a good tipper and maybe if all goes well she'll invite me in for some wine and then we'll bang\n",
      "\n",
      "SPY 400c 2/26\n",
      "hmm should I make an OnlyFans for my loss porn?\n",
      "Posture check\n",
      "WSB = a money pit\n",
      "anybody else's life is too boring and PLTR ER is the most exciting thing for them in a while?\n",
      "So I work as a custodian for my day-job.  I’ve been babysitting my stocks these past few weeks while my Guatemalan  co-worker has been selling AmWay and buying lotto tickets. Guess who came out ahead? 😀🔫\n",
      "Just your weekly reminder that Spotify are paying 100 million dollars for JRE and can't figure out how to provide a video feed on your TV\n",
      "\n",
      "Puts on Spotify retardation\n",
      "Friday was the one year anniversary of my first Yolo (pouring my entire Roth into SPCE shares last year). It's been a wild ride including watching 38k of gains evaporate being a bear in April-June but I rebounded and I'm up 4x since this time last year. I owe half of it to WSB and Half to the SPACs subreddit. I also owe virtually all my negative days during that time to WSB.\n",
      "How the fuck did you guys sit down for 3 years and study 5-10h a day to get a shitty degree ? \n",
      "\n",
      "I am fucking exploding 😔\n",
      "Anyone else getting ads on social media to pay to \"Get Access to Top 10 WallStreetBets stocks\" . The fuck? I already know the top stocks lmao. I lost money on them😎.\n",
      "Anybody else remember back in the day when we used to  refresh  the 🅱️eekend 🅱️ow literally all weekend watching two traders go back and forth only  only to watch futures open and limit down/up immediately? \n",
      "\n",
      "Fucking miss those days. VIX sucks now.\n",
      "PLTR\n",
      "Imagine spending money on a girl that may leave you one day when you can buy GME and it stays with you forever ❤️\n",
      "PLTR is going to crush earnings.... then drop 7%. 👌🏼\n",
      "i’m still checking my portfolio even though i know that bitch can’t move\n",
      "Feel like YOLOing 10-15k on ~~Monday~~ Tuesday. Drop your tickers and the most upvotes gets it.\n",
      "\n",
      "&#x200B;\n",
      "\n",
      "Unless it's SNDL or HYLN, I'm trying to YOLO not straight up burn my money.\n",
      "Imagine considering yourself a man and going to a planet fitness\n",
      " 🍻 This one’s for u/zjz miss ya bud!\n",
      "Holy crap I actually had a good date. I thought it was destined to fail but we hit it off and had a splendid time. Most alive I’ve felt in a long time. \n",
      "Positions: Shorted $ROPE\n",
      "I’m tired of these motherfucking snakes on this motherfucking sub\n",
      "PLTR PLEAS FLY AGAIN\n",
      "###rip to the guys that have to watch the Notebook today. Idk why my ppl like that movie. It’s a total trash can.\n",
      "Imagine this scene. You're a boomer. You wake up and put on your slippers, grab your pipe. You sit back  and open your Wall Street Journal to check how high your boomer 401k has risen over the last week. You always win. Always have always will.\n",
      "\n",
      "The front page has an article quoting a person named \"Anal Farmer\" telling the SEC to, quote, \"swallow a bag of dildos.\" You gasp.\n",
      "Taking a hot bath might not seem like a manly thing to do, but the peace of quiet is priceless, especially when you have a family. Just sitting in the dark with a candle lit, listening to the bubbles burst, checking WSB for laughs. And if you're feeling extra frisky, a wank to top it off at the end. Highly recommend trying it tonight, gentlemen.\n",
      "When I'm looking for unusual whale activity I just check to see if your mom is home.\n",
      "This thread needs way more degeneracy\n",
      "You’re telling me I have to work tomorrow and I can’t even compulsively check stock prices all day\n",
      "Man that pump conference Mango had on the White House lawn with the CEOs of all the Fortune 500 healthcare companies was bananas. Sometimes you can’t believe these things actually happened.\n",
      "Theta Gang makes their money off our FD’s. Why are these cuckolds shitposting their beta ass plays in here. Shits got me heated.\n",
      "if futures red = great depression.\n",
      "\n",
      "if futures green = another 12 year bull market.\n",
      "If we can trade futures why can’t we trade pasts - I could make money on trading the past\n",
      "**WILL BE WATCHING WOLF OF WALLSTREET STARTING AT 5PM PACIFIC TIME. JOIN IN IF YOU'D LIKE. GGGGGGGGGGGG**\n",
      "Just got a notification from tinder saying they \"expanded my age and distance settings\" so I get more matches. How about you fuck off I don't want to drive more than 15 miles for old pussy\n",
      "We need flairs for common DD posters that show a ratio of how many times they’ve been right. That way we know if they fucking suck or not\n",
      "Fucking bullshit holiday tomorrow..\n",
      "I’m watching Homeland so I guess that means I’m back in PLTR then.\n",
      "Your daily reminder that Belle Delphine sold her bath water for $25 a glass and people actually bought it.\n",
      "If the market crashes, will we all call each other retard bagholders?\n",
      "#Boys, [we got one](https://imgur.com/a/CaGx3qZ)\n",
      "\n",
      "Edit: Replied, “*My PP*”\n",
      "Gonna be tough to go into work tomorrow knowing the casino on my phone isn’t going to be open\n",
      "Real talk, I don't think I can describe how fucking debilitating depression can be. I'm almost in my 30s now and I basically spent years 18-25 with my head in the sand, abusing drugs in the hope I'd die. Nothing else mattered. Thing is tho, life keeps going and you get to a point where you realize you can't keep living your life half assed because it gets you absolutely nowhere and you have responsibilities. I missed out on life changing opportunities (investing in b t c, the 08 crash, etc.) because I was just so consumed by my depression. I'm still pretty depressed, but I don't allow it to consume my life. I know I don't wanna be here, but I don't let that stop me from improving my life like I once did. \n",
      "\n",
      "To anyone who feels like this, I get the struggle better than most. But chances are you're gonna survive thru it all, and still be here. Make sure when you come to that realization that you have something to show for it, because the future is coming whether you want it to or not.\n",
      "Stocks can go up or down but they will always go to the right.\n",
      "Best advice I heard from this sub is always sell anything CNBC is dishing out!\n",
      "\n",
      "Fuck you SEC and CNBC\n",
      "Tuesday will be the day for $SEARS.  I got a feeling.\n",
      "I wish RH would hurry up with those tax documents. I need to know how big my write off is going to be.\n",
      "Anyone holding ZOM for semi long term?\n",
      "Its actually amazing how good I am at fucking myself directly in the asshole. \n",
      "\n",
      "I bought $SPY puts for the 3 day weekend right before that huge green Shrek dick decimated my dry bussy.\n",
      "\n",
      "Power hour has never been more real.\n",
      "Wife’s boyfriend took away my phone, so I am browsing from the fridge.\n",
      "Such a great time to be in your twenties jfc\n",
      "1929 speculative stock frenzy all over again. \n",
      "You know the bubble peaked when the Uber driver is telling you what stocks to buy\n",
      "It’s dangerous how desensitized I am to gains and losses\n",
      "Don't care still holding APHA\n",
      "I made $75k off GME and I still haven’t fucked my hot boss yet.\n",
      "Wait until all these new autists learn about IV crush in the coming weeks. 🧐\n",
      "Spending the weekend smoking grass and eating ass\n",
      "Palentards UNITE\n",
      "I practice semen retention. I can hold my seed, I can hold my stocks. It's that simple.\n",
      "dear everyone at the irs, \n",
      "\n",
      "i love you. please process and approve my refund as soon as you can, so I can yolo my $1200 into some dipshit FD that will expire worthless\n",
      "\n",
      "thanks in gameboy advance, \n",
      "\n",
      "me\n",
      "Going to try and not lose 60% of my portfolio in a day again next week\n",
      "APHA LEAPs\n",
      "I will name my kid palantir if it hits $40 after earnings 🥰\n",
      "So, I was dumb awhile back(still am). I tried to buy FORD, F, turned out I bought Forward Industries for 2.73 , I just kept them cause eh, 10 shares.\n",
      "\n",
      "Its 7.20 now, I think people are buying it on accident as well now that they think the major play is Ford auto getting pushed by the biden admin EV America initiative. .\n",
      "\n",
      "Its only 10 shares, but I feel like I want to see how itll play out.\n",
      "\n",
      "Forward had an earnings call - [https://www.bloomberg.com/press-releases/2021-02-12/forward-reports-fiscal-2021-first-quarter-results](https://www.bloomberg.com/press-releases/2021-02-12/forward-reports-fiscal-2021-first-quarter-results)\n",
      "\n",
      "maybe thats why lol, I still think its cause people thought it was Ford Auto\n",
      "Is there anything in this market that isn’t overpriced right now? Truly feels like a bubble.\n",
      "Markets don’t open for another two days, so why do I keep checking my positions on my phone?\n",
      "Bought APHA at 22 and I feel like I got away with high way robbery. This week and the coming months will bring glory for weed. So many catalyst opportunities.\n",
      "I’m selling a Switch + games on FB marketplace and specified I was looking for $250. This guy messages me if I smoke weed and another guy asks me if he can trade in his Xbox 360 for it. What the fuck. Lmao\n",
      "Imagine still buying puts 😂😂\n",
      "\n",
      "r/gaybears just wanna lose money 🤦‍♂️\n",
      "I no longer like seeing my tickers being mentioned here and it makes me sad\n",
      "I'm calling it, CRSR is green all next week.\n",
      "When she calls you a good boy 🐶🐶🐶\n",
      "Is anyone just riding ARK ETFs for the long haul? I have a play account where I only trade options, and I have a big boy account where I buy shares with the intention of holding for a long time. I’m already slightly into PRNT and ARKQ in my long-term account but part of me just wants to get rid of my stock shares and go entirely into ARK ETFs and just let them sit for 30 years. Thoughts?\n",
      "I know what you did less than 20 mins ago. You opened your beloved brokerage account, didn’t you? And now you’re here.\n",
      "Majority of WSB saying PLTR tank after earnings which means PLTR jumps 35%.\n",
      "Can Kayleigh McEnany start an OnlyFans already\n",
      "Palantards are the best tards.\n",
      "20% of all the US dollars were printed in 2020\n",
      "\n",
      "bullish\n",
      "This place is one of the few places on the internet where I can go without dealing with a bunch of political bullshit. Thank you guys. I hope they don't take this from us.\n",
      "im 100% gay\n",
      "Fellas, is it gay to fuck your homie in the ass?\n",
      "Can we make some fuckin money this week or  is there going to be another retarded stock that moons and I go in at the top??\n",
      "This is why you spend your weekend in the weekend thread🏅\n",
      "Jerking off in the morning is a waste because there’s nothing left to look forward to.\n",
      "“And on Saturday the Redditors were plotting to crash the market in code. Discussing ass play and cum”. - CNBC\n",
      "Getting gold in this sub is as easier than hooking up with military wives.\n",
      "Feels like the old days in here. Shitposting, UFC and drunken gilding.\n",
      "Cramer Tuesday on Squawk: *I told you guys to pay attention to WallStreetBets, I lurked there Saturday night - lots of snakes on WallStreetBets Saturday night. You know what the snakes tell me? Buy Brissssssstol Meyerssssss 🤡*\n"
     ]
    },
    {
     "ename": "AttributeError",
     "evalue": "'MoreComments' object has no attribute 'body'",
     "output_type": "error",
     "traceback": [
      "\u001b[1;31m---------------------------------------------------------------------------\u001b[0m",
      "\u001b[1;31mAttributeError\u001b[0m                            Traceback (most recent call last)",
      "\u001b[1;32m<ipython-input-86-03ce4d4bc8a2>\u001b[0m in \u001b[0;36m<module>\u001b[1;34m\u001b[0m\n\u001b[0;32m      4\u001b[0m     \u001b[0mprint\u001b[0m\u001b[1;33m(\u001b[0m\u001b[0msubmission\u001b[0m\u001b[1;33m.\u001b[0m\u001b[0mcomments\u001b[0m\u001b[1;33m)\u001b[0m\u001b[1;33m\u001b[0m\u001b[1;33m\u001b[0m\u001b[0m\n\u001b[0;32m      5\u001b[0m     \u001b[1;32mfor\u001b[0m \u001b[0mcomment\u001b[0m \u001b[1;32min\u001b[0m \u001b[0mall_comments\u001b[0m\u001b[1;33m:\u001b[0m\u001b[1;33m\u001b[0m\u001b[1;33m\u001b[0m\u001b[0m\n\u001b[1;32m----> 6\u001b[1;33m         \u001b[0mprint\u001b[0m\u001b[1;33m(\u001b[0m\u001b[0mcomment\u001b[0m\u001b[1;33m.\u001b[0m\u001b[0mbody\u001b[0m\u001b[1;33m)\u001b[0m\u001b[1;33m\u001b[0m\u001b[1;33m\u001b[0m\u001b[0m\n\u001b[0m",
      "\u001b[1;31mAttributeError\u001b[0m: 'MoreComments' object has no attribute 'body'"
     ]
    }
   ],
   "source": [
    "submissions = reddit.subreddit('wallstreetbets').hot(limit=5)\n",
    "for submission in submissions:\n",
    "    all_comments = submission.comments.list()\n",
    "    print(submission.comments)\n",
    "    for comment in all_comments:\n",
    "        print(comment.body)"
   ]
  },
  {
   "cell_type": "markdown",
   "metadata": {
    "colab_type": "text",
    "id": "JvYEOesKKcl2"
   },
   "source": [
    "Referring to the API documentation, explore the submissions object and print some interesting data:"
   ]
  },
  {
   "cell_type": "code",
   "execution_count": 37,
   "metadata": {
    "colab": {},
    "colab_type": "code",
    "id": "glEShYZbKcl3"
   },
   "outputs": [
    {
     "name": "stdout",
     "output_type": "stream",
     "text": [
      "optimalg\n",
      "dorestes\n",
      "TJ_SP\n",
      "Trainrideviews\n",
      "Ganrokh\n"
     ]
    }
   ],
   "source": [
    "submissions = reddit.subreddit('politics').hot(limit=5)\n",
    "for submission in submissions:\n",
    "    print(submission.author)"
   ]
  },
  {
   "cell_type": "markdown",
   "metadata": {
    "colab_type": "text",
    "id": "Khno5kpWKcl5"
   },
   "source": [
    "#### Posting to Reddit"
   ]
  },
  {
   "cell_type": "markdown",
   "metadata": {
    "colab_type": "text",
    "id": "zjnyN1OfKcl6"
   },
   "source": [
    "To be able to post to your Reddit account (i.e. contribute submissions), you need to connect to the API with read/write privilege. This requires an *authorised instance*, which is obtained by including your Reddit user name and password in the connection request: "
   ]
  },
  {
   "cell_type": "code",
   "execution_count": 40,
   "metadata": {},
   "outputs": [],
   "source": [
    "path_auth = 'auth_reddit.json'\n",
    "auth = json.loads(open(path_auth).read())\n",
    "pp = pprint.PrettyPrinter(indent=4)\n",
    "# For debugging only:\n",
    "#pp.pprint(auth)\n",
    "\n",
    "my_user_agent = auth['my_user_agent']\n",
    "my_client_id = auth['my_client_id']\n",
    "my_client_secret = auth['my_client_secret']\n",
    "username = auth['username']\n",
    "password = auth['password']"
   ]
  },
  {
   "cell_type": "code",
   "execution_count": 49,
   "metadata": {
    "colab": {},
    "colab_type": "code",
    "id": "ZXG7kouZKcl7"
   },
   "outputs": [
    {
     "name": "stdout",
     "output_type": "stream",
     "text": [
      "False\n"
     ]
    }
   ],
   "source": [
    "reddit = praw.Reddit(client_id=my_client_id,\n",
    "                     client_secret=my_client_secret,\n",
    "                     user_agent=my_user_agent,\n",
    "                     username=username,\n",
    "                     password=password)\n",
    "print(reddit.read_only)  # Output: False"
   ]
  },
  {
   "cell_type": "markdown",
   "metadata": {
    "colab_type": "text",
    "id": "nEjrsF9vKcl-"
   },
   "source": [
    "You could hide these last two credentials by adding them to your JSON file and then reading all five values at once."
   ]
  },
  {
   "cell_type": "code",
   "execution_count": 51,
   "metadata": {
    "colab": {},
    "colab_type": "code",
    "id": "BVcbR0K1Kcl_"
   },
   "outputs": [
    {
     "name": "stdout",
     "output_type": "stream",
     "text": [
      "Times Square right now\n",
      "UPVOTE so everyone sees we got SUPPORT\n",
      "GME YOLO update — Jan 28 2021\n",
      "GME YOLO month-end update — Jan 2021\n",
      "CLASS ACTION AGAINST ROBINHOOD. Allowing people to only sell is the definition of market manipulation. A class action must be started, Robinhood has made plenty of money off selling info about our trades to the hedge funds to be able to pay out a little for causing people to loose money now\n",
      "It’s treason then\n",
      "Used some of my GME tendies to buy Nintendo Switches from Gamestop, then donated them to a Children's Hospital. Got featured on the local news and brought glory to WSB.\n",
      "IT'S POWER TO THE TRADERS NOW\n",
      "GME YOLO update — Jan 27 2021 --------------------------------------- guess i need 102 characters in title now\n",
      "GME YOLO update — Feb 1 2021\n"
     ]
    }
   ],
   "source": [
    "submissions = reddit.subreddit('wallstreetbets').top(\"all\",limit=10)\n",
    "for submission in submissions:\n",
    "    print(submission.title)"
   ]
  },
  {
   "cell_type": "code",
   "execution_count": 57,
   "metadata": {},
   "outputs": [
    {
     "name": "stdout",
     "output_type": "stream",
     "text": [
      "True\n",
      "False\n",
      "False\n",
      "False\n",
      "False\n",
      "False\n",
      "False\n",
      "False\n",
      "False\n",
      "False\n"
     ]
    }
   ],
   "source": [
    "submissions = reddit.subreddit('wallstreetbets').hot(limit=10)\n",
    "for submission in submissions:\n",
    "    print(submission.is_self)"
   ]
  },
  {
   "cell_type": "markdown",
   "metadata": {
    "colab_type": "text",
    "id": "WqBG4xS5Kk3X"
   },
   "source": [
    ">\n",
    ">\n"
   ]
  },
  {
   "cell_type": "markdown",
   "metadata": {
    "colab_type": "text",
    "id": "EfPDz2gEKnRn"
   },
   "source": [
    ">\n",
    ">\n"
   ]
  },
  {
   "cell_type": "markdown",
   "metadata": {
    "colab_type": "text",
    "id": "5Uo-KnYhKoRA"
   },
   "source": [
    "\n",
    "\n",
    "---\n",
    "\n",
    "\n",
    "\n",
    "---\n",
    "\n",
    "\n",
    "\n",
    "> > > > > > > > > © 2021 Institute of Data\n",
    "\n",
    "\n",
    "---\n",
    "\n",
    "\n",
    "\n",
    "---\n",
    "\n",
    "\n",
    "\n"
   ]
  }
 ],
 "metadata": {
  "colab": {
   "collapsed_sections": [],
   "name": "DSIA Lab 2.2.3.ipynb",
   "provenance": []
  },
  "kernelspec": {
   "display_name": "Python 3",
   "language": "python",
   "name": "python3"
  },
  "language_info": {
   "codemirror_mode": {
    "name": "ipython",
    "version": 3
   },
   "file_extension": ".py",
   "mimetype": "text/x-python",
   "name": "python",
   "nbconvert_exporter": "python",
   "pygments_lexer": "ipython3",
   "version": "3.8.5"
  }
 },
 "nbformat": 4,
 "nbformat_minor": 1
}
