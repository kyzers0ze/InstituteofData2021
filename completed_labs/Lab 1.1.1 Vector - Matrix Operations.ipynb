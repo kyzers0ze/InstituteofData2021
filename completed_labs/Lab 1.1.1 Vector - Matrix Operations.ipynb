{
 "cells": [
  {
   "cell_type": "markdown",
   "metadata": {
    "colab_type": "text",
    "id": "emj1GNgIT3CB"
   },
   "source": [
    "<div>\n",
    "<img src=https://www.institutedata.com/wp-content/uploads/2019/10/iod_h_tp_primary_c.svg width=\"300\">\n",
    "</div>"
   ]
  },
  {
   "cell_type": "markdown",
   "metadata": {
    "colab_type": "text",
    "id": "FvN6xzeyT3CC"
   },
   "source": [
    "1. Compute the scaler product of two vectors\n",
    "\n",
    "> In mathematics, the dot product or scalar product is an algebraic operation that takes two equal-length sequences of numbers (usually coordinate vectors) and returns a single number. \n",
    "\n",
    "> we can calculate it this way:\n",
    "\n",
    "        a · b = ax × bx + ay × by\n",
    "        \n",
    "Hint: [Dot Product](https://www.mathsisfun.com/algebra/vectors-dot-product.html)"
   ]
  },
  {
   "cell_type": "code",
   "execution_count": 2,
   "metadata": {
    "ExecuteTime": {
     "end_time": "2019-06-27T03:58:34.200170Z",
     "start_time": "2019-06-27T03:58:34.196182Z"
    },
    "colab": {},
    "colab_type": "code",
    "id": "JkwM7G3IT3CD"
   },
   "outputs": [],
   "source": [
    "import numpy as np"
   ]
  },
  {
   "cell_type": "code",
   "execution_count": 13,
   "metadata": {
    "ExecuteTime": {
     "end_time": "2019-06-27T04:56:56.317427Z",
     "start_time": "2019-06-27T04:56:56.313425Z"
    },
    "colab": {},
    "colab_type": "code",
    "id": "rsOPN02pT3CG"
   },
   "outputs": [
    {
     "name": "stdout",
     "output_type": "stream",
     "text": [
      "0\n",
      "True\n"
     ]
    }
   ],
   "source": [
    "a = [-12, 16]\n",
    "b = [12, 9]\n",
    "\n",
    "dot_product = a[0]*b[0] + a[1]*b[1]\n",
    "print(dot_product)\n",
    "print(dot_product == np.dot(a,b))"
   ]
  },
  {
   "cell_type": "markdown",
   "metadata": {
    "ExecuteTime": {
     "end_time": "2019-06-27T03:59:49.939731Z",
     "start_time": "2019-06-27T03:59:49.934711Z"
    },
    "colab_type": "text",
    "id": "cIamVopdT3CI"
   },
   "source": [
    "2. Compute the cross product of two vectors\n",
    "\n",
    "> When a and b start at the origin point (0,0,0), the Cross Product will end at:\n",
    "\n",
    "        cx = aybz − azby\n",
    "        cy = azbx − axbz\n",
    "        cz = axby − aybx\n",
    "        \n",
    "Hint: [Cross Product](https://www.mathsisfun.com/algebra/vectors-cross-product.html)"
   ]
  },
  {
   "cell_type": "code",
   "execution_count": 14,
   "metadata": {
    "ExecuteTime": {
     "end_time": "2019-06-27T04:56:59.994576Z",
     "start_time": "2019-06-27T04:56:59.987594Z"
    },
    "colab": {},
    "colab_type": "code",
    "id": "L9FjAAzNT3CJ"
   },
   "outputs": [
    {
     "name": "stdout",
     "output_type": "stream",
     "text": [
      "(-3, 6, -3) (3, -6, 3)\n",
      "[-3  6 -3] [ 3 -6  3]\n"
     ]
    }
   ],
   "source": [
    "#############  x y z   x  y z\n",
    "a = np.array([[1,2,3], [4,5,6]])\n",
    "b = np.array([[4,5,6], [1,2,3]])\n",
    "\n",
    "def cross_prod(ndarray):\n",
    "    \n",
    "    cross_prod_x = ndarray[0][1]*ndarray[1][2] - ndarray[0][2]*ndarray[1][1]\n",
    "    cross_prod_y = ndarray[0][2]*ndarray[1][0] - ndarray[0][0]*ndarray[1][2]\n",
    "    cross_prod_z = ndarray[0][0]*ndarray[1][1] - ndarray[0][1]*ndarray[1][0]\n",
    "    \n",
    "    return cross_prod_x,cross_prod_y,cross_prod_z\n",
    "\n",
    "print(cross_prod(a),cross_prod(b))\n",
    "print(np.cross(a[0],a[1]),np.cross(b[0],b[1]))"
   ]
  },
  {
   "cell_type": "markdown",
   "metadata": {
    "colab_type": "text",
    "id": "2M2dKNL-T3CL"
   },
   "source": [
    "3. Compute the Hademard product (entry-wise multiplication) of two vectors.\n",
    "\n",
    "> In mathematics, the Hadamard product (also known as the Schur product[1] or the entrywise product[2]:ch. 5) is a binary operation that takes two matrices of the same dimensions and produces another matrix of the same dimension as the operands where each element i, j is the product of elements i, j of the original two matrices. It should not be confused with the more common matrix product. It is attributed to, and named after, either French mathematician Jacques Hadamard or German mathematician Issai Schur. [Wiki](https://en.wikipedia.org/wiki/Hadamard_product_(matrices))\n",
    "\n",
    "![](https://wikimedia.org/api/rest_v1/media/math/render/svg/4eb9bb54b2820fb3583901ec05bc4b474b6d90bc)"
   ]
  },
  {
   "cell_type": "code",
   "execution_count": 16,
   "metadata": {
    "ExecuteTime": {
     "end_time": "2019-06-27T04:57:06.480263Z",
     "start_time": "2019-06-27T04:57:06.474279Z"
    },
    "colab": {},
    "colab_type": "code",
    "id": "WnDQY9MyT3CM"
   },
   "outputs": [
    {
     "name": "stdout",
     "output_type": "stream",
     "text": [
      "[[5, 12], [21, 32]]\n",
      "[[ 5 12]\n",
      " [21 32]]\n"
     ]
    }
   ],
   "source": [
    "a = np.array([[1,2],[3,4]])\n",
    "b = np.array([[5,6],[7,8]])\n",
    "\n",
    "hademard_prod = [[a[0][0]*b[0][0],a[0][1]*b[0][1]],\n",
    "                 [a[1][0]*b[1][0],a[1][1]*b[1][1]]]\n",
    "\n",
    "print(hademard_prod)\n",
    "print(np.multiply(a,b))"
   ]
  },
  {
   "cell_type": "markdown",
   "metadata": {
    "colab_type": "text",
    "id": "b1ZR2J8HT3CO"
   },
   "source": [
    "4. Compute the sum of two matrices.\n",
    "\n",
    "![](https://wikimedia.org/api/rest_v1/media/math/render/svg/0fb7845af355c550d44020e52699069c044126a9)"
   ]
  },
  {
   "cell_type": "code",
   "execution_count": 44,
   "metadata": {
    "ExecuteTime": {
     "end_time": "2019-06-27T04:57:13.225605Z",
     "start_time": "2019-06-27T04:57:13.214634Z"
    },
    "colab": {},
    "colab_type": "code",
    "id": "ulBVhGDET3CP"
   },
   "outputs": [
    {
     "data": {
      "text/plain": [
       "[[17, 15, 4], [10, 12, 9], [11, 13, 18]]"
      ]
     },
     "execution_count": 44,
     "metadata": {},
     "output_type": "execute_result"
    }
   ],
   "source": [
    "# Program to add two matrices using nested loop\n",
    "\n",
    "matrix_x = [[12,7,3],\n",
    "            [4 ,5,6],\n",
    "            [7 ,8,9]]\n",
    "\n",
    "matrix_y = [[5,8,1],\n",
    "            [6,7,3],\n",
    "            [4,5,9]]\n",
    "\n",
    "result = [[0,0,0],\n",
    "         [0,0,0],\n",
    "         [0,0,0]]\n",
    "\n",
    "for i in range(len(matrix_x)):\n",
    "    for j in range(len(matrix_x[0])):\n",
    "        result[i][j] = matrix_x[i][j] + matrix_y[i][j]\n",
    "        \n",
    "result"
   ]
  },
  {
   "cell_type": "markdown",
   "metadata": {
    "ExecuteTime": {
     "end_time": "2019-06-27T04:04:23.509007Z",
     "start_time": "2019-06-27T04:04:23.503018Z"
    },
    "colab_type": "text",
    "id": "CZFVdvEhT3CS"
   },
   "source": [
    "5. Compute the product of two matrices.\n",
    "\n",
    "![](https://upload.wikimedia.org/wikipedia/commons/e/eb/Matrix_multiplication_diagram_2.svg)"
   ]
  },
  {
   "cell_type": "code",
   "execution_count": 3,
   "metadata": {
    "ExecuteTime": {
     "end_time": "2019-06-27T04:57:19.425749Z",
     "start_time": "2019-06-27T04:57:19.412783Z"
    },
    "colab": {},
    "colab_type": "code",
    "id": "2cwCXjx_T3CT"
   },
   "outputs": [
    {
     "name": "stdout",
     "output_type": "stream",
     "text": [
      "[[114, 160, 60, 27], [74, 97, 73, 14], [119, 157, 112, 23]]\n"
     ]
    },
    {
     "data": {
      "text/plain": [
       "array([[114, 160,  60,  27],\n",
       "       [ 74,  97,  73,  14],\n",
       "       [119, 157, 112,  23]])"
      ]
     },
     "execution_count": 3,
     "metadata": {},
     "output_type": "execute_result"
    }
   ],
   "source": [
    "# Program to multiply two matrices using nested loops\n",
    "\n",
    "# 3x3 matrix\n",
    "matrix_a = [[12,7,3],\n",
    "            [4 ,5,6],\n",
    "            [7 ,8,9]]\n",
    "\n",
    "# 3x4 matrix\n",
    "matrix_b = [[5,8,1,2],\n",
    "            [6,7,3,0],\n",
    "            [4,5,9,1]]\n",
    "\n",
    "# result is 3x4\n",
    "result = [[0,0,0,0],\n",
    "         [0,0,0,0],\n",
    "         [0,0,0,0]]\n",
    "\n",
    "for y in range(len(matrix_a)):\n",
    "    for x in range(len(matrix_b[0])):\n",
    "        for z in range(len(matrix_a[0])):\n",
    "            result[y][x] = result[y][x] + matrix_a[y][z]*matrix_b[z][x]\n",
    "            \n",
    "        #result[y][x] = matrix_a[y][0]*matrix_b[0][x] + matrix_a[y][1]*matrix_b[1][x] + matrix_a[y][2]*matrix_b[2][x]\n",
    "        \n",
    "print(result)\n",
    "np.matmul(matrix_a,matrix_b)"
   ]
  },
  {
   "cell_type": "markdown",
   "metadata": {
    "colab_type": "text",
    "id": "zxe0vdBVT3CV"
   },
   "source": [
    "6. Compute the determinant of an n x n matrix.\n",
    "\n",
    "![](https://integratedmlai.com/wp-content/uploads/2018/12/Matrix_Det_2x2.png)\n",
    "\n",
    "Hint: [Find the Determinant of a Matrix with Pure Python without Numpy or Scipy](https://integratedmlai.com/find-the-determinant-of-a-matrix-with-pure-python-without-numpy-or-scipy/)\n",
    "\n",
    "Hint: Use \n",
    "> np.linalg.det"
   ]
  },
  {
   "cell_type": "code",
   "execution_count": 51,
   "metadata": {
    "ExecuteTime": {
     "end_time": "2019-06-27T04:58:00.140277Z",
     "start_time": "2019-06-27T04:58:00.135291Z"
    },
    "colab": {},
    "colab_type": "code",
    "id": "7SpAPh-5T3CW"
   },
   "outputs": [
    {
     "data": {
      "text/plain": [
       "18"
      ]
     },
     "execution_count": 51,
     "metadata": {},
     "output_type": "execute_result"
    }
   ],
   "source": [
    "matrix = [[-2,2,-3],\n",
    "          [-1,1,3],\n",
    "          [2,0,-1]]\n",
    "\n",
    "# a11 = matrix[0][0]\n",
    "# a12 = matrix[0][1]\n",
    "# a13 = matrix[0][2]\n",
    "\n",
    "# matrix_a11 = [matrix[1][1:],matrix[2][1:]]\n",
    "# matrix_a12 = [[matrix[1][0],matrix[1][2]],[matrix[2][0],matrix[2][2]]]\n",
    "# matrix_a13 = [matrix[1][:2],matrix[2][:2]]\n",
    "\n",
    "# def calc_det_matrix(matrix,det):\n",
    "    \n",
    "#     return (det * (matrix[0][0]*matrix[1][1] - matrix[1][0]*matrix[0][1]))\n",
    "\n",
    "# term_a11 = calc_det_matrix(matrix_a11,a11)\n",
    "# term_a12 = calc_det_matrix(matrix_a12,a12)\n",
    "# term_a13 = calc_det_matrix(matrix_a13,a13)\n",
    "\n",
    "# ans = term_a11 - term_a12 + term_a13\n",
    "\n",
    "# print(ans,np.linalg.det(matrix))\n",
    "\n",
    "def determinant_recursive(A, total=0):\n",
    "    # Section 1: store indices in list for row referencing\n",
    "    indices = list(range(len(A)))\n",
    "     \n",
    "    # Section 2: when at 2x2 submatrices recursive calls end\n",
    "    if len(A) == 2 and len(A[0]) == 2:\n",
    "        val = A[0][0] * A[1][1] - A[1][0] * A[0][1]\n",
    "        return val\n",
    " \n",
    "    # Section 3: define submatrix for focus column and \n",
    "    #      call this function\n",
    "    for fc in indices: # A) for each focus column, ...\n",
    "        # find the submatrix ...\n",
    "        As = A # B) make a copy, and ...\n",
    "        As = As[1:] # ... C) remove the first row\n",
    "        height = len(As) # D) \n",
    " \n",
    "        for i in range(height): \n",
    "            # E) for each remaining row of submatrix ...\n",
    "            #     remove the focus column elements\n",
    "            As[i] = As[i][0:fc] + As[i][fc+1:] \n",
    "\n",
    "        sign = (-1) ** (fc % 2) # F) \n",
    "        # G) pass submatrix recursively\n",
    "        sub_det = determinant_recursive(As)\n",
    "        # H) total all returns from recursion\n",
    "        total += sign * A[0][fc] * sub_det \n",
    " \n",
    "    return total\n",
    "\n",
    "determinant_recursive(matrix)"
   ]
  },
  {
   "cell_type": "markdown",
   "metadata": {
    "colab_type": "text",
    "id": "vUC6L5r1T3Ca"
   },
   "source": [
    "7. Compute the inverse of an n x n matrix.\n",
    "\n",
    "For a 3×3 matrix\n",
    "\n",
    "![](http://mathworld.wolfram.com/images/equations/MatrixInverse/NumberedEquation3.gif)\n",
    "\n",
    "the matrix inverse is\n",
    "\n",
    "![](http://mathworld.wolfram.com/images/equations/MatrixInverse/NumberedEquation4.gif)\n",
    "\n",
    "Hint: Use \n",
    "> from numpy.linalg import inv"
   ]
  },
  {
   "cell_type": "code",
   "execution_count": 42,
   "metadata": {
    "ExecuteTime": {
     "end_time": "2019-06-27T04:58:33.615832Z",
     "start_time": "2019-06-27T04:58:33.609848Z"
    },
    "colab": {},
    "colab_type": "code",
    "id": "qGxUYlMWT3Cb"
   },
   "outputs": [
    {
     "name": "stdout",
     "output_type": "stream",
     "text": [
      "[[-2.   1. ]\n",
      " [ 1.5 -0.5]]\n"
     ]
    },
    {
     "data": {
      "text/plain": [
       "array([[-2. ,  1. ],\n",
       "       [ 1.5, -0.5]])"
      ]
     },
     "execution_count": 42,
     "metadata": {},
     "output_type": "execute_result"
    }
   ],
   "source": [
    "a = np.array([[1., 2.], \n",
    "              [3., 4.]])\n",
    "\n",
    "det_a = a[0][0]*a[1][1] - a[0][1]*a[1][0]\n",
    "\n",
    "det_inv_a = 1 / det_a\n",
    "\n",
    "adj_a = [[a[1][1],-a[0][1]],\n",
    "        [-a[1][0],a[0][0]]]\n",
    "\n",
    "adj_a = np.array(adj_a)\n",
    "\n",
    "inv_a = det_inv_a * adj_a\n",
    "\n",
    "print(inv_a)\n",
    "\n",
    "np.linalg.inv(a)"
   ]
  },
  {
   "cell_type": "markdown",
   "metadata": {
    "colab_type": "text",
    "id": "f52z_umQpL1V"
   },
   "source": [
    "\n",
    "\n",
    "---\n",
    "\n",
    "\n",
    "\n",
    "---\n",
    "\n",
    "\n",
    "\n",
    "> > > > > > > > > © 2021 Institute of Data\n",
    "\n",
    "\n",
    "---\n",
    "\n",
    "\n",
    "\n",
    "---\n",
    "\n",
    "\n",
    "\n"
   ]
  }
 ],
 "metadata": {
  "colab": {
   "collapsed_sections": [],
   "name": "Lab 1.1.1 Vector & Matrix Operations .ipynb",
   "provenance": []
  },
  "kernelspec": {
   "display_name": "Python 3",
   "language": "python",
   "name": "python3"
  },
  "language_info": {
   "codemirror_mode": {
    "name": "ipython",
    "version": 3
   },
   "file_extension": ".py",
   "mimetype": "text/x-python",
   "name": "python",
   "nbconvert_exporter": "python",
   "pygments_lexer": "ipython3",
   "version": "3.8.5"
  }
 },
 "nbformat": 4,
 "nbformat_minor": 1
}
